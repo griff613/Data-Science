{
 "cells": [
  {
   "cell_type": "code",
   "execution_count": 1,
   "metadata": {},
   "outputs": [],
   "source": [
    "import pandas as pd\n",
    "import numpy as np\n",
    "import math as m\n",
    "import matplotlib.pylab as plt\n",
    "import networkx as nx\n",
    "import scipy.stats as norm\n",
    "%matplotlib inline"
   ]
  },
  {
   "cell_type": "code",
   "execution_count": 2,
   "metadata": {},
   "outputs": [
    {
     "name": "stdout",
     "output_type": "stream",
     "text": [
      "8.02\n"
     ]
    }
   ],
   "source": [
    "die = np.array([1,2,3,4,5,6])\n",
    "rollsUntil6 = []\n",
    "sumDice = 0\n",
    "ctr = 0\n",
    "\n",
    "for i in range(100):\n",
    "    while(True):\n",
    "        ctr+=1\n",
    "        roll1 = np.random.choice(die)\n",
    "        roll2 = np.random.choice(die)\n",
    "        sumDice = roll1 + roll2\n",
    "        if(sumDice == 6):\n",
    "            rollsUntil6.append(ctr)\n",
    "            ctr = 0\n",
    "            break\n",
    "            \n",
    "        \n",
    "\n",
    "print(sum(rollsUntil6)/100)\n"
   ]
  },
  {
   "cell_type": "code",
   "execution_count": 3,
   "metadata": {},
   "outputs": [
    {
     "name": "stdout",
     "output_type": "stream",
     "text": [
      "0.0\n"
     ]
    }
   ],
   "source": [
    "a = 12000\n",
    "y = norm.norm.pdf(80,a,65)\n",
    "\n",
    "print(y)"
   ]
  },
  {
   "cell_type": "code",
   "execution_count": 27,
   "metadata": {},
   "outputs": [
    {
     "data": {
      "text/plain": [
       "(array([1., 2., 2., 3., 1., 2.]),\n",
       " array([-0.5,  1.5,  3.5,  5.5,  7.5,  9.5, 11.5]),\n",
       " <a list of 6 Patch objects>)"
      ]
     },
     "execution_count": 27,
     "metadata": {},
     "output_type": "execute_result"
    },
    {
     "data": {
      "image/png": "[encoded data removed]",
      "text/plain": [
       "<Figure size 720x432 with 1 Axes>"
      ]
     },
     "metadata": {
      "needs_background": "light"
     },
     "output_type": "display_data"
    }
   ],
   "source": [
    "fig, ax = plt.subplots(figsize=(10,6))\n",
    "a = np.array([1,3,3,5,5,6,6,7,8,10,11])\n",
    "\n",
    "myBins = [-0.5, 1.5, 3.5,5.5,7.5,9.5,11.5]\n",
    "plt.hist(a, bins = myBins)"
   ]
  }
 ],
 "metadata": {
  "kernelspec": {
   "display_name": "Python 3",
   "language": "python",
   "name": "python3"
  },
  "language_info": {
   "codemirror_mode": {
    "name": "ipython",
    "version": 3
   },
   "file_extension": ".py",
   "mimetype": "text/x-python",
   "name": "python",
   "nbconvert_exporter": "python",
   "pygments_lexer": "ipython3",
   "version": "3.7.3"
  }
 },
 "nbformat": 4,
 "nbformat_minor": 4
}
