{
 "cells": [
  {
   "cell_type": "markdown",
   "metadata": {
    "colab": {},
    "colab_type": "code",
    "id": "BS8MMfdE1LYW"
   },
   "source": [
    "### Cool Math stuff"
   ]
  },
  {
   "cell_type": "code",
   "execution_count": null,
   "metadata": {
    "colab": {},
    "colab_type": "code",
    "id": "dZ2b3ZIk1LYC"
   },
   "outputs": [],
   "source": [
    "# raising to powers (exponentiating)\n",
    "y**2"
   ]
  },
  {
   "cell_type": "code",
   "execution_count": null,
   "metadata": {
    "colab": {},
    "colab_type": "code",
    "id": "CNFzhL4h1LYH"
   },
   "outputs": [],
   "source": [
    "# integer division\n",
    "x//y\n",
    "x%y # the remainder when x is divided by y"
   ]
  },
  {
   "cell_type": "code",
   "execution_count": null,
   "metadata": {
    "colab": {},
    "colab_type": "code",
    "id": "RElB2QUm1LYP"
   },
   "outputs": [],
   "source": [
    "# you must preface the functions with the package name\n",
    "math.pi"
   ]
  },
  {
   "cell_type": "code",
   "execution_count": null,
   "metadata": {
    "colab": {},
    "colab_type": "code",
    "id": "14oZmdp31LYR"
   },
   "outputs": [],
   "source": [
    "math.sin(1)"
   ]
  },
  {
   "cell_type": "code",
   "execution_count": null,
   "metadata": {
    "colab": {},
    "colab_type": "code",
    "id": "RvXi7VRZ1LYT"
   },
   "outputs": [],
   "source": [
    "# and if you don't like how cumbersome that is, there is a solution!\n",
    "from math import pi"
   ]
  },
  {
   "cell_type": "code",
   "execution_count": null,
   "metadata": {
    "colab": {},
    "colab_type": "code",
    "id": "BS8MMfdE1LYW"
   },
   "outputs": [],
   "source": [
    "pi"
   ]
  },
  {
   "cell_type": "markdown",
   "metadata": {
    "colab": {},
    "colab_type": "code",
    "id": "BS8MMfdE1LYW"
   },
   "source": [
    "### Strings"
   ]
  },
  {
   "cell_type": "code",
   "execution_count": null,
   "metadata": {
    "colab": {},
    "colab_type": "code",
    "id": "n3WZxg3c1LYY"
   },
   "outputs": [],
   "source": [
    "creature1 = 'eagle'\n",
    "creature2 = 'wolf'\n",
    "\n",
    "crime_against_nature = creature1 + creature2\n",
    "\n",
    "print(crime_against_nature)"
   ]
  },
  {
   "cell_type": "markdown",
   "metadata": {
    "colab": {},
    "colab_type": "code",
    "id": "BS8MMfdE1LYW"
   },
   "source": [
    "### String Slicing"
   ]
  },
  {
   "cell_type": "code",
   "execution_count": null,
   "metadata": {
    "colab": {},
    "colab_type": "code",
    "id": "tPkDu_F21LYe"
   },
   "outputs": [],
   "source": [
    "date = '08Aug2018'"
   ]
  },
  {
   "cell_type": "code",
   "execution_count": null,
   "metadata": {
    "colab": {},
    "colab_type": "code",
    "id": "83YgL7mz1LYg"
   },
   "outputs": [],
   "source": [
    "day = date[0:2]  # python is 0-based\n",
    "month = date[2:5]\n",
    "year = date[5:]"
   ]
  },
  {
   "cell_type": "code",
   "execution_count": null,
   "metadata": {
    "colab": {},
    "colab_type": "code",
    "id": "vQawx08W1LYl"
   },
   "outputs": [],
   "source": [
    "print(day,month,year)"
   ]
  },
  {
   "cell_type": "code",
   "execution_count": null,
   "metadata": {
    "colab": {},
    "colab_type": "code",
    "id": "y_DBA1v21LYn"
   },
   "outputs": [],
   "source": [
    "#\n",
    "tomorrow = int(day) + 1\n",
    "print(\"{:03.0f} {} {}\".format(tomorrow, month, year))"
   ]
  },
  {
   "cell_type": "code",
   "execution_count": null,
   "metadata": {
    "colab": {},
    "colab_type": "code",
    "id": "vt6y88K21LYq"
   },
   "outputs": [],
   "source": [
    "# or like a neanderthal, if that's your thing\n",
    "print(tomorrow,month,year)"
   ]
  },
  {
   "cell_type": "markdown",
   "metadata": {
    "colab_type": "text",
    "id": "5X1Ki8QS1LYr"
   },
   "source": [
    "### Lists\n",
    "\n",
    "Lists are the most basic form of array-like object in Python."
   ]
  },
  {
   "cell_type": "code",
   "execution_count": null,
   "metadata": {
    "colab": {},
    "colab_type": "code",
    "id": "wMMFOOoQ1LYs"
   },
   "outputs": [],
   "source": [
    "x = [2,1,5,'squid']\n",
    "x.append(2)\n",
    "x.append(2)\n",
    "x.append((\"a\",\"b\"))\n",
    "\n",
    "print(x)"
   ]
  },
  {
   "cell_type": "code",
   "execution_count": null,
   "metadata": {
    "colab": {},
    "colab_type": "code",
    "id": "zf-90TaI1LYu"
   },
   "outputs": [],
   "source": [
    "# remember, Python indexing starts at 0\n",
    "x[0]"
   ]
  },
  {
   "cell_type": "code",
   "execution_count": null,
   "metadata": {
    "colab": {},
    "colab_type": "code",
    "id": "2YAJmo2r1LYv"
   },
   "outputs": [],
   "source": [
    "# and array/list slicing in Python ending index in EXCLUSIVE,\n",
    "# but the beginning index is INCLUSIVE\n",
    "x[1:3]"
   ]
  },
  {
   "cell_type": "code",
   "execution_count": null,
   "metadata": {
    "colab": {},
    "colab_type": "code",
    "id": "leJ0IFLk1LYz"
   },
   "outputs": [],
   "source": [
    "x[-2]"
   ]
  },
  {
   "cell_type": "code",
   "execution_count": null,
   "metadata": {
    "colab": {},
    "colab_type": "code",
    "id": "BUshYaJZ1LY0"
   },
   "outputs": [],
   "source": [
    "x[-2:]"
   ]
  },
  {
   "cell_type": "markdown",
   "metadata": {
    "colab": {},
    "colab_type": "code",
    "id": "BS8MMfdE1LYW"
   },
   "source": [
    "### Generally cool"
   ]
  },
  {
   "cell_type": "code",
   "execution_count": 9,
   "metadata": {
    "colab": {},
    "colab_type": "code",
    "id": "PMFVVGCl1LYx"
   },
   "outputs": [
    {
     "ename": "NameError",
     "evalue": "name 'x' is not defined",
     "output_type": "error",
     "traceback": [
      "\u001b[0;31m---------------------------------------------------------------------------\u001b[0m",
      "\u001b[0;31mNameError\u001b[0m                                 Traceback (most recent call last)",
      "\u001b[0;32m<ipython-input-9-d9f8c636e248>\u001b[0m in \u001b[0;36m<module>\u001b[0;34m()\u001b[0m\n\u001b[1;32m      1\u001b[0m \u001b[0;31m# you can even reference elements from the end of the list!\u001b[0m\u001b[0;34m\u001b[0m\u001b[0;34m\u001b[0m\u001b[0;34m\u001b[0m\u001b[0m\n\u001b[0;32m----> 2\u001b[0;31m \u001b[0mx\u001b[0m\u001b[0;34m[\u001b[0m\u001b[0;34m-\u001b[0m\u001b[0;36m1\u001b[0m\u001b[0;34m]\u001b[0m\u001b[0;34m\u001b[0m\u001b[0;34m\u001b[0m\u001b[0m\n\u001b[0m",
      "\u001b[0;31mNameError\u001b[0m: name 'x' is not defined"
     ]
    }
   ],
   "source": [
    "# you can even reference elements from the end of the list!\n",
    "x[-1]"
   ]
  },
  {
   "cell_type": "markdown",
   "metadata": {
    "colab_type": "text",
    "id": "-pSNuyS51LY3"
   },
   "source": [
    "### if/else and logical operators"
   ]
  },
  {
   "cell_type": "code",
   "execution_count": null,
   "metadata": {
    "colab": {},
    "colab_type": "code",
    "id": "y9KwPmps1LY3"
   },
   "outputs": [],
   "source": [
    "x = 5"
   ]
  },
  {
   "cell_type": "code",
   "execution_count": null,
   "metadata": {
    "colab": {},
    "colab_type": "code",
    "id": "8RMussLF1LY6"
   },
   "outputs": [],
   "source": [
    "if round(x/2)==x/2: # \n",
    "    print('x is even!')\n",
    "else:\n",
    "    print('x is odd!')"
   ]
  },
  {
   "cell_type": "markdown",
   "metadata": {
    "colab_type": "text",
    "id": "POtzrxXJ1LY7"
   },
   "source": [
    "The `int` function versus the `round` function"
   ]
  },
  {
   "cell_type": "code",
   "execution_count": null,
   "metadata": {
    "colab": {},
    "colab_type": "code",
    "id": "I8QCEw4w1LY8"
   },
   "outputs": [],
   "source": [
    "round(5.67)"
   ]
  },
  {
   "cell_type": "code",
   "execution_count": null,
   "metadata": {
    "colab": {},
    "colab_type": "code",
    "id": "I8QCEw4w1LY8"
   },
   "outputs": [],
   "source": [
    "round(5.49999)"
   ]
  },
  {
   "cell_type": "markdown",
   "metadata": {
    "colab_type": "text",
    "id": "OtAzEdon1LY-"
   },
   "source": [
    "### Loops\n",
    "\n",
    "You can loop over indices like you would in C++ or Fortran (if you are suitably tough) by using `range`. Note that `range(3)` makes use of the fact that Python is 0-based and will loop over something of length 3: [0, 1, 2]"
   ]
  },
  {
   "cell_type": "code",
   "execution_count": null,
   "metadata": {
    "colab": {},
    "colab_type": "code",
    "id": "CVaYqPW31LY-"
   },
   "outputs": [],
   "source": [
    "for i in range(3):\n",
    "    print(i)"
   ]
  },
  {
   "cell_type": "code",
   "execution_count": null,
   "metadata": {
    "colab": {},
    "colab_type": "code",
    "id": "2vW8fvkj1LZA"
   },
   "outputs": [],
   "source": [
    "print(list(range(3)))"
   ]
  },
  {
   "cell_type": "markdown",
   "metadata": {
    "colab_type": "text",
    "id": "GbPgAtwY1LZC"
   },
   "source": [
    "You can also loop over the elements of a list:"
   ]
  },
  {
   "cell_type": "code",
   "execution_count": null,
   "metadata": {
    "colab": {},
    "colab_type": "code",
    "id": "gE5XpYRm1LZC"
   },
   "outputs": [],
   "source": [
    "x = [2, 7, -153, 'octopus']\n",
    "\n",
    "for xi in x:\n",
    "    print(xi)"
   ]
  },
  {
   "cell_type": "code",
   "execution_count": null,
   "metadata": {
    "colab": {},
    "colab_type": "code",
    "id": "7oKkipYG1LZE"
   },
   "outputs": [],
   "source": [
    "# or just loop over the indices\n",
    "for i in range(len(x)):\n",
    "    print(x[i])"
   ]
  },
  {
   "cell_type": "code",
   "execution_count": null,
   "metadata": {
    "colab": {},
    "colab_type": "code",
    "id": "2xecA86N1LZG"
   },
   "outputs": [],
   "source": [
    "list(range(1,5))"
   ]
  },
  {
   "cell_type": "markdown",
   "metadata": {
    "colab_type": "text",
    "id": "26AHQ_vk1LZI"
   },
   "source": [
    "### Defining functions"
   ]
  },
  {
   "cell_type": "markdown",
   "metadata": {
    "colab_type": "text",
    "id": "-wH9_B5l1LZI"
   },
   "source": [
    "I love numbers, but bigger numbers are nice. So let's write a function to add one to a number."
   ]
  },
  {
   "cell_type": "code",
   "execution_count": null,
   "metadata": {
    "colab": {},
    "colab_type": "code",
    "id": "6TgjxdFQ1LZI"
   },
   "outputs": [],
   "source": [
    "def plus_one_easy(x):\n",
    "    '''   <-- this initial comment is a docstring. Use the tab-completion to witness its FULL POWERS\n",
    "    Input:\n",
    "    x = a number\n",
    "    Output:\n",
    "    y = a number that is x+1\n",
    "    '''\n",
    "    \n"
   ]
  },
  {
   "cell_type": "markdown",
   "metadata": {
    "colab_type": "text",
    "id": "PJs4S-as1LZK"
   },
   "source": [
    "What if we make it a little trickier?"
   ]
  },
  {
   "cell_type": "code",
   "execution_count": null,
   "metadata": {
    "colab": {},
    "colab_type": "code",
    "id": "K-CPllH71LZK"
   },
   "outputs": [],
   "source": [
    "def plus_one(x):\n",
    "    '''\n",
    "    Input:\n",
    "    x = a list\n",
    "    Output:\n",
    "    y = a list of same length as x, where each element is one more than the corresponding element of x\n",
    "    '''\n",
    "\n",
    "    # TODO\n",
    "    "
   ]
  },
  {
   "cell_type": "markdown",
   "metadata": {
    "colab_type": "text",
    "id": "QLikljV31LZN"
   },
   "source": [
    "### Quick note about variable scope\n",
    "\n",
    "If I define a quantity within a function, _generally_ Python **does not know** about that variable outside of the function (there are ways around this)."
   ]
  },
  {
   "cell_type": "code",
   "execution_count": 8,
   "metadata": {
    "colab": {},
    "colab_type": "code",
    "id": "RoMxmHz01LZN"
   },
   "outputs": [
    {
     "ename": "NameError",
     "evalue": "name 't' is not defined",
     "output_type": "error",
     "traceback": [
      "\u001b[0;31m---------------------------------------------------------------------------\u001b[0m",
      "\u001b[0;31mNameError\u001b[0m                                 Traceback (most recent call last)",
      "\u001b[0;32m<ipython-input-8-e66459b52cc6>\u001b[0m in \u001b[0;36m<module>\u001b[0;34m()\u001b[0m\n\u001b[1;32m      2\u001b[0m     \u001b[0mt\u001b[0m\u001b[0;34m=\u001b[0m\u001b[0;36m10\u001b[0m\u001b[0;34m\u001b[0m\u001b[0;34m\u001b[0m\u001b[0m\n\u001b[1;32m      3\u001b[0m \u001b[0;34m\u001b[0m\u001b[0m\n\u001b[0;32m----> 4\u001b[0;31m \u001b[0mt\u001b[0m \u001b[0;34m+\u001b[0m \u001b[0;36m1\u001b[0m\u001b[0;34m\u001b[0m\u001b[0;34m\u001b[0m\u001b[0m\n\u001b[0m",
      "\u001b[0;31mNameError\u001b[0m: name 't' is not defined"
     ]
    }
   ],
   "source": [
    "def fun():\n",
    "    t=10\n",
    "    \n",
    "t + 1\n",
    "\n",
    "## Can't access global vars by calling outside\n",
    "''' See error below"
   ]
  },
  {
   "cell_type": "markdown",
   "metadata": {
    "colab_type": "text",
    "id": "iezYlhB41LZP"
   },
   "source": [
    "---\n",
    "# BONUS MATERIAL!"
   ]
  },
  {
   "cell_type": "markdown",
   "metadata": {
    "colab_type": "text",
    "id": "O4UNBeAI1LZP"
   },
   "source": [
    "This achieves the same thing as the list version of `plus_one`, but does so with what is called a `list comprehension`. List comprehensions are powerful magic, and can make for much more readable and efficient code."
   ]
  },
  {
   "cell_type": "code",
   "execution_count": null,
   "metadata": {
    "colab": {},
    "colab_type": "code",
    "id": "nRS5mA3e1LZQ"
   },
   "outputs": [],
   "source": [
    "def plus_one_reboot(x):\n",
    "\n",
    "    # TODO\n",
    "    "
   ]
  },
  {
   "cell_type": "code",
   "execution_count": null,
   "metadata": {
    "colab": {},
    "colab_type": "code",
    "id": "YPAHR3aB1LZR"
   },
   "outputs": [],
   "source": [
    "plus_one_reboot([1,2,5,-10])"
   ]
  },
  {
   "cell_type": "markdown",
   "metadata": {
    "colab_type": "text",
    "id": "w6aT0AmK1LZT"
   },
   "source": [
    "As a final note, we could just stick it all together on one line in the `return` statement."
   ]
  },
  {
   "cell_type": "code",
   "execution_count": null,
   "metadata": {
    "colab": {},
    "colab_type": "code",
    "id": "FwLEPzXN1LZU"
   },
   "outputs": [],
   "source": [
    "def plus_one_reboot_again(x):\n",
    "\n",
    "    # TODO\n",
    "    "
   ]
  },
  {
   "cell_type": "code",
   "execution_count": null,
   "metadata": {
    "colab": {},
    "colab_type": "code",
    "id": "73iGSTOD1LZW"
   },
   "outputs": [],
   "source": [
    "plus_one_reboot_again([1,2,5,-10])"
   ]
  },
  {
   "cell_type": "markdown",
   "metadata": {
    "colab_type": "text",
    "id": "yIZr7Cmn1LZY"
   },
   "source": [
    "Ah, just kidding. One more bit.\n",
    "\n",
    "Here's how to use `assert` statements to make sure things are what they should be! This is great for things like type checking and making sure input to your functions is as it should be."
   ]
  },
  {
   "cell_type": "code",
   "execution_count": null,
   "metadata": {
    "colab": {},
    "colab_type": "code",
    "id": "L5HnJ6Pq1LZY"
   },
   "outputs": [],
   "source": [
    "x = [1,2,5,-10]\n",
    "x_plus_one = [2,3,6,-9]\n",
    "\n",
    "assert plus_one(x)==x_plus_one, \"Something is wrong!\"\n",
    "assert plus_one_reboot(x)==x_plus_one, \"Something is wrong!\"\n",
    "assert plus_one_reboot_again(x)==x_plus_one, \"Something is wrong!\""
   ]
  },
  {
   "cell_type": "markdown",
   "metadata": {
    "colab_type": "text",
    "id": "p3OLfopb1LZb"
   },
   "source": [
    "Here's what should happen if things are wrong:"
   ]
  },
  {
   "cell_type": "code",
   "execution_count": null,
   "metadata": {
    "colab": {},
    "colab_type": "code",
    "id": "ognCVJ2q1LZc"
   },
   "outputs": [],
   "source": [
    "assert plus_one(x)==x_plus_one, \"Something is wrong!\"\n",
    "assert plus_one_reboot(x)==0, \"Something is wrong!\"\n",
    "assert plus_one_reboot_again(x)==x_plus_one, \"Something is wrong!\""
   ]
  },
  {
   "cell_type": "code",
   "execution_count": null,
   "metadata": {
    "colab": {},
    "colab_type": "code",
    "id": "9yBbSqoh1LZe"
   },
   "outputs": [],
   "source": []
  }
 ],
 "metadata": {
  "colab": {
   "name": "nb00_python_question_mark.ipynb",
   "provenance": [],
   "toc_visible": true
  },
  "kernelspec": {
   "display_name": "Python 3",
   "language": "python",
   "name": "python3"
  },
  "language_info": {
   "codemirror_mode": {
    "name": "ipython",
    "version": 3
   },
   "file_extension": ".py",
   "mimetype": "text/x-python",
   "name": "python",
   "nbconvert_exporter": "python",
   "pygments_lexer": "ipython3",
   "version": "3.7.3"
  }
 },
 "nbformat": 4,
 "nbformat_minor": 4
}
