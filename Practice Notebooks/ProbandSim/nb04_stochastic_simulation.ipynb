{
 "cells": [
  {
   "cell_type": "markdown",
   "metadata": {
    "colab_type": "text",
    "id": "D-59LqI11QNS"
   },
   "source": [
    "# Notebook 4: Probability Intuition and Random Simulation \n",
    "***\n",
    "\n",
    "In this notebook you'll see how we can use Numpy to run simple probability simulations to estimate probabilities and  to gain intuition about random processes and to check your pencil and paper work.  \n",
    "\n",
    "We'll need Numpy and Matplotlib for this notebook, so let's load and setup those libraries. "
   ]
  },
  {
   "cell_type": "code",
   "execution_count": 1,
   "metadata": {
    "colab": {},
    "colab_type": "code",
    "id": "ivXz9FJi1QNT"
   },
   "outputs": [],
   "source": [
    "import numpy as np \n",
    "import matplotlib.pylab as plt\n",
    "%matplotlib inline"
   ]
  },
  {
   "cell_type": "markdown",
   "metadata": {
    "colab_type": "text",
    "id": "Brdwfq_X1QNX"
   },
   "source": [
    "### Estimating Simple Probabilities \n",
    "*** \n",
    "\n",
    "In this example we'll see how we can use the Numpy function [random.choice](https://docs.scipy.org/doc/numpy/reference/generated/numpy.random.choice.html) to make random draws from a sample space and estimate the probability of certain random events. As a simple example, consider a fair coin.  We can represent the sample space for this coin with a Numpy array with two entries: \"H\" and \"T\""
   ]
  },
  {
   "cell_type": "code",
   "execution_count": 2,
   "metadata": {
    "colab": {},
    "colab_type": "code",
    "id": "jpmovZse1QNX",
    "outputId": "dc327085-113e-42e1-ac20-cd1aae44247d"
   },
   "outputs": [
    {
     "name": "stdout",
     "output_type": "stream",
     "text": [
      "['H' 'T']\n"
     ]
    }
   ],
   "source": [
    "coin = np.array([\"H\", \"T\"])\n",
    "print(coin)"
   ]
  },
  {
   "cell_type": "markdown",
   "metadata": {
    "colab_type": "text",
    "id": "9r1d_Zg11QNb"
   },
   "source": [
    "We can simulate flipping the coin using np.random.choice, which returns a randomly selected entry from a Numpy array.  If no optional parameters are passed in, np.random.choice assigns an **equal probability** to each entry of the array.   "
   ]
  },
  {
   "cell_type": "code",
   "execution_count": 3,
   "metadata": {},
   "outputs": [
    {
     "name": "stdout",
     "output_type": "stream",
     "text": [
      "3\n",
      "T\n"
     ]
    }
   ],
   "source": [
    "# Die Roll\n",
    "die = np.array([1, 2, 3, 4, 5, 6])\n",
    "print(np.random.choice(die))\n",
    "\n",
    "# Coin Flip\n",
    "coin = np.array(['H', 'T'])\n",
    "print (np.random.choice(coin))"
   ]
  },
  {
   "cell_type": "code",
   "execution_count": 4,
   "metadata": {
    "colab": {},
    "colab_type": "code",
    "id": "K_KySyzY1QNb",
    "outputId": "17703887-4598-403b-eaed-0896a64c10b6"
   },
   "outputs": [
    {
     "name": "stdout",
     "output_type": "stream",
     "text": [
      "T H T H T T H T T T "
     ]
    }
   ],
   "source": [
    "for ii in range(10):\n",
    "    print(np.random.choice(coin), end=\" \")"
   ]
  },
  {
   "cell_type": "markdown",
   "metadata": {
    "colab_type": "text",
    "id": "WaCc5ISz1QNe"
   },
   "source": [
    "We can simulate many flips of the coin and store the results in an array by passing the size parameter to np.random.choice. "
   ]
  },
  {
   "cell_type": "code",
   "execution_count": 5,
   "metadata": {
    "colab": {},
    "colab_type": "code",
    "id": "kgeQDugt1QNf",
    "outputId": "db57599f-0c73-4564-b217-7bdb4c93a1c6"
   },
   "outputs": [
    {
     "name": "stdout",
     "output_type": "stream",
     "text": [
      "['H' 'H' 'T' 'T' 'H' 'H' 'H' 'H' 'H' 'T']\n"
     ]
    }
   ],
   "source": [
    "flips = np.random.choice(coin, size=10)\n",
    "print(flips)"
   ]
  },
  {
   "cell_type": "markdown",
   "metadata": {
    "colab_type": "text",
    "id": "GhTQGftX1QNh"
   },
   "source": [
    "Now suppose we want to run a simple simulation to estimate the probability  that the coin comes up Heads (which we expect to be $0.5$ because the coin is fair).  One way to do this is to do a large number of coin flips and then divide the number of flips that come up Heads by the total number of flips. The following code flips the coin 50 times and computes the desired ratio: "
   ]
  },
  {
   "cell_type": "code",
   "execution_count": 6,
   "metadata": {},
   "outputs": [
    {
     "data": {
      "text/plain": [
       "3"
      ]
     },
     "execution_count": 6,
     "metadata": {},
     "output_type": "execute_result"
    }
   ],
   "source": [
    "np.random.seed(200)\n",
    "np.random.choice([1, 2, 3, 4, 5, 6])"
   ]
  },
  {
   "cell_type": "code",
   "execution_count": 7,
   "metadata": {
    "colab": {},
    "colab_type": "code",
    "id": "Tm3TDyoL1QNi",
    "outputId": "d9c6f152-f857-44c4-a33b-4baf7826cd3d"
   },
   "outputs": [
    {
     "name": "stdout",
     "output_type": "stream",
     "text": [
      "the probability of heads is approximately 0.360\n"
     ]
    }
   ],
   "source": [
    "np.random.seed(12345)\n",
    "\n",
    "flips = np.random.choice(coin, size=50)\n",
    "\n",
    "approx_prob_heads = np.sum(flips == \"H\") / len(flips)\n",
    "print(\"the probability of heads is approximately {:.3f}\".format(approx_prob_heads))"
   ]
  },
  {
   "cell_type": "markdown",
   "metadata": {
    "colab_type": "text",
    "id": "j08j-Qnj1QNl"
   },
   "source": [
    "OK, so the simulation estimated that the probability of the coin coming up heads may not be $0.50$. This is likely because we didn't do very many coin flips.  Let's see what happens if we rerun the simulation with $500$ coin flips. "
   ]
  },
  {
   "cell_type": "code",
   "execution_count": 8,
   "metadata": {
    "colab": {},
    "colab_type": "code",
    "id": "8BqgTQAD1QNl",
    "outputId": "52487157-29df-46f1-be9a-6b45c1d25b7e"
   },
   "outputs": [
    {
     "name": "stdout",
     "output_type": "stream",
     "text": [
      "the probability of heads is approximately 0.512\n"
     ]
    }
   ],
   "source": [
    "flips = np.random.choice(coin, size=500)\n",
    "approx_prob_heads = np.sum(flips == \"H\") / len(flips)\n",
    "print(\"the probability of heads is approximately {:.3f}\".format(approx_prob_heads))"
   ]
  },
  {
   "cell_type": "markdown",
   "metadata": {
    "colab_type": "text",
    "id": "idh7lPPm1QNo"
   },
   "source": [
    "With $500$ coin flips our estimate came out to be $0.512$, which seems much better.  It's an interesting exercise to make a plot of the running estimate of the probability as the number of coin flips increases.  We'll use the same random sequence of coin flips from the previous simulation.  \n"
   ]
  },
  {
   "cell_type": "code",
   "execution_count": 9,
   "metadata": {
    "colab": {},
    "colab_type": "code",
    "id": "Dk0e3oL51QNp",
    "outputId": "d0d58c39-31a0-4652-d169-6fbab6ecba09"
   },
   "outputs": [
    {
     "data": {
      "image/png": "[encoded data removed]",
      "text/plain": [
       "<Figure size 864x432 with 1 Axes>"
      ]
     },
     "metadata": {
      "needs_background": "light"
     },
     "output_type": "display_data"
    }
   ],
   "source": [
    "p = np.zeros(len(flips))\n",
    "\n",
    "for ii in range(len(p)):\n",
    "    p[ii] = np.sum(flips[:ii+1] == \"H\") / len(flips[:ii+1]) \n",
    "    \n",
    "fig, ax = plt.subplots(figsize=(12,6))\n",
    "ax.plot(p, color=\"steelblue\")\n",
    "ax.set_title(\"Running Estimate of Probability of Heads\", fontsize=20)\n",
    "ax.set_xlabel(\"Number of Flips\", fontsize=16)\n",
    "ax.set_ylabel(\"Estimate of Probability\", fontsize=16)\n",
    "\n",
    "ax.grid(True, alpha=0.25)"
   ]
  },
  {
   "cell_type": "code",
   "execution_count": 10,
   "metadata": {},
   "outputs": [
    {
     "data": {
      "text/plain": [
       "array([0.1, 0.2, 0.3])"
      ]
     },
     "execution_count": 10,
     "metadata": {},
     "output_type": "execute_result"
    }
   ],
   "source": [
    "np.array([1, 2, 3]) / np.array([10, 10, 10])"
   ]
  },
  {
   "cell_type": "code",
   "execution_count": 11,
   "metadata": {},
   "outputs": [
    {
     "data": {
      "text/plain": [
       "array([0, 1, 2, 3, 4, 5, 6, 7, 8, 9])"
      ]
     },
     "execution_count": 11,
     "metadata": {},
     "output_type": "execute_result"
    }
   ],
   "source": [
    "x = np.array([1, 2, 3])\n",
    "np.cumsum(x)\n",
    "\n",
    "np.arange(0, 10)"
   ]
  },
  {
   "cell_type": "code",
   "execution_count": 12,
   "metadata": {
    "colab": {},
    "colab_type": "code",
    "id": "ZOYkk6Pm1QNz",
    "outputId": "2589ff0a-9f58-4563-8233-4a763760d80e"
   },
   "outputs": [
    {
     "data": {
      "image/png": "[encoded data removed]",
      "text/plain": [
       "<Figure size 432x288 with 1 Axes>"
      ]
     },
     "metadata": {
      "needs_background": "light"
     },
     "output_type": "display_data"
    }
   ],
   "source": [
    "flips = np.random.choice(coin, size=500)\n",
    "heads = flips == 'H'\n",
    "\n",
    "p_heads_running = np.cumsum(heads)/np.arange(1,len(heads)+1)\n",
    "plt.plot(p_heads_running);"
   ]
  },
  {
   "cell_type": "markdown",
   "metadata": {
    "colab_type": "text",
    "id": "6fVk6JMR1QN2"
   },
   "source": [
    "Notice that for very few flips the estimate of the probability is understandably poor.  But as the number of flips increases the estimate settles down to very close to the expected $0.5$. "
   ]
  },
  {
   "cell_type": "markdown",
   "metadata": {
    "colab_type": "text",
    "id": "EnMxGZc41QN3"
   },
   "source": [
    "### Exercise 1 - The Biased Coin\n",
    "***\n",
    "\n",
    "Now let's make it more interesting by considering a biased coin where the probability of the coin landing heads is $0.75$.  We can alter the probability with which np.random.choice selects a particular entry of the sample space array by passing in an optional array of probabilities, e.g. p = [0.75, 0.25].  Rerun the simulation from above with the biased coin by passing in such an array of probabilities into np.random.choice. Does your running estimate of the probability of Heads seem to settle down to $0.75$ as expected?  If not, try increasing the number of coin flips until it does. "
   ]
  },
  {
   "cell_type": "code",
   "execution_count": 13,
   "metadata": {},
   "outputs": [
    {
     "data": {
      "text/plain": [
       "array(['H', 'H', 'H', 'T', 'H', 'T', 'H', 'H', 'H', 'T'], dtype='<U1')"
      ]
     },
     "execution_count": 13,
     "metadata": {},
     "output_type": "execute_result"
    }
   ],
   "source": [
    "np.random.choice(coin, size=10, p=[0.6, 0.4])"
   ]
  },
  {
   "cell_type": "code",
   "execution_count": 14,
   "metadata": {
    "colab": {},
    "colab_type": "code",
    "id": "IeCb0dhR1QN3",
    "outputId": "8b7f9355-1d22-4b40-9039-89d7b69f4711"
   },
   "outputs": [
    {
     "name": "stdout",
     "output_type": "stream",
     "text": [
      "the probability of heads is approximately 0.597\n"
     ]
    },
    {
     "data": {
      "image/png": "[encoded data removed]",
      "text/plain": [
       "<Figure size 864x432 with 1 Axes>"
      ]
     },
     "metadata": {
      "needs_background": "light"
     },
     "output_type": "display_data"
    }
   ],
   "source": [
    "flips = np.random.choice(coin, p=[0.60, 0.40], size=5000)\n",
    "approx_prob_heads = np.sum(flips == \"H\") / len(flips)\n",
    "print(\"the probability of heads is approximately {:.3f}\".format(approx_prob_heads))\n",
    "\n",
    "p = np.zeros(len(flips))\n",
    "for ii in range(len(p)):\n",
    "    p[ii] = np.sum(flips[:ii+1] == \"H\") / len(flips[:ii+1])\n",
    "    \n",
    "fig, ax = plt.subplots(figsize=(12,6))\n",
    "ax.plot(p, color=\"steelblue\")\n",
    "ax.set_title(\"Running Estimate of Probability of Heads\", fontsize=20)\n",
    "ax.set_xlabel(\"Number of Flips\", fontsize=16)\n",
    "ax.set_ylabel(\"Estimate of Probability\", fontsize=16)\n",
    "\n",
    "ax.grid(True, alpha=0.25)"
   ]
  },
  {
   "cell_type": "markdown",
   "metadata": {
    "colab_type": "text",
    "id": "NwYmBiDn1QN5"
   },
   "source": [
    "### Exercise 2 - Double Heads\n",
    "***\n",
    "\n",
    "In class we showed that the probability of flipping two fair coins and getting two Heads was $\\frac{1}{4}$.  Write a simple simulation to estimate this probability. Does your estimate from your simulation agree with the pencil-and-paper results? "
   ]
  },
  {
   "cell_type": "markdown",
   "metadata": {
    "colab_type": "text",
    "id": "tEuhbYjI1QN6"
   },
   "source": [
    "**Solution**:\n",
    "\n",
    "There are $2 \\times 2 = 4$ possible outcomes for the two coin flips: \"HH\", \"HT\", \"TH\", \"TT\".  The event that both coins come up heads is $E = \\{ HH \\}$. We then have \n",
    "\n",
    "$$\n",
    "p(\\{HH\\}) = \\frac{|\\{HH\\}|}{|\\{HH, HT, TH, TT\\}|} = \\frac{1}{4}\n",
    "$$"
   ]
  },
  {
   "cell_type": "code",
   "execution_count": 15,
   "metadata": {
    "colab": {},
    "colab_type": "code",
    "id": "RjV5GoXL1QN6",
    "outputId": "07f93625-31a4-4024-b562-ca6ca924bdf2"
   },
   "outputs": [
    {
     "name": "stdout",
     "output_type": "stream",
     "text": [
      "Estimated probability after 5000 double-flips is 0.239\n"
     ]
    },
    {
     "data": {
      "image/png": "[encoded data removed]",
      "text/plain": [
       "<Figure size 864x432 with 1 Axes>"
      ]
     },
     "metadata": {
      "needs_background": "light"
     },
     "output_type": "display_data"
    }
   ],
   "source": [
    "# Simulation:\n",
    "\n",
    "two_coins = np.array([\"HH\", \"HT\", \"TH\", \"TT\"])\n",
    "\n",
    "num_flips = 5000\n",
    "flips = np.random.choice(two_coins, size=num_flips)\n",
    "\n",
    "p = np.zeros(len(flips))\n",
    "for ii in range(len(flips)):\n",
    "    p[ii] = np.sum(flips[:ii+1]==\"HH\") / len(flips[:ii+1])\n",
    "    \n",
    "fig, ax = plt.subplots(figsize=(12,6))\n",
    "ax.plot(p, color=\"steelblue\")\n",
    "ax.set_title(\"Running Estimate of Probability of Two Heads\", fontsize=20)\n",
    "ax.set_xlabel(\"Number of Double Flips\", fontsize=16)\n",
    "ax.set_ylabel(\"Estimate of Probability\", fontsize=16)\n",
    "\n",
    "ax.grid(True, alpha=0.25)\n",
    "\n",
    "print(\"Estimated probability after {} double-flips is {:.3f}\".format(num_flips, p[-1]))"
   ]
  },
  {
   "cell_type": "markdown",
   "metadata": {
    "colab_type": "text",
    "id": "DwwlWKDa1QN9"
   },
   "source": [
    "### Exercise 3 - Roll the Easy Seven\n",
    "***\n",
    "\n",
    "Suppose you roll a pair of fair six-sided dice.\n",
    "\n",
    "**First:** Compute the probability that the two rolls sum to $7$ by hand. "
   ]
  },
  {
   "cell_type": "markdown",
   "metadata": {
    "colab_type": "text",
    "id": "NMYDIxIe1QN9"
   },
   "source": [
    "**Solution**: There are $6 \\times 6 = 36$ possible two-dice combinations, each with equal probability of occurring.  Of those 36 combinations there are six that sum to 7.  They are \n",
    "\n",
    "$$\n",
    "\\{(1,6), (2,5), (3,4), (4,3), (5,2), (6,1)\\}\n",
    "$$\n",
    "\n",
    "We then have that the probability of rolling a sum-to-seven is \n",
    "\n",
    "$$\n",
    "p(\\texttt{sum-to-seven}) = \\frac{6}{36} = \\frac{1}{6} = 0.1\\overline{66}\n",
    "$$"
   ]
  },
  {
   "cell_type": "code",
   "execution_count": 16,
   "metadata": {},
   "outputs": [
    {
     "data": {
      "text/plain": [
       "(array([1., 1., 1., 1., 1., 1., 1., 1., 1., 1.]),\n",
       " array([0., 0., 0., 0., 0., 0., 0., 0., 0., 0.]))"
      ]
     },
     "execution_count": 16,
     "metadata": {},
     "output_type": "execute_result"
    }
   ],
   "source": [
    "np.ones(10), np.zeros(10)"
   ]
  },
  {
   "cell_type": "markdown",
   "metadata": {
    "colab_type": "text",
    "id": "kzJmmH6V1QN-"
   },
   "source": [
    "**Second:** Now, write a simple simulation to estimate the probability. "
   ]
  },
  {
   "cell_type": "code",
   "execution_count": 17,
   "metadata": {
    "colab": {},
    "colab_type": "code",
    "id": "3VnFhEy31QN-"
   },
   "outputs": [],
   "source": [
    "die = np.array([1,2,3,4,5,6])\n",
    "\n",
    "def roll_seven():\n",
    "    roll1 = np.random.choice(die)\n",
    "    roll2 = np.random.choice(die)\n",
    "    if roll1+roll2==7:\n",
    "        return 1\n",
    "    else:\n",
    "        return 0"
   ]
  },
  {
   "cell_type": "code",
   "execution_count": 18,
   "metadata": {
    "colab": {},
    "colab_type": "code",
    "id": "GU215evq1QOA",
    "outputId": "eb2191ef-d5e6-4f7d-99b3-fb9b073f3853"
   },
   "outputs": [
    {
     "data": {
      "text/plain": [
       "0.1675"
      ]
     },
     "execution_count": 18,
     "metadata": {},
     "output_type": "execute_result"
    }
   ],
   "source": [
    "n_roll = 10000\n",
    "\n",
    "# sum([roll_seven() for i in range(50)]) / 50\n",
    "\n",
    "sum([roll_seven() for i in range(n_roll)])/n_roll"
   ]
  },
  {
   "cell_type": "code",
   "execution_count": 19,
   "metadata": {
    "colab": {},
    "colab_type": "code",
    "id": "KqtcfgGQ1QOP",
    "outputId": "6a6fa728-2dfe-41c8-8f47-2af4723530fe"
   },
   "outputs": [
    {
     "name": "stdout",
     "output_type": "stream",
     "text": [
      "Estimated probability after 5000 rolls is 0.160\n"
     ]
    },
    {
     "data": {
      "image/png": "[encoded data removed]",
      "text/plain": [
       "<Figure size 864x432 with 1 Axes>"
      ]
     },
     "metadata": {
      "needs_background": "light"
     },
     "output_type": "display_data"
    }
   ],
   "source": [
    "die = np.array([1,2,3,4,5,6])\n",
    "\n",
    "num_rolls = 5000\n",
    "rolls1 = np.random.choice(die, size=num_rolls)\n",
    "rolls2 = np.random.choice(die, size=num_rolls)\n",
    "\n",
    "p = np.zeros(num_rolls)\n",
    "for ii in range(num_rolls):\n",
    "    p[ii] = np.sum(rolls1[:ii+1] + rolls2[:ii+1] == 7) / len(rolls1[:ii+1])\n",
    "    \n",
    "fig, ax = plt.subplots(figsize=(12,6))\n",
    "ax.plot(p, color=\"steelblue\")\n",
    "ax.set_title(\"Running Estimate of Probability of Sum-to-Seven\", fontsize=20)\n",
    "ax.set_xlabel(\"Number of Rolls\", fontsize=16)\n",
    "ax.set_ylabel(\"Estimate of Probability\", fontsize=16)\n",
    "\n",
    "ax.grid(True, alpha=0.25)\n",
    "\n",
    "print(\"Estimated probability after {} rolls is {:.3f}\".format(num_rolls, p[-1]))"
   ]
  },
  {
   "cell_type": "markdown",
   "metadata": {
    "colab_type": "text",
    "id": "91sWrmSd1QOQ"
   },
   "source": [
    "### Exercise 4 - Number of Successes\n",
    "***\n",
    "\n",
    "Later we'll see that we can use probabilities to compute average quantities of interest.  For instance, what is the average number of heads we expect to get if we flip a coin 10 times. \n",
    "Let's simulate this process for a \n",
    "* fair coin (p = 0.5)\n",
    "* biased coin(p = 0.7)\n",
    "\n",
    "Simulation:\n",
    "* We will generate 10 random coin flips.\n",
    "* Calculate the number of heads and store it in an np.array\n",
    "* Repeat the process several times.\n",
    "* find the mean number of heads\n",
    "\n",
    "Theoretical Answer: $n * p$. So, for the fair coin theoretical value is $10 * 0.5 = 5$ and the for the biased coin the value should be $10 * 0.7 = 7$"
   ]
  },
  {
   "cell_type": "code",
   "execution_count": 20,
   "metadata": {
    "colab": {},
    "colab_type": "code",
    "id": "0VIysFNo1QOR",
    "outputId": "3d66ff62-595b-43e0-83a2-901ace3d5c50",
    "scrolled": true
   },
   "outputs": [],
   "source": [
    "def get_head_count(prob):\n",
    "    flips = np.random.choice(coin, p=[prob, 1 - prob], size=10)\n",
    "    total_heads = flips == 'H'\n",
    "    return np.sum(total_heads)"
   ]
  },
  {
   "cell_type": "code",
   "execution_count": 21,
   "metadata": {},
   "outputs": [
    {
     "data": {
      "image/png": "[encoded data removed]",
      "text/plain": [
       "<Figure size 864x432 with 1 Axes>"
      ]
     },
     "metadata": {
      "needs_background": "light"
     },
     "output_type": "display_data"
    }
   ],
   "source": [
    "fair = [get_head_count(0.5) for _ in range(10000)]\n",
    "biased = [get_head_count(0.7) for _ in range(10000)]\n",
    "\n",
    "fair_cumulative = [np.mean(fair[:idx + 1]) for idx in range(len(fair))]\n",
    "biased_cumulative = [np.mean(biased[:idx + 1]) for idx in range(len(biased))]\n",
    "\n",
    "# PLOT\n",
    "fig, ax = plt.subplots(figsize=(12,6))\n",
    "ax.plot(fair_cumulative, color=\"steelblue\")\n",
    "ax.set_title(\"Running Estimate of Average Heads in 10 flips\", fontsize=20)\n",
    "ax.set_xlabel(\"Number of Rolls\", fontsize=16)\n",
    "ax.set_ylabel(\"Estimate of number of heads in 10 flips\", fontsize=16)\n",
    "\n",
    "ax.grid(True, alpha=0.50)"
   ]
  },
  {
   "cell_type": "markdown",
   "metadata": {
    "colab_type": "text",
    "id": "vxAoUCuc1QOT"
   },
   "source": [
    "This estimate of the average number of flips to obtain 2 Heads is our **Monte Carlo** estimate.  In a nutshell, any time we sample something many, many times and average the results, we are obtaining a [Monte Carlo estimate](https://en.wikipedia.org/wiki/Monte_Carlo_method)."
   ]
  },
  {
   "cell_type": "markdown",
   "metadata": {
    "colab_type": "text",
    "id": "a6_Ob6Z91QOT"
   },
   "source": [
    "\n",
    "### Exercise 5 - Estimating $\\pi$\n",
    "***\n",
    "\n",
    "We can obtain an empirical estimate of the value of $\\pi$ through the magic of simulation!\n",
    "\n",
    "<img src=\"https://www.smbc-comics.com/comics/1527520359-soonish42.png\" style=\"width: 300px;\"/>\n",
    "\n",
    "S'pose the radius of the circle is $r$.  Then the area of the square is $4r \\times 4r  = 16r^2$, and the area of the circle is $\\pi r^2$.  So, the ratio of the area of the circle to that of the square is $$\\frac{\\pi r^2}{16r^2} = \\frac{\\pi}{16}$$\n",
    "\n",
    "So how does that help us to estimate $\\pi$?\n",
    "\n",
    "Well, if we fire a whole bunch of arrows at that square, then roughly $\\frac{\\pi}{16}$ of the arrows should land in the circle. That means that if $n_c$ arrows out of $n$ arrows total land in the circle, then $$\\frac{\\pi}{16} \\approx \\frac{n_c}{n}$$\n",
    "\n",
    "Rearranging this, our estimate of $\\pi$ is:  $$\\pi \\approx 16\\times \\frac{n_c}{n}$$\n",
    "\n",
    "Alright, we're almost ready to start shooting arrows at this dude. S'pose the square extends from $-1 \\leq x \\leq 1$ and $-1 \\leq y \\leq 1$.  Then the equation of this circle, centered at $(-0.5, 0.5)$ and with radius $0.5$, is:\n",
    "$$(x+0.5)^2 + (y-0.5)^2 = 0.25$$\n",
    "\n",
    "We can check if an arrow strike is inside the circle by first checking that the $x$ coordinate is between $-1$ and $0$, and then checking that the $y$ coordinate of the arrow is between:\n",
    "$$0.5 - \\sqrt{0.25 - (x+0.5)^2} \\leq y \\leq 0.5 + \\sqrt{0.25 - (x+0.5)^2}$$\n",
    "\n",
    "If both of these conditions are satisfied, then the arrow is inside the circle.\n",
    "\n",
    "First, finish off this function that I started, to take in the $x$- and $y$- coordinates of an arrow, and return True/False, depending on whether or not the arrow is within the circle."
   ]
  },
  {
   "cell_type": "code",
   "execution_count": null,
   "metadata": {
    "colab": {},
    "colab_type": "code",
    "id": "qdV-d6f71QOU"
   },
   "outputs": [],
   "source": [
    "def in_circle(x,y):\n",
    "    # check if the arrow's x-coordinate could be within the circle\n",
    "    in_x = -1 <= x <= 0 # your code goes here!\n",
    "    if in_x:\n",
    "        # only if the x-coordinate is good, should we check the y-coordinate\n",
    "        in_y = 0.5 - np.sqrt(0.25 - (x+0.5)**2) <= y <= 0.5 + np.sqrt(0.25 - (x+0.5)**2) # your code goes here!\n",
    "        return in_x and in_y\n",
    "    else:\n",
    "        return in_x"
   ]
  },
  {
   "cell_type": "markdown",
   "metadata": {
    "colab_type": "text",
    "id": "NTenS1cB1QOV"
   },
   "source": [
    "Now, write a simulation to shoot $n$ arrows at that square and return your estimate of $\\pi$. Make a plot of the running estimate of $\\pi$ as a function of the number of arrows.\n",
    "\n",
    "*Hint: the Numpy `np.random.uniform` method might be useful for shooting the arrows.*"
   ]
  },
  {
   "cell_type": "code",
   "execution_count": null,
   "metadata": {
    "colab": {},
    "colab_type": "code",
    "id": "Zm2qr20R1QOW",
    "outputId": "d63f41c8-79e9-4433-ad89-07dde99ca1ca"
   },
   "outputs": [],
   "source": [
    "# Solution:\n",
    "\n",
    "def sim_arrows(n):\n",
    "    n_circle = 0\n",
    "    for ii in range(n):\n",
    "        x, y = np.random.uniform(low=-1, high=1, size=2)\n",
    "        n_circle += 1 if in_circle(x,y) else 0\n",
    "    return 16*n_circle/n\n",
    "\n",
    "# Simulation:\n",
    "\n",
    "num_arrows = 5000\n",
    "\n",
    "pi_est = [sim_arrows(n) for n in range(1,num_arrows+1)]\n",
    "\n",
    "fig, ax = plt.subplots(figsize=(12,6))\n",
    "ax.plot(pi_est, color=\"steelblue\")\n",
    "ax.set_title(\"Running Estimate of $\\pi$\", fontsize=20)\n",
    "ax.set_xlabel(\"Number of Arrows\", fontsize=16)\n",
    "ax.set_ylabel(\"Estimate of $\\pi$\", fontsize=16)\n",
    "\n",
    "ax.grid(True, alpha=0.25)\n",
    "\n",
    "print(\"Estimate of pi after {} arrows is {:.3f}\".format(num_arrows, pi_est[-1]))"
   ]
  },
  {
   "cell_type": "markdown",
   "metadata": {
    "colab_type": "text",
    "id": "y_tyGT_t1QOZ"
   },
   "source": [
    "### Exercise 6 - The Birthday Game \n",
    "***\n",
    "\n",
    "The so-called Birthday Paradox tells us that if there are more than $70$ people in the room, there is a $99.9\\%$ chance that at least two people have the same birthday.  \n",
    "\n",
    "The following code does all the work for you.  You just need to play around with it and see how it works.  \n",
    "\n",
    "- The function random_bday( ) returns a string representing a valid birthday in a non-leap year. \n",
    "\n",
    "- The function birthday_game(...) assigns $n$ birthdays randomly and then checks if there is a birthday match.  \n",
    "\n",
    "- The function birthday_sim(...) runs many trials of the birthday game and returns the fraction of trials in which there was a birthday match. \n",
    "\n",
    "Try running birthday_sim(...) for various numbers of people and number of trials and look at the results!  What is the probability that two people in our class have the same birthday?"
   ]
  },
  {
   "cell_type": "code",
   "execution_count": null,
   "metadata": {
    "colab": {},
    "colab_type": "code",
    "id": "7WElTBOy1QOa"
   },
   "outputs": [],
   "source": [
    "def random_bday():\n",
    "    \n",
    "    # Dictionary telling how many days are in each month  \n",
    "    days_in_month = {\"Jan\" : 31, \"Feb\" : 28, \"Mar\" : 31, \"Apr\" : 30, \"May\" : 31, \"Jun\" : 30, \"Jul\" : 31, \"Aug\" : 31, \n",
    "                     \"Sep\" : 30, \"Oct\" : 31, \"Nov\" : 30, \"Dec\" : 31}\n",
    "    # Array of months \n",
    "    months = np.array(list(days_in_month.keys()))\n",
    "    \n",
    "    # Probability of randomly selecting each month \n",
    "    month_probs = np.array(list(days_in_month.values()))/365\n",
    "    \n",
    "    # Draw random month \n",
    "    m = np.random.choice(months, p=month_probs)\n",
    "    \n",
    "    # Draw random day of month \n",
    "    d = np.random.choice(range(1,days_in_month[m]+1))\n",
    "    \n",
    "    return m + \" \" + str(d)\n",
    "    "
   ]
  },
  {
   "cell_type": "code",
   "execution_count": null,
   "metadata": {},
   "outputs": [],
   "source": [
    "s = [1, 2, 3, 3, 3]\n",
    "set(s)\n"
   ]
  },
  {
   "cell_type": "code",
   "execution_count": null,
   "metadata": {
    "colab": {},
    "colab_type": "code",
    "id": "LbHQux_41QOc"
   },
   "outputs": [],
   "source": [
    "def birthday_game(num_people):\n",
    "    \n",
    "    # draw random birthday for each person in the room \n",
    "    birthdays = [random_bday() for ii in range(num_people)]\n",
    "    \n",
    "    # check if there is a birthday match \n",
    "    return True if len(set(birthdays)) < len(birthdays) else False \n"
   ]
  },
  {
   "cell_type": "code",
   "execution_count": null,
   "metadata": {
    "colab": {},
    "colab_type": "code",
    "id": "x-fKplSm1QOe"
   },
   "outputs": [],
   "source": [
    "def birthday_sim(num_people, num_trials=1000):\n",
    "    \n",
    "    # Simulate num_trials of the birthday game \n",
    "    random_rooms = [birthday_game(num_people) for ii in range(num_trials)]\n",
    "    \n",
    "    # Print fraction of trials where birthday match occurred \n",
    "    print('The approximate probability of a birthday match in a room of {} people is {:.16f}'.format(num_people,np.sum(random_rooms)/num_trials))"
   ]
  },
  {
   "cell_type": "code",
   "execution_count": null,
   "metadata": {
    "colab": {},
    "colab_type": "code",
    "id": "7_HJ9Vi01QOg",
    "outputId": "34cd9fac-0e99-41f1-a76d-a4746e268915"
   },
   "outputs": [],
   "source": [
    "birthday_sim(23)"
   ]
  },
  {
   "cell_type": "code",
   "execution_count": null,
   "metadata": {
    "colab": {},
    "colab_type": "code",
    "id": "M5iDBfLH1QOi"
   },
   "outputs": [],
   "source": []
  }
 ],
 "metadata": {
  "colab": {
   "name": "nb04_stochastic_simulation_solutions.ipynb",
   "provenance": []
  },
  "kernelspec": {
   "display_name": "Python 3",
   "language": "python",
   "name": "python3"
  },
  "language_info": {
   "codemirror_mode": {
    "name": "ipython",
    "version": 3
   },
   "file_extension": ".py",
   "mimetype": "text/x-python",
   "name": "python",
   "nbconvert_exporter": "python",
   "pygments_lexer": "ipython3",
   "version": "3.7.3"
  }
 },
 "nbformat": 4,
 "nbformat_minor": 4
}
