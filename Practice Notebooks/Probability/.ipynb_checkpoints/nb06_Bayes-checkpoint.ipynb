{
 "cells": [
  {
   "cell_type": "markdown",
   "metadata": {
    "colab_type": "text",
    "id": "XO5vFdTJ1U70"
   },
   "source": [
    "# Notebook 6: Bayes' Rule and the Law of Total Probability\n",
    "***\n",
    "\n",
    "In this notebook we'll get some more practice with conditional probabilities, total probability, the product rule, and now Bayes' Rule.  We'll also see how we can do some simple random simulations using Numpy to verify our results. \n",
    "\n",
    "We'll need Numpy for this notebook, so let's load it. "
   ]
  },
  {
   "cell_type": "code",
   "execution_count": 1,
   "metadata": {
    "colab": {},
    "colab_type": "code",
    "id": "lc7W2NYe1U70"
   },
   "outputs": [],
   "source": [
    "import numpy as np "
   ]
  },
  {
   "cell_type": "markdown",
   "metadata": {
    "colab_type": "text",
    "id": "z1ocqyKL1U74"
   },
   "source": [
    "### Exercise 1: Bayes' Rule and The Three Doors Problem \n",
    "***\n",
    "\n",
    "Suppose you're on a game show, and you're given the choice of three doors: Behind one door is a car; behind the others, goats. You pick a door, say No. 1, and the host, Monty, who knows what's behind the doors, opens another door, say No. 3, which has a goat. He then says to you, \"Do you want to pick door No. 2?\" Is it to your advantage to switch your choice?\n",
    "\n",
    "![doors](https://cdn-images-1.medium.com/max/1600/1*fSv7k4vXkOYp8RN7lVeKyA.jpeg)\n",
    "\n",
    "**Historical notes:** This was never how \"Let's Make a Deal\" with Monty Hall was played. ([Here](https://www.youtube.com/watch?v=c1BSkquWkDo) is a snippet from an interview with Monty Hall about it.)  It is a problem posed by Marilyn vos Savant in _Parade_ magazine in 1990.  The fallout was intense.  Read more [here](https://priceonomics.com/the-time-everyone-corrected-the-worlds-smartest/) and [here](http://marilynvossavant.com/game-show-problem/)."
   ]
  },
  {
   "cell_type": "markdown",
   "metadata": {
    "colab_type": "text",
    "id": "2eGKVjfJ1U74"
   },
   "source": [
    "**Part A**: What does your intuition say?  Is it in your best interest to switch? "
   ]
  },
  {
   "cell_type": "markdown",
   "metadata": {
    "colab_type": "text",
    "id": "ff8eQFr61U75"
   },
   "source": [
    "***\n",
    "**Solution**:  It is in your interest to switch.  It turns out that if you don't switch doors you have a 1/3 probability of winning the car.  If you do switch doors you have a 2/3 probability.  We'll prove this using Bayes rule in the next part, but if this seems sketchy to you, consider a modified game where there are 100 doors with 99 goats and one car.  After making your guess the host (knowing where the car is) opens 98 doors that have goats behind them.  Now does your intuition change? \n",
    "***"
   ]
  },
  {
   "cell_type": "markdown",
   "metadata": {
    "colab_type": "text",
    "id": "ixFZBuv21U75"
   },
   "source": [
    "**Part B**: Let's assume that you pick door number 1 and Monty opens door number 3.  The question then is whether you stick with door number 1 or switch to door number 2. Let $D_i$ be the event that the car is actually behind door $i$.  Let $H$ be the event that Monty opens door number 3. First, compute $P(H \\mid D_i)$ for $i=1,2,3$.  You'll need to think carefully about the particular situation described above."
   ]
  },
  {
   "cell_type": "markdown",
   "metadata": {
    "colab_type": "text",
    "id": "crnojNX61U76"
   },
   "source": [
    "***\n",
    "**Solution**: The likelihoods, given our assumptions, are as follows: \n",
    "\n",
    "- $D_1$: If the car is behind Door 1 then it doesn't matter which of Doors 2 and 3 that Monte opens.  Thus this probability is $P(H \\mid D_1) = \\frac{1}{2}$\n",
    "\n",
    "- $D_2$: If the car is behind Door 2 then Monte must open Door 3.  Thus this probability is $P(H \\mid D_2) = 1$\n",
    "\n",
    "- $D_3$: If the car is behind Door 3 then there is no way that Monte will open Door 3.  Thus this probability is $P(H \\mid D_3) = 0$\n",
    "\n",
    "***"
   ]
  },
  {
   "cell_type": "markdown",
   "metadata": {
    "colab_type": "text",
    "id": "S9APWTS01U76"
   },
   "source": [
    "**Part C**: Use your results from **Part B** and the Law of Total Probability to compute $P(H)$"
   ]
  },
  {
   "cell_type": "markdown",
   "metadata": {
    "colab_type": "text",
    "id": "UqAOnU3W1U77"
   },
   "source": [
    "***\n",
    "**Solution**: Assuming that it is equally likely that the car is behind any door, we have $P(D_i) = \\frac{1}{3}$ for $i=1, 2, 3$. We then have \n",
    "\n",
    "\\begin{eqnarray}\n",
    "\\nonumber P(H) &=& P(H \\mid D_1)P(D_1) + P(H \\mid D_3)P(D_3) + P(H \\mid D_3)P(D_3) \\\\\n",
    "\\nonumber      &=& \\frac{1}{2}\\cdot\\frac{1}{3} + 1\\cdot\\frac{1}{3} + 0\\cdot\\frac{1}{3} \\\\ \n",
    "\\nonumber      &=& \\frac{1}{2}\n",
    "\\end{eqnarray}\n",
    "\n",
    "***"
   ]
  },
  {
   "cell_type": "markdown",
   "metadata": {
    "colab_type": "text",
    "id": "D_Xry2P41U77"
   },
   "source": [
    "**Part D**: Now, use Bayes' Rule to compute $P(D_i \\mid H)$ for $i=1$ and $2$ (because these are the doors we care about). "
   ]
  },
  {
   "cell_type": "markdown",
   "metadata": {
    "colab_type": "text",
    "id": "mzURIlpv1U78"
   },
   "source": [
    "***\n",
    "**Solution**: From Bayes' Rule, we have \n",
    "\n",
    "$$\n",
    "p(D_1 ~|~ H) = \\frac{P(H \\mid D_1)P(D_1)}{P(H)} = \\frac{\\frac{1}{2} \\cdot \\frac{1}{3}}{\\frac{1}{2}} = \\frac{1}{3} ~~~~~~~~ \\textrm{and} ~~~~~~~~\n",
    "p(D_2 ~|~ H) = \\frac{P(H \\mid D_2)P(D_2)}{P(H)}  = \\frac{1 \\cdot \\frac{1}{3}}{\\frac{1}{2}} = \\frac{2}{3}\n",
    "$$\n",
    "\n",
    "Thus if we switch we have a probability of $\\frac{2}{3}$ of winning the car. \n",
    "\n",
    "***"
   ]
  },
  {
   "cell_type": "markdown",
   "metadata": {
    "colab_type": "text",
    "id": "g9z9IIyI1U78"
   },
   "source": [
    "**Part E**: Write some simple code to simulate the Three Doors problem and verify your results from **Parts A-D**. "
   ]
  },
  {
   "cell_type": "code",
   "execution_count": 5,
   "metadata": {},
   "outputs": [
    {
     "data": {
      "text/plain": [
       "1"
      ]
     },
     "execution_count": 5,
     "metadata": {},
     "output_type": "execute_result"
    }
   ],
   "source": [
    "a = [1, 2, 3]\n",
    "b = [2]\n",
    "\n",
    "(set(a) - set(b)).pop()\n"
   ]
  },
  {
   "cell_type": "code",
   "execution_count": 6,
   "metadata": {
    "colab": {},
    "colab_type": "code",
    "id": "RDaKVPT21U78"
   },
   "outputs": [],
   "source": [
    "def make_a_deal(switch=True):\n",
    "    doors = list(range(3))\n",
    "    car = np.random.choice(doors)\n",
    "    \n",
    "    first_choice = np.random.choice(doors)\n",
    "    \n",
    "    montes_options = list(set(doors)-set([car])-set([first_choice]))\n",
    "    \n",
    "    goat = np.random.choice(montes_options)\n",
    "    \n",
    "    final_choice = (set(doors)-set([goat])-set([first_choice])).pop() if switch else first_choice\n",
    "    return final_choice == car\n",
    "\n",
    "def three_doors_sim(switch=True, num_trials=int(1e3)): \n",
    "    winners = np.sum([make_a_deal(switch) for kk in range(num_trials)])\n",
    "    state = \"switching\" if switch else \"not switching\"\n",
    "    print(\"P(winning by \"+state+\" = {:.4f})\".format(winners/num_trials))"
   ]
  },
  {
   "cell_type": "code",
   "execution_count": 7,
   "metadata": {
    "colab": {},
    "colab_type": "code",
    "id": "vr7nLWoU1U7_",
    "outputId": "90edf0b3-cb90-4d5a-e51d-625be77dc824"
   },
   "outputs": [
    {
     "name": "stdout",
     "output_type": "stream",
     "text": [
      "P(winning by switching = 0.6660)\n"
     ]
    }
   ],
   "source": [
    "three_doors_sim(switch=True, num_trials=int(1e5))"
   ]
  },
  {
   "cell_type": "code",
   "execution_count": 8,
   "metadata": {
    "colab": {},
    "colab_type": "code",
    "id": "apDNQwfb1U8C",
    "outputId": "8738feba-a8de-4669-b64e-ff4df6c7a1da"
   },
   "outputs": [
    {
     "name": "stdout",
     "output_type": "stream",
     "text": [
      "P(winning by not switching = 0.3336)\n"
     ]
    }
   ],
   "source": [
    "three_doors_sim(switch=False, num_trials=int(1e5))"
   ]
  },
  {
   "cell_type": "markdown",
   "metadata": {
    "colab_type": "text",
    "id": "J4dCGsu-1U8E"
   },
   "source": [
    "### Exercise 2:  What if there are Scooby-Doo numbers of doors?\n",
    "***\n",
    "\n",
    "![moredoors](https://thesaurus.plus/img/sentences/39/Scooby-Dooby_Doors.png)\n",
    "\n",
    "**Part A:** Now suppose there are 4 (or maybe in general, $n$) doors.  There is still only one prize, but now $n-1$ goats.  Modify your simulation from above to estimate the probability of winning if you switch to a random other available door, or if you stick with your original choice."
   ]
  },
  {
   "cell_type": "code",
   "execution_count": 9,
   "metadata": {
    "colab": {},
    "colab_type": "code",
    "id": "z78sLfD51U8F"
   },
   "outputs": [],
   "source": [
    "def make_a_deal(n, switch=True):\n",
    "    doors = list(range(n))\n",
    "    car = np.random.choice(doors)\n",
    "    first_choice = np.random.choice(doors)\n",
    "    montes_options = list(set(doors)-set([car])-set([first_choice]))\n",
    "    goat = np.random.choice(montes_options)\n",
    "    final_choice = (set(doors)-set([goat])-set([first_choice])).pop() if switch else first_choice\n",
    "    return final_choice == car\n",
    "\n",
    "def n_doors_sim(n=3, switch=True, num_trials=int(1e3)): \n",
    "    winners = np.sum([make_a_deal(n, switch) for kk in range(num_trials)])\n",
    "    state = \"switching\" if switch else \"not switching\"\n",
    "    print(\"P(winning by \"+state+\" = {:.4f})\".format(winners/num_trials))"
   ]
  },
  {
   "cell_type": "markdown",
   "metadata": {
    "colab_type": "text",
    "id": "-hhtf7YL1U8H"
   },
   "source": [
    "With $n=3$ doors to check..."
   ]
  },
  {
   "cell_type": "code",
   "execution_count": 10,
   "metadata": {
    "colab": {},
    "colab_type": "code",
    "id": "Ium7sfWB1U8I",
    "outputId": "bfa25636-dbe8-495f-c80e-84447f34be04"
   },
   "outputs": [
    {
     "name": "stdout",
     "output_type": "stream",
     "text": [
      "P(winning by switching = 0.6654)\n",
      "P(winning by not switching = 0.3313)\n"
     ]
    }
   ],
   "source": [
    "n_doors_sim(n=3, switch=True, num_trials=int(1e5))\n",
    "n_doors_sim(n=3, switch=False, num_trials=int(1e5))"
   ]
  },
  {
   "cell_type": "markdown",
   "metadata": {
    "colab_type": "text",
    "id": "6ZDBUTRc1U8K"
   },
   "source": [
    "And now with $n=4$ or $n=5$ doors..."
   ]
  },
  {
   "cell_type": "code",
   "execution_count": 11,
   "metadata": {
    "colab": {},
    "colab_type": "code",
    "id": "pf3i13WR1U8K",
    "outputId": "162799f0-7576-47ae-f8a6-2e53b5808492"
   },
   "outputs": [
    {
     "name": "stdout",
     "output_type": "stream",
     "text": [
      "\n",
      "--- with n=4 doors ---\n",
      "P(winning by switching = 0.3734)\n",
      "P(winning by not switching = 0.2498)\n",
      "\n",
      "--- with n=5 doors ---\n",
      "P(winning by switching = 0.2657)\n",
      "P(winning by not switching = 0.2008)\n"
     ]
    }
   ],
   "source": [
    "print('\\n--- with n=4 doors ---')\n",
    "n_doors_sim(n=4, switch=True, num_trials=int(1e5))\n",
    "n_doors_sim(n=4, switch=False, num_trials=int(1e5))\n",
    "\n",
    "print('\\n--- with n=5 doors ---')\n",
    "n_doors_sim(n=5, switch=True, num_trials=int(1e5))\n",
    "n_doors_sim(n=5, switch=False, num_trials=int(1e5))"
   ]
  },
  {
   "cell_type": "markdown",
   "metadata": {
    "colab_type": "text",
    "id": "gUocv3cT1U8M"
   },
   "source": [
    "**Part B:** Verify your simulation results for the cases of $n=4$ and $n=5$ doors by hand.  What is the probability of winning if you switch, or do not switch, in those cases?"
   ]
  },
  {
   "cell_type": "markdown",
   "metadata": {
    "colab_type": "text",
    "id": "WktTVJ-m1U8N"
   },
   "source": [
    "**Solution:**\n",
    "\n",
    "$n=4$ doors case:\n",
    "\n",
    "**Intuition:**  For the $n=4$ case, each door initially has 0.25 probability.  So the not-your-first choice doors share 0.75 probability.  Then Monty shows you that one of those three doors is a loser.  So, the 0.75 probability of the not-your-first-choice doors is now split evenly among the other two.  That means if you switch, you should find 0.75/2 = 0.375 probability of winning.  And your original door still has only 0.25 probability of winning if you do not switch.\n",
    "\n",
    "**Math:**\n",
    "\n",
    "Check it for yourself using Bayes' theorem and the Law of Total Probability!"
   ]
  },
  {
   "cell_type": "code",
   "execution_count": null,
   "metadata": {
    "colab": {},
    "colab_type": "code",
    "id": "0eKvUwr41U8N"
   },
   "outputs": [],
   "source": []
  }
 ],
 "metadata": {
  "colab": {
   "name": "nb06_bayes_LTP_solutions.ipynb",
   "provenance": [],
   "toc_visible": true
  },
  "kernelspec": {
   "display_name": "Python 3",
   "language": "python",
   "name": "python3"
  },
  "language_info": {
   "codemirror_mode": {
    "name": "ipython",
    "version": 3
   },
   "file_extension": ".py",
   "mimetype": "text/x-python",
   "name": "python",
   "nbconvert_exporter": "python",
   "pygments_lexer": "ipython3",
   "version": "3.7.6"
  }
 },
 "nbformat": 4,
 "nbformat_minor": 1
}
