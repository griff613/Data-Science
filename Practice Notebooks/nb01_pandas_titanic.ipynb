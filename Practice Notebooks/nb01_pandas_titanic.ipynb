{
 "cells": [
  {
   "cell_type": "markdown",
   "metadata": {
    "colab_type": "text",
    "id": "CED0hCUq1CeI"
   },
   "source": [
    "# Notebook 1: Introduction to Pandas and the Titanic Data Set\n",
    "***\n",
    "\n",
    "If you haven't at least skimmed the Numpy and Pandas tutorial, **STOP** and go do that now. \n",
    "\n",
    "In this notebook you'll apply some basic Pandas tools to explore the ubiquitous **Titanic** dataset. \n",
    "\n",
    "First, as always, we'll load Numpy and Pandas using their common aliases, np and pd. "
   ]
  },
  {
   "cell_type": "code",
   "execution_count": null,
   "metadata": {
    "colab": {},
    "colab_type": "code",
    "id": "V4wdUHiY1CeJ"
   },
   "outputs": [],
   "source": [
    "import numpy as np \n",
    "import pandas as pd"
   ]
  },
  {
   "cell_type": "markdown",
   "metadata": {
    "colab_type": "text",
    "id": "_p8o1WrQ1CeM"
   },
   "source": [
    "The data is stored in a .csv file (a format that lists data separated by commas) called clean_titanic_data.csv.  We'll import the data into Pandas using the read_csv( ) function.  Depending on how you're accessing this notebook you'll use one of two options to access the data.  If you've cloned the class GitHub repository then you'll have a local copy of the data set on your machine and you can use the local file path shown below.  If you are using Azure Notebooks, or have gotten this notebook in some other way, then you will use the the web-based file path shown below. "
   ]
  },
  {
   "cell_type": "code",
   "execution_count": null,
   "metadata": {
    "colab": {},
    "colab_type": "code",
    "id": "n-GtQxPW1CeN"
   },
   "outputs": [],
   "source": [
    "# Path to the data - select the path that works for you \n",
    "file_path = 'clean_titanic_data.csv'\n",
    "\n",
    "# Load the data into a DataFrame \n",
    "df = pd.read_csv(file_path)"
   ]
  },
  {
   "cell_type": "markdown",
   "metadata": {
    "colab_type": "text",
    "id": "Lg7PCpK11CeP"
   },
   "source": [
    "Take a look at the first few rows of the DataFrame using the head( ) method. "
   ]
  },
  {
   "cell_type": "code",
   "execution_count": null,
   "metadata": {
    "colab": {},
    "colab_type": "code",
    "id": "UcS2Tt9o1CeQ",
    "outputId": "6540b4a6-0fb4-4afa-cbc8-4fd9dc72ece7"
   },
   "outputs": [],
   "source": [
    "df.head()"
   ]
  },
  {
   "cell_type": "markdown",
   "metadata": {
    "colab_type": "text",
    "id": "ryiImKME1CeT"
   },
   "source": [
    "From this you should see that each row in the DataFrame refers to a particular passenger on the Titanic.  The columns of the DataFrame give you specific information about each passenger.  The **PassengerId** is simply a unique identifier given to each passenger in the data set.  The rest of the attributes are more meaningful: \n",
    "\n",
    "- **Survived**: Indicates whether the passenger survived the sinking\n",
    "- **Pclass**: Indicates the socio-economic status of the passenger (lower number means higher class)\n",
    "- **Name**: The passenger's name \n",
    "- **Sex**: The passenger's sex \n",
    "- **Age**: The passenger's age\n",
    "- **SibSp**: The number of siblings / spouses the passenger was traveling with \n",
    "- **Parch**: The number of children / parents the passenger was traveling with \n",
    "- **Ticket**: The passenger's ticket number \n",
    "- **Fare**: How much the passenger paid for their ticket \n",
    "- **Embarked**: The passenger's port of embarkation (C = Cherbourg, Q = Queenstown, S = Southampton)\n",
    "\n",
    "### Exercise 1\n",
    "***\n",
    "Determine how many people survived the disaster"
   ]
  },
  {
   "cell_type": "code",
   "execution_count": null,
   "metadata": {
    "colab": {},
    "colab_type": "code",
    "id": "4ITgRziH1CeT",
    "outputId": "c000851b-a92b-4807-fa18-2e4c6aed6fff"
   },
   "outputs": [],
   "source": [
    "people_survived = df[\"Survived\"].sum()\n",
    "\n",
    "print(\"{} people survived the disaster\".format(people_survived))\n"
   ]
  },
  {
   "cell_type": "markdown",
   "metadata": {
    "colab_type": "text",
    "id": "sOkxsebr1CeW"
   },
   "source": [
    "### Exercise 2  \n",
    "***\n",
    "Determine how many men and how many women survived the disaster "
   ]
  },
  {
   "cell_type": "code",
   "execution_count": null,
   "metadata": {
    "colab": {},
    "colab_type": "code",
    "id": "jWEgdyIB1CeW",
    "outputId": "5e55c17c-f404-4a13-c715-4b53a7f132ac"
   },
   "outputs": [],
   "source": [
    "males = df.loc[df[\"Sex\"]=='male'] # df.loc gets number of Males\n",
    "male_survived = males[\"Survived\"].sum() # sum of males that survivied\n",
    "# if you want to add more criteria\n",
    "males_sp = males.loc[males[\"SibSp\"] > 0] # Males with spouses/siblisgs\n",
    "wSibs = males[\"SibSp\"].sum()\n",
    "\n",
    "females = df.loc[df[\"Sex\"]=='female']\n",
    "female_survived = females[\"Survived\"].sum() \n",
    "\n",
    "print(\"{} men survived the disaster\".format(male_survived))\n",
    "print(\"{} women survived the disaster\".format(female_survived))\n",
    "print(\"{} men with spouses\".format(wSibs))"
   ]
  },
  {
   "cell_type": "markdown",
   "metadata": {
    "colab_type": "text",
    "id": "-ioCdyce1CeZ"
   },
   "source": [
    "### Exercise 3 \n",
    "***\n",
    "Determine how many children under the age of 12 survived the disaster. "
   ]
  },
  {
   "cell_type": "code",
   "execution_count": null,
   "metadata": {
    "colab": {},
    "colab_type": "code",
    "id": "qGdZrTpf1Cec",
    "outputId": "b3f900c1-ca14-4064-afbc-3ef8f7076371"
   },
   "outputs": [],
   "source": [
    "children = df.loc[df[\"Age\"]<12]\n",
    "children_survived = children[\"Survived\"].sum()\n",
    "print(\"{} children survived the disaster\".format(children_survived))"
   ]
  },
  {
   "cell_type": "markdown",
   "metadata": {
    "colab_type": "text",
    "id": "TBpSPjns1Cef"
   },
   "source": [
    "### Exercise 4 \n",
    "***\n",
    "The **SibSp** and **Parch** attributes tell us the number of siblings/spouses and parents/children each passenger had on board.  Create a new column in the DataFrame called **Family** that indicates how many siblings/spouses/parents/children a passenger was traveling with. Then report how many people survived that were traveling with 3 or more family members. "
   ]
  },
  {
   "cell_type": "code",
   "execution_count": null,
   "metadata": {
    "colab": {},
    "colab_type": "code",
    "id": "W6uwmKUBmheu"
   },
   "outputs": [],
   "source": [
    "df[\"Family\"] = df.apply(lambda row: row[\"sibSp\"])"
   ]
  },
  {
   "cell_type": "code",
   "execution_count": null,
   "metadata": {
    "colab": {},
    "colab_type": "code",
    "id": "YbOcRWZp1Cef"
   },
   "outputs": [],
   "source": [
    "family_survived = # TODO\n",
    "print(\"{} people traveling with 3 or more family members survived the disaster\".format(family_survived))"
   ]
  },
  {
   "cell_type": "markdown",
   "metadata": {
    "colab_type": "text",
    "id": "qVpxm1RU1Ceh"
   },
   "source": [
    "### Exercise 5 \n",
    "***\n",
    "In this exercise you will write some code to predict whether a person survived the disaster based on their information.  Obviously, you'll want to ignore the **Survived** attribute for this to avoid cheating. You'll store your predictions ($1$ if you predict survived, $0$ if you predict died) in a column of the DataFrame called **Prediction**.  You can then use the following function to see how accurate your prediction was. "
   ]
  },
  {
   "cell_type": "code",
   "execution_count": null,
   "metadata": {
    "colab": {},
    "colab_type": "code",
    "id": "YKB7cVJu1Ceh"
   },
   "outputs": [],
   "source": [
    "def score_prediction(df):\n",
    "    '''\n",
    "    Function to score predictions.  \n",
    "    Takes entire DataFrame as sole argument. \n",
    "    '''\n",
    "    acc = (df[\"Survived\"]==df[\"Prediction\"]).sum() / len(df)\n",
    "    print(\"Your accuracy is {0:.1f}%\".format(100*acc))"
   ]
  },
  {
   "cell_type": "markdown",
   "metadata": {
    "colab_type": "text",
    "id": "XtfE-ch61Cej"
   },
   "source": [
    "There are several ways that we can accomplish this.  The first method we'll highlight is one that loops over every row in the DataFrame, makes a decision based on that row's attributes, and then sets the relevant prediction in the **Prediction** column.  As an example, we'll use a very naive heuristic that predicts that all males survive and all females die. "
   ]
  },
  {
   "cell_type": "code",
   "execution_count": null,
   "metadata": {
    "colab": {},
    "colab_type": "code",
    "id": "TGMCsPVU1Cek"
   },
   "outputs": [],
   "source": [
    "for passenger_index, passenger in df.iterrows():\n",
    "    df.loc[passenger_index, \"Prediction\"] = 1 if df.loc[passenger_index, \"Sex\"] == 'male' else 0"
   ]
  },
  {
   "cell_type": "markdown",
   "metadata": {
    "colab_type": "text",
    "id": "nEzDzwFb1Cem"
   },
   "source": [
    "We can check that our code actually did something using the head( ) function and observing that we do in fact have a column called **Prediction** populated with $1$'s and $0$'s. You can see that the $1$'s in the **Prediction** column do in-fact line up with \"male\" in the **Sex** column. "
   ]
  },
  {
   "cell_type": "code",
   "execution_count": null,
   "metadata": {
    "colab": {},
    "colab_type": "code",
    "id": "cDJWGuhe1Cem"
   },
   "outputs": [],
   "source": [
    "df.head(10)"
   ]
  },
  {
   "cell_type": "markdown",
   "metadata": {
    "colab_type": "text",
    "id": "zg4jV4jd1Cep"
   },
   "source": [
    "Now, let's see how we did by passing our DataFrame into the score_prediction( ) function. "
   ]
  },
  {
   "cell_type": "code",
   "execution_count": null,
   "metadata": {
    "colab": {},
    "colab_type": "code",
    "id": "Z4EAGqLN1Cep"
   },
   "outputs": [],
   "source": [
    "score_prediction(df)"
   ]
  },
  {
   "cell_type": "markdown",
   "metadata": {
    "colab_type": "text",
    "id": "iHFY-tT71Cer"
   },
   "source": [
    "And here we see that our naive prediction netted us a 22% prediction accuracy (which isn't very good, but you're going to make it better). \n",
    "\n",
    "OK, so looping over the data is one option, but in Python, unfortunately, it's not a very good option.  Python is an interpreted language, which means that loops are slow.  We didn't really notice it here, because our DataFrame only has around 700 rows in it, but on data sets with hundreds of thousands or millions of entries, loops can grind your day to a complete halt.  \n",
    "\n",
    "It's better to use vectorized methods like Pandas apply( ) function combined with Python lambda functions.  One way to accomplish the same results as above is as follows: "
   ]
  },
  {
   "cell_type": "code",
   "execution_count": null,
   "metadata": {
    "colab": {},
    "colab_type": "code",
    "id": "YH5P6eGd1Ces"
   },
   "outputs": [],
   "source": [
    "df[\"Prediction\"] = df[\"Sex\"].apply(lambda s: 1 if s==\"male\" else 0)\n",
    "df.head(10)"
   ]
  },
  {
   "cell_type": "markdown",
   "metadata": {
    "colab_type": "text",
    "id": "sMocB2EG1Cet"
   },
   "source": [
    "You can check that this produces the same result as the loop-based method. We can compare the speeds of the apply( ) method and the loop-based method using the Jupyter magic %timeit command.  \n"
   ]
  },
  {
   "cell_type": "code",
   "execution_count": null,
   "metadata": {
    "colab": {},
    "colab_type": "code",
    "id": "pYFmhrRj1Ceu"
   },
   "outputs": [],
   "source": [
    "# Loop-based method \n",
    "print(\"Timing loop-based method: \")\n",
    "%timeit for passenger_index, passenger in df.iterrows(): df.loc[passenger_index, \"Prediction\"] = 1 if df.loc[passenger_index, \"Sex\"] == 'male' else 0\n",
    "    \n",
    "# Apply-based method \n",
    "print(\"Timing apply-based method: \")\n",
    "%timeit df[\"Prediction\"] = df[\"Sex\"].apply(lambda s: 1 if s==\"male\" else 0)"
   ]
  },
  {
   "cell_type": "markdown",
   "metadata": {
    "colab_type": "text",
    "id": "iL5E2nIM1Cew"
   },
   "source": [
    "Note that here ms is milliseconds and $\\mu\\textrm{s}$ is **micro**seconds.  You can hopefully see that the apply method is **tremendously** faster than the loop-based method. \n",
    "\n",
    "OK, let's do one more slightly more complicated example so that we can see how to use the apply( ) function with multiple inputs.  Suppose say that you want to predict that a person survived if they are male **AND** they were traveling alone (probably not a good heuristic but just go with it).  To do this we need values from both the **Sex** column and the **Family** column.  Here is the code"
   ]
  },
  {
   "cell_type": "code",
   "execution_count": null,
   "metadata": {
    "colab": {},
    "colab_type": "code",
    "id": "VRvaEAl01Cew"
   },
   "outputs": [],
   "source": [
    "df[\"Prediction\"] = df.apply(lambda row: 1 if row[\"Sex\"]==\"male\" and row[\"Family\"]==0 else 0, axis=1)\n",
    "df.head(20)"
   ]
  },
  {
   "cell_type": "markdown",
   "metadata": {
    "colab_type": "text",
    "id": "x0BMnbkL1Cey"
   },
   "source": [
    "Here the apply( ) function is applied to the entire DataFrame and the object passed to the lambda function is an entire row of the DataFrame.  We can then carve off the elements from the columns we're interested in and do our thing.  Let's see how we did! "
   ]
  },
  {
   "cell_type": "code",
   "execution_count": null,
   "metadata": {
    "colab": {},
    "colab_type": "code",
    "id": "HaTjqkzp1Cez"
   },
   "outputs": [],
   "source": [
    "score_prediction(df)"
   ]
  },
  {
   "cell_type": "markdown",
   "metadata": {
    "colab_type": "text",
    "id": "jI8W4dIK1Ce1"
   },
   "source": [
    "**W00T!** Minor improvement! OK, so you're job is to explore the data and see if you can cook up a custom prediction heuristic that does better than 31.1%!  I've created a Titanic Leaderboard post on Canvas.  If you get an accuracy you're proud of, post it there along with a description of what you did! "
   ]
  },
  {
   "cell_type": "code",
   "execution_count": null,
   "metadata": {
    "colab": {},
    "colab_type": "code",
    "id": "hUXt0w0y1Ce1"
   },
   "outputs": [],
   "source": []
  }
 ],
 "metadata": {
  "colab": {
   "name": "nb01_pandas_titanic.ipynb",
   "provenance": [],
   "toc_visible": true
  },
  "kernelspec": {
   "display_name": "Python 3",
   "language": "python",
   "name": "python3"
  },
  "language_info": {
   "codemirror_mode": {
    "name": "ipython",
    "version": 3
   },
   "file_extension": ".py",
   "mimetype": "text/x-python",
   "name": "python",
   "nbconvert_exporter": "python",
   "pygments_lexer": "ipython3",
   "version": "3.7.3"
  }
 },
 "nbformat": 4,
 "nbformat_minor": 4
}
