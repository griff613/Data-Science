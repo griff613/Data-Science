{
 "cells": [
  {
   "cell_type": "markdown",
   "metadata": {
    "colab_type": "text",
    "id": "vUCttYssmhet"
   },
   "source": [
    "<a id='top'></a>\n",
    "\n",
    "# Homework 1: Data Cleaning and Exploratory Data Analysis \n",
    "***\n",
    "\n",
    "**Name**: \n",
    "\n",
    "***\n",
    "\n",
    "This assignment is due on Canvas by **11:59 PM on Sunday June 14**. Your solutions to theoretical questions should be done in Markdown directly below the associated question.  Your solutions to computational questions should include any specified Python code and results as well as written commentary on your conclusions.  Remember that you are encouraged to discuss the problems with your classmates, but **you must write all code and solutions on your own**.\n",
    "\n",
    "**NOTES**: \n",
    "\n",
    "- If you're not familiar with typesetting math directly into Markdown then by all means, do your work on paper first and then typeset it later.  Refer the [reference guide](https://math.meta.stackexchange.com/questions/5020/mathjax-basic-tutorial-and-quick-reference) on writing math in Markdown. **All** of your written commentary, justifications and mathematical work should be in Markdown.\n",
    "\n",
    "- Because you can technically evaluate notebook cells is a non-linear order, it's a good idea to do Kernel $\\rightarrow$ Restart & Run All as a check before submitting your solutions.  That way if we need to run your code you will know that it will work as expected. \n",
    "\n",
    "- It is **bad form** to make your reader interpret numerical output from your code.  If a question asks you to compute some value from the data you should show your code output **AND** write a summary of the results in Markdown directly below your code. \n",
    "\n",
    "- This probably goes without saying, but... For any question that asks you to calculate something, you **must show all work and justify your answers to receive credit**. Sparse or nonexistent work will receive sparse or nonexistent credit. \n",
    "\n",
    "---\n",
    "**Shortcuts:**  [Problem 1](#p1) | [Problem 2](#p2) | [Problem 3](#p3) | [Problem 4](#p4) | [Problem 5](#p5) \n",
    "\n",
    "---"
   ]
  },
  {
   "cell_type": "code",
   "execution_count": 1,
   "metadata": {
    "colab": {},
    "colab_type": "code",
    "id": "W6uwmKUBmheu"
   },
   "outputs": [],
   "source": [
    "import pandas as pd\n",
    "import numpy as np\n",
    "import matplotlib.pylab as plt\n",
    "import math\n",
    "%matplotlib inline"
   ]
  },
  {
   "cell_type": "markdown",
   "metadata": {
    "colab_type": "text",
    "id": "QSCtARddmhex"
   },
   "source": [
    "[Back to top](#top)\n",
    "\n",
    "<br>\n",
    "\n",
    "<a id='p1'></a>\n",
    "\n",
    "### (10 points) Problem 1\n",
    "***\n",
    "\n",
    "<img style=\"float: left; width: 200px; padding: 3mm;\" src=\"https://aquarium.org/wp-content/uploads/2015/08/Seahorse-female.jpg\" alt=\"Drawing\"/>  \n",
    "Poseidon is studying seahorses. Locations in each of the Atlantic, Pacific, Indian, Artic, and Southern Oceans are chosen to catch and release seahorses. After being caught, the seahorses are monitored for 24 hours while being fed organic, free-range plankton. The amount of plankton that each seahorse eats is recorded in an app on Poseidon’s phone, called Hippocampus. He collects 6 seahorses from the Arctic Ocean, 36 seahorses from the Pacific Ocean, 12 seahorses from the Indian Ocean, 6 seahorses from the Southern Ocean, and 42 seahorses from the Atlantic Ocean. \n",
    "\n",
    "Poseidon wants to get a sense for the average amount of plankton eaten by seahorses, so he uses the Hippcampus app to first order the seahorses in terms of when each seahorse was caught (first caught to last caught). Then, he selects every 3rd seahorse to see how much plankton was eaten.\n",
    "\n",
    "$$ \\quad $$\n",
    "<br>\n",
    "<br>\n",
    "<br>\n",
    "**Part A:** Identify the following: \n",
    "\n",
    "- the population \n",
    "- the sample frame \n",
    "- the sample \n",
    "- the type of sample \n",
    "- the quantity of interest"
   ]
  },
  {
   "cell_type": "markdown",
   "metadata": {
    "colab_type": "text",
    "id": "olYX30QKmhey"
   },
   "source": [
    "<h2> <span style=\"color: Green\">Solution:</span> </h2>"
   ]
  },
  {
   "cell_type": "markdown",
   "metadata": {
    "colab_type": "text",
    "id": "5hhaaH8Xmhe7"
   },
   "source": [
    "* The <span style=\"color:green;\">Population </span>in this scenario would be All seahorses in the oceans.\n",
    "* The <span style=\"color: green\">Sample Frame</span> is all of the seahorses that were collected by Poseidon.\n",
    "* The  <span style=\"color: green\">Sample</span> is every third seahorse. The seahorses were ordered by time of capture.\n",
    "* This is an example of a  <span style=\"color: green\">Systematic Sample</span> where $ k = 3$. I don't believe this counts as a stratified sample. Although the seahorses were captured from multiple oceans, the seahorses are ordered by the time in which they were captured so the specific ocean that they were drawn from is not used in the analysis of the data.\n",
    "* The  <span style=\"color: green\">Quantity of interest</span> in this case would be the amount of plankton consumed by each seahorse in the sample. "
   ]
  },
  {
   "cell_type": "markdown",
   "metadata": {},
   "source": [
    "10/10"
   ]
  },
  {
   "cell_type": "markdown",
   "metadata": {
    "colab_type": "text",
    "id": "U5_STB1jmhfJ"
   },
   "source": [
    " "
   ]
  },
  {
   "cell_type": "markdown",
   "metadata": {
    "colab_type": "text",
    "id": "U5_STB1jmhfJ"
   },
   "source": [
    " "
   ]
  },
  {
   "cell_type": "markdown",
   "metadata": {
    "colab_type": "text",
    "id": "6Anzrna1mhez"
   },
   "source": [
    "[Back to top](#top)\n",
    "\n",
    "<br>\n",
    "\n",
    "<a id='p2'></a>\n",
    "\n",
    "### (25 points) Problem 2\n",
    "***\n",
    "\n",
    "A method to investigate the sensitivity of the sample mean and sample median to extreme outliers and changes in the dataset is to replace one or more elements in a given dataset by a number $y$ and investigate the effect when $y$ changes. To illustrate this, consider the following dataset:\n",
    " \n",
    "$$  4.3 \\quad 5.2 \\quad 5.0 \\quad 3.8 \\quad 4.1 \\quad 5.5 \\quad 1.9 $$\n",
    "\n",
    "\n"
   ]
  },
  {
   "cell_type": "markdown",
   "metadata": {
    "colab_type": "text",
    "id": "5hhaaH8Xmhe7"
   },
   "source": [
    "----------------\n"
   ]
  },
  {
   "cell_type": "markdown",
   "metadata": {
    "colab_type": "text",
    "id": "-tKAeJL7mhez"
   },
   "source": [
    "**Part A:** Compute the sample mean and sample median. Do not use the canned mean and median python functions. Write your own code to compute these quantities. You may use the python length and sort functions, but that is it."
   ]
  },
  {
   "cell_type": "code",
   "execution_count": 2,
   "metadata": {
    "colab": {},
    "colab_type": "code",
    "id": "3owAi5n_mhe0"
   },
   "outputs": [
    {
     "name": "stdout",
     "output_type": "stream",
     "text": [
      "Sample mean = 4.257142857142857\n",
      "Sample Median = 4.3\n"
     ]
    }
   ],
   "source": [
    "sample = [4.3, 5.2, 5.0, 3.8, 4.1, 5.5, 1.9]\n",
    "sampleSum = 0\n",
    "numElements = len(sample)\n",
    "mean = 0.0\n",
    "\n",
    "\n",
    "# For loop to collect numerator for mean calculation\n",
    "for i in sample:\n",
    "    sampleSum += i\n",
    "    \n",
    "# mean calculation\n",
    "mean = sampleSum/numElements\n",
    "print(\"Sample mean =\", mean)\n",
    "\n",
    "# Order sample by small value to large value\n",
    "sample.sort()\n",
    "\n",
    "# For a list with odd number of elements\n",
    "if(numElements%2 != 0):\n",
    "    # Calculating median index\n",
    "    idx = int((numElements-1)/2)\n",
    "    print(\"Sample Median =\", sample[idx])\n",
    "    \n",
    "else: # List is even\n",
    "    # Find the middle two elements and calculate their average.\n",
    "    idxOne = int((numElements/2) - 1)\n",
    "    idxTwo = int(numElements/2)\n",
    "    avg = (sample[idxOne] + sample[idxTwo])/2\n",
    "    print(\"Sample median =\", avg)"
   ]
  },
  {
   "cell_type": "markdown",
   "metadata": {
    "colab": {},
    "colab_type": "code",
    "id": "3owAi5n_mhe0"
   },
   "source": [
    "\n",
    "<h2> <span style=\"color: Green\">Output: Part A</span> </h2>\n",
    "- The above output shows that the mean of this sample $= 4.257$ and the Median $= 4.3$\n"
   ]
  },
  {
   "cell_type": "markdown",
   "metadata": {},
   "source": [
    "4/4"
   ]
  },
  {
   "cell_type": "markdown",
   "metadata": {
    "colab_type": "text",
    "id": "U5_STB1jmhfJ"
   },
   "source": [
    "----"
   ]
  },
  {
   "cell_type": "markdown",
   "metadata": {
    "colab_type": "text",
    "id": "5hhaaH8Xmhe7"
   },
   "source": [
    "----------------\n"
   ]
  },
  {
   "cell_type": "markdown",
   "metadata": {
    "colab_type": "text",
    "id": "7Y3szx9amhe2"
   },
   "source": [
    "**Part B:** Now, recompute the mean and the median using the python numpy functions. Compare your answers to what you computed in Part A. Do your answer match? (Hint: They should!)"
   ]
  },
  {
   "cell_type": "code",
   "execution_count": 3,
   "metadata": {
    "colab": {},
    "colab_type": "code",
    "id": "arBk8YKtmhe3"
   },
   "outputs": [
    {
     "name": "stdout",
     "output_type": "stream",
     "text": [
      "Mean by numpy: 4.257142857142857\n",
      "Median by numpy: 4.3\n"
     ]
    }
   ],
   "source": [
    "mean = np.mean(sample)\n",
    "med = np.median(sample)\n",
    "print(\"Mean by numpy: {}\".format(mean))\n",
    "print(\"Median by numpy: {}\".format(med))"
   ]
  },
  {
   "cell_type": "markdown",
   "metadata": {
    "colab_type": "text",
    "id": "P9I13DRAmhe6"
   },
   "source": [
    "\n",
    "<h2> <span style=\"color: Green\">Output: Part B </span> </h2>The above output shows that the mean of this sample $= 4.257$ and the Median $= 4.3$.\n",
    "This is the same output that my function from part A came up with, but with about 20 less\n",
    "lines of code.\n",
    "\n",
    "\n",
    "\n",
    "----"
   ]
  },
  {
   "cell_type": "markdown",
   "metadata": {},
   "source": [
    "2/2"
   ]
  },
  {
   "cell_type": "markdown",
   "metadata": {
    "colab_type": "text",
    "id": "U5_STB1jmhfJ"
   },
   "source": [
    " "
   ]
  },
  {
   "cell_type": "markdown",
   "metadata": {
    "colab_type": "text",
    "id": "U5_STB1jmhfJ"
   },
   "source": [
    " "
   ]
  },
  {
   "cell_type": "markdown",
   "metadata": {
    "colab_type": "text",
    "id": "ulpFIaaCmhe6"
   },
   "source": [
    "**Part C:** Now consider the following data set. \n",
    "$$  4.3 \\quad 5.2 \\quad 5.0 \\quad 3.8 \\quad 4.1 \\quad 5.5 \\quad 1.9 \\quad y$$\n",
    "\n",
    "Is there a value for $y$ that would make the mean of the data equal to 7? If so, calculate the value of $y$ that makes the mean equal to 7. If not, clearly explain why not.\n",
    "    \n",
    "Is there a value for $y$ that would make the median of the data equal to 7? If so, calculate the values of $y$ that makes the median equal to 7. If not, clearly explain why not."
   ]
  },
  {
   "cell_type": "markdown",
   "metadata": {
    "colab_type": "text",
    "id": "5hhaaH8Xmhe7"
   },
   "source": [
    "----------------\n",
    "Solution:\n",
    "With the addition of y, there are 8 elements in the list. For the mean to be equal to 7, the sum of the elements in the numerator need to be equal to $8 * 7$\n",
    "\n",
    "----"
   ]
  },
  {
   "cell_type": "code",
   "execution_count": 4,
   "metadata": {
    "colab": {},
    "colab_type": "code",
    "id": "mejLX0g-mhe7"
   },
   "outputs": [
    {
     "name": "stdout",
     "output_type": "stream",
     "text": [
      "y =  26.200000000000003\n",
      "New Sample:  [1.9, 3.8, 4.1, 4.3, 5.0, 5.2, 5.5, 26.200000000000003]\n",
      "New Sum =  56.0\n",
      "mean =  7.0\n"
     ]
    }
   ],
   "source": [
    "# Calculate and Display Y\n",
    "y = (56 - sampleSum)\n",
    "print(\"y = \",y)\n",
    "\n",
    "# Append to sample and take new mean\n",
    "# Note: It keeps appending every time I run this cell.\n",
    "sample.append(y)\n",
    "sampleSum+=y\n",
    "\n",
    "print(\"New Sample: \", sample)\n",
    "print(\"New Sum = \", sampleSum)\n",
    "print(\"mean = \",np.mean(sample))\n"
   ]
  },
  {
   "cell_type": "markdown",
   "metadata": {
    "colab_type": "text",
    "id": "P9I13DRAmhe6"
   },
   "source": [
    "----\n",
    "<h2> <span style=\"color: Green\">Output, Part C (i. Mean): </span> </h2> $y = 26.2$ creates desired mean of 7\n",
    "\n",
    "\n",
    "\n",
    "----"
   ]
  },
  {
   "cell_type": "markdown",
   "metadata": {
    "colab_type": "text",
    "id": "5hhaaH8Xmhe7"
   },
   "source": [
    "----------------\n",
    "<h2> <span style=\"color: Green\">Part C (ii. Median) Solution: </span> </h2>\n",
    "For the Median to be equal to 7, the two central elements would need to add up to 14. For y to affect the median: $ 4.3 < y < 5.0$. Since there is no y large enough to equal 14 when added to either 4.3 or 5, The median couldn't be 7.\n",
    "\n",
    "----"
   ]
  },
  {
   "cell_type": "markdown",
   "metadata": {},
   "source": [
    "5/5"
   ]
  },
  {
   "cell_type": "markdown",
   "metadata": {
    "colab_type": "text",
    "id": "cmK1yL75mhfD"
   },
   "source": [
    "**Part D**: Compute the sample variance and the sample standard deviation for the original dataset given in part A using the formulas given in class. You may not use the built-in python variance, standard deviation, or sum functions. Using the length and square root functions is fine."
   ]
  },
  {
   "cell_type": "code",
   "execution_count": 5,
   "metadata": {
    "colab": {},
    "colab_type": "code",
    "id": "5F2eKDgdmhfE"
   },
   "outputs": [
    {
     "name": "stdout",
     "output_type": "stream",
     "text": [
      "Sample Variance = 1.4628571428571429\n",
      "Standard Deviation = 1.209486313629527\n"
     ]
    }
   ],
   "source": [
    "sample = [4.3, 5.2, 5.0, 3.8, 4.1, 5.5, 1.9]\n",
    "sample.sort()\n",
    "denom = 0\n",
    "\n",
    "# denom is the sum of all elements, each subtracted by the mean and squared.\n",
    "for i in sample:\n",
    "    z = ((i - mean)**2)\n",
    "    denom+=z\n",
    "    \n",
    "variance = denom/(len(sample)-1)\n",
    "print(\"Sample Variance =\", variance)\n",
    "print(\"Standard Deviation =\",math.sqrt(variance))\n",
    "    "
   ]
  },
  {
   "cell_type": "markdown",
   "metadata": {
    "colab_type": "text",
    "id": "5hhaaH8Xmhe7"
   },
   "source": [
    "\n",
    "<h2> <span style=\"color: Green\">Output, Part D: </span> </h2>\n",
    "I used the sample variance formula to compute the variance and than took the square root for the standard deviation\n",
    "\n",
    "----"
   ]
  },
  {
   "cell_type": "markdown",
   "metadata": {},
   "source": [
    "4/4"
   ]
  },
  {
   "cell_type": "markdown",
   "metadata": {
    "colab_type": "text",
    "id": "5hhaaH8Xmhe7"
   },
   "source": [
    "----------------\n"
   ]
  },
  {
   "cell_type": "markdown",
   "metadata": {
    "colab_type": "text",
    "id": "CHeFfUMxmhfG"
   },
   "source": [
    "**Part E:** Execute the following code. Does it match what you computed in part D? Why or why not? If not, how can you correct the code below?"
   ]
  },
  {
   "cell_type": "code",
   "execution_count": 6,
   "metadata": {
    "colab": {},
    "colab_type": "code",
    "id": "jYRJaOHEmhfG"
   },
   "outputs": [
    {
     "name": "stdout",
     "output_type": "stream",
     "text": [
      "The sample variance is:  1.2538775510204085\n",
      "the std dev is:  1.1197667395580244\n"
     ]
    }
   ],
   "source": [
    "dataset = [4.3, 5.2, 5.0, 3.8, 4.1, 5.5, 1.9]\n",
    "print(\"The sample variance is: \", np.var(dataset))\n",
    "print(\"the std dev is: \", np.std(dataset))"
   ]
  },
  {
   "cell_type": "markdown",
   "metadata": {
    "colab_type": "text",
    "id": "U5_STB1jmhfJ"
   },
   "source": [
    "<h2> <span style=\"color: Green\">Solution, Part E: </span> </h2>\n",
    "My result and numpy's results are different. I looked up the documentation for numpy.var, and I found that the ddof($\\frac{1}{n-ddof}$) is set by default to 0: $\\frac{1}{n}$ instead of 1: $\\frac{1}{n-1}$, So I fixed the code below by setting ddof on both var and std functions to 1. This corrected the error."
   ]
  },
  {
   "cell_type": "code",
   "execution_count": 7,
   "metadata": {
    "colab": {},
    "colab_type": "code",
    "id": "D5mLo7eMmhfJ"
   },
   "outputs": [
    {
     "name": "stdout",
     "output_type": "stream",
     "text": [
      "The sample variance is:  1.4628571428571433\n",
      "the std dev is:  1.2094863136295273\n"
     ]
    }
   ],
   "source": [
    "dataset = [4.3, 5.2, 5.0, 3.8, 4.1, 5.5, 1.9]\n",
    "print(\"The sample variance is: \", np.var(dataset, ddof=1))\n",
    "print(\"the std dev is: \", np.std(dataset, ddof=1))"
   ]
  },
  {
   "cell_type": "markdown",
   "metadata": {},
   "source": [
    "4/4"
   ]
  },
  {
   "cell_type": "markdown",
   "metadata": {
    "colab_type": "text",
    "id": "5hhaaH8Xmhe7"
   },
   "source": [
    "----------------\n"
   ]
  },
  {
   "cell_type": "markdown",
   "metadata": {
    "colab_type": "text",
    "id": "U5_STB1jmhfJ"
   },
   "source": [
    " "
   ]
  },
  {
   "cell_type": "markdown",
   "metadata": {
    "colab_type": "text",
    "id": "pY43hZ9TmhfM"
   },
   "source": [
    "**Part F**: Again consider the data set from Part C: $$  4.3 \\quad 5.2 \\quad 5.0 \\quad 3.8 \\quad 4.1 \\quad 5.5 \\quad 1.9 \\quad y$$\n",
    "\n",
    "Compute the sample median for the following cases (you may use whatever built-in python functions you'd like): \n",
    "- $y=5$ \n",
    "- $y=50$ \n",
    "- $y=4.36$ \n",
    "- $y \\to \\infty$ \n",
    "- $y \\to -\\infty$"
   ]
  },
  {
   "cell_type": "code",
   "execution_count": 8,
   "metadata": {
    "colab": {},
    "colab_type": "code",
    "id": "9znR0pnumhfM"
   },
   "outputs": [
    {
     "name": "stdout",
     "output_type": "stream",
     "text": [
      "y = 5  | mean = 4.35\n",
      "y = 50  | mean = 9.975\n",
      "y = 4.36  | mean = 4.27\n",
      "y = inf  | mean = inf\n",
      "y = -inf  | mean = -inf\n"
     ]
    }
   ],
   "source": [
    "# Made a list for the y's and computed the mean with them separately.\n",
    "options = [5, 50, 4.36, math.inf, -math.inf]\n",
    "s = sum(dataset)\n",
    "for i in options:\n",
    "    mn = (s+i)/(len(dataset)+1)\n",
    "    print(\"y =\", i, \" | mean =\", mn)"
   ]
  },
  {
   "cell_type": "markdown",
   "metadata": {
    "colab_type": "text",
    "id": "5hhaaH8Xmhe7"
   },
   "source": [
    "\n",
    "<h2> <span style=\"color: Green\">Output, Part F: </span> </h2>\n",
    "An infinite element will make the mean infinite as well\n",
    "\n",
    "----"
   ]
  },
  {
   "cell_type": "markdown",
   "metadata": {},
   "source": [
    "0/3\n",
    "\n",
    "You have to compute sample median"
   ]
  },
  {
   "cell_type": "markdown",
   "metadata": {
    "colab_type": "text",
    "id": "5hhaaH8Xmhe7"
   },
   "source": [
    "----------------\n"
   ]
  },
  {
   "cell_type": "markdown",
   "metadata": {
    "colab_type": "text",
    "id": "eJijy5GqmhfP"
   },
   "source": [
    "**Part G**: Think about the previous parts, above, and describe in words or mathematical notation the answer to the following question:\n",
    "\n",
    "- By varying $y$, what is the set of all the possible values that the sample mean could take on?\n"
   ]
  },
  {
   "cell_type": "markdown",
   "metadata": {
    "colab_type": "text",
    "id": "wUESd1N4mhfP"
   },
   "source": [
    "<h2> <span style=\"color: Green\">Solution, Part G: </span> </h2>\n",
    "The Sample mean can take on any Real number ($\\mathbb{R}$), but the median cannot. "
   ]
  },
  {
   "cell_type": "markdown",
   "metadata": {},
   "source": [
    "1/1"
   ]
  },
  {
   "cell_type": "markdown",
   "metadata": {
    "colab_type": "text",
    "id": "5hhaaH8Xmhe7"
   },
   "source": [
    "----------------\n"
   ]
  },
  {
   "cell_type": "markdown",
   "metadata": {
    "colab_type": "text",
    "id": "5hhaaH8Xmhe7"
   },
   "source": [
    "----------------\n"
   ]
  },
  {
   "cell_type": "markdown",
   "metadata": {
    "colab_type": "text",
    "id": "2CA4zzH1mhfQ"
   },
   "source": [
    "**Part H**: Describe in words or mathematical notation, what happens to the sample standard deviation when $y$ is varied in the following ways: \n",
    " \n",
    "- $y \\to \\infty$ \n",
    "- $y \\to \\bar{x}$"
   ]
  },
  {
   "cell_type": "markdown",
   "metadata": {
    "colab_type": "text",
    "id": "wUESd1N4mhfP"
   },
   "source": [
    "<h2> <span style=\"color: Green\">Solution, Part H: </span> </h2>\n",
    "As $y \\rightarrow \\infty$, The sample variance also approaches infinity, but when $y \\to \\bar{x}$, The sample variance decreases to a minimum point."
   ]
  },
  {
   "cell_type": "markdown",
   "metadata": {},
   "source": [
    "2/2"
   ]
  },
  {
   "cell_type": "markdown",
   "metadata": {
    "colab_type": "text",
    "id": "FGu381p4mhfQ"
   },
   "source": [
    "----"
   ]
  },
  {
   "cell_type": "markdown",
   "metadata": {
    "colab_type": "text",
    "id": "nKklB145mhfQ"
   },
   "source": [
    "[Back to top](#top)\n",
    "\n",
    "<a id='p3'></a>\n",
    "\n",
    "## (25 pts) Problem 3\n",
    "*** \n",
    "Some claim that the final hours aboard the RMS Titanic were marked by \"class warfare\" in which the people with first-class tickets took all the good spots on the lifeboats; others claim that the final hours were characterized by male chivalry, in which the men valiantly gave up their positions in the boats and succumbed bravely to the depths of the Atlantic. \n",
    "\n",
    "We have the data on survival rates by class and by sex, so let's figure out whether there is evidence for these scenarios. Access the Titanic data in `titanic_data.csv` and store it in a Pandas DataFrame. The data contains information pertaining to class status (**Pclass**), survival (**Survived**), and gender (**Sex**) of passengers, among other things. Be sure to use the `titanic_data.csv` data set, *not* the `clean_titanic_data` file from the in-class notebook."
   ]
  },
  {
   "cell_type": "code",
   "execution_count": 9,
   "metadata": {
    "colab": {},
    "colab_type": "code",
    "id": "0ff8XvJcmhfR"
   },
   "outputs": [
    {
     "data": {
      "text/html": [
       "<div>\n",
       "<style scoped>\n",
       "    .dataframe tbody tr th:only-of-type {\n",
       "        vertical-align: middle;\n",
       "    }\n",
       "\n",
       "    .dataframe tbody tr th {\n",
       "        vertical-align: top;\n",
       "    }\n",
       "\n",
       "    .dataframe thead th {\n",
       "        text-align: right;\n",
       "    }\n",
       "</style>\n",
       "<table border=\"1\" class=\"dataframe\">\n",
       "  <thead>\n",
       "    <tr style=\"text-align: right;\">\n",
       "      <th></th>\n",
       "      <th>PassengerId</th>\n",
       "      <th>Survived</th>\n",
       "      <th>Pclass</th>\n",
       "      <th>Name</th>\n",
       "      <th>Sex</th>\n",
       "      <th>Age</th>\n",
       "      <th>SibSp</th>\n",
       "      <th>Parch</th>\n",
       "      <th>Ticket</th>\n",
       "      <th>Fare</th>\n",
       "      <th>Cabin</th>\n",
       "      <th>Embarked</th>\n",
       "    </tr>\n",
       "  </thead>\n",
       "  <tbody>\n",
       "    <tr>\n",
       "      <td>0</td>\n",
       "      <td>1</td>\n",
       "      <td>0</td>\n",
       "      <td>3</td>\n",
       "      <td>Braund, Mr. Owen Harris</td>\n",
       "      <td>male</td>\n",
       "      <td>36.0</td>\n",
       "      <td>1</td>\n",
       "      <td>0</td>\n",
       "      <td>A/5 21171</td>\n",
       "      <td>7.2500</td>\n",
       "      <td>NaN</td>\n",
       "      <td>S</td>\n",
       "    </tr>\n",
       "    <tr>\n",
       "      <td>1</td>\n",
       "      <td>2</td>\n",
       "      <td>1</td>\n",
       "      <td>1</td>\n",
       "      <td>Cumings, Mrs. John Bradley (Florence Briggs Th...</td>\n",
       "      <td>female</td>\n",
       "      <td>18.0</td>\n",
       "      <td>1</td>\n",
       "      <td>0</td>\n",
       "      <td>PC 17599</td>\n",
       "      <td>71.2833</td>\n",
       "      <td>C85</td>\n",
       "      <td>C</td>\n",
       "    </tr>\n",
       "    <tr>\n",
       "      <td>2</td>\n",
       "      <td>3</td>\n",
       "      <td>1</td>\n",
       "      <td>3</td>\n",
       "      <td>Heikkinen, Miss. Laina</td>\n",
       "      <td>female</td>\n",
       "      <td>14.0</td>\n",
       "      <td>0</td>\n",
       "      <td>0</td>\n",
       "      <td>STON/O2. 3101282</td>\n",
       "      <td>7.9250</td>\n",
       "      <td>NaN</td>\n",
       "      <td>S</td>\n",
       "    </tr>\n",
       "    <tr>\n",
       "      <td>3</td>\n",
       "      <td>4</td>\n",
       "      <td>1</td>\n",
       "      <td>1</td>\n",
       "      <td>Futrelle, Mrs. Jacques Heath (Lily May Peel)</td>\n",
       "      <td>female</td>\n",
       "      <td>27.0</td>\n",
       "      <td>1</td>\n",
       "      <td>0</td>\n",
       "      <td>113803</td>\n",
       "      <td>53.1000</td>\n",
       "      <td>C123</td>\n",
       "      <td>S</td>\n",
       "    </tr>\n",
       "    <tr>\n",
       "      <td>4</td>\n",
       "      <td>5</td>\n",
       "      <td>0</td>\n",
       "      <td>3</td>\n",
       "      <td>Allen, Mr. William Henry</td>\n",
       "      <td>male</td>\n",
       "      <td>63.0</td>\n",
       "      <td>0</td>\n",
       "      <td>0</td>\n",
       "      <td>373450</td>\n",
       "      <td>8.0500</td>\n",
       "      <td>NaN</td>\n",
       "      <td>S</td>\n",
       "    </tr>\n",
       "  </tbody>\n",
       "</table>\n",
       "</div>"
      ],
      "text/plain": [
       "   PassengerId  Survived  Pclass  \\\n",
       "0            1         0       3   \n",
       "1            2         1       1   \n",
       "2            3         1       3   \n",
       "3            4         1       1   \n",
       "4            5         0       3   \n",
       "\n",
       "                                                Name     Sex   Age  SibSp  \\\n",
       "0                            Braund, Mr. Owen Harris    male  36.0      1   \n",
       "1  Cumings, Mrs. John Bradley (Florence Briggs Th...  female  18.0      1   \n",
       "2                             Heikkinen, Miss. Laina  female  14.0      0   \n",
       "3       Futrelle, Mrs. Jacques Heath (Lily May Peel)  female  27.0      1   \n",
       "4                           Allen, Mr. William Henry    male  63.0      0   \n",
       "\n",
       "   Parch            Ticket     Fare Cabin Embarked  \n",
       "0      0         A/5 21171   7.2500   NaN        S  \n",
       "1      0          PC 17599  71.2833   C85        C  \n",
       "2      0  STON/O2. 3101282   7.9250   NaN        S  \n",
       "3      0            113803  53.1000  C123        S  \n",
       "4      0            373450   8.0500   NaN        S  "
      ]
     },
     "execution_count": 9,
     "metadata": {},
     "output_type": "execute_result"
    }
   ],
   "source": [
    "file_path = 'Data/titanic_data.csv'\n",
    "df = pd.read_csv(file_path)\n",
    "df.head()"
   ]
  },
  {
   "cell_type": "markdown",
   "metadata": {
    "colab_type": "text",
    "id": "5hhaaH8Xmhe7"
   },
   "source": [
    "----------------\n"
   ]
  },
  {
   "cell_type": "markdown",
   "metadata": {
    "colab_type": "text",
    "id": "D0h2DrLGmhfT"
   },
   "source": [
    "**Part A**: Consider the two claims: class warfare, and male chivalry. Suppose that class warfare occurred in the final hours aboard the Titanic.  What patterns might you expect to see in the data?  Suppose that male chivalry was widespread during the final hours instead. What patterns might you then expect to see in the data?  Explain both of these hypothesized patterns in words. Are these two hypotheses mutually exclusive or not?"
   ]
  },
  {
   "cell_type": "markdown",
   "metadata": {
    "colab_type": "text",
    "id": "30B7DPg9mhfT"
   },
   "source": [
    "<h2> <span style=\"color: Green\">Solution, Part A: </span> </h2>\n",
    "- I would imagine that if a class war started during the final hours, The number of Male passengers who died would have been higher. This is not very scientific, but in my opinion there would be a lot more deaths among upper class passengers. This is simply because I believe the lower class passengers are better in hand-to-hand combat. \n",
    "- If male chivalry was widespread, the deaths of males would also be higher and the deaths of women and children would be lower due to the men sacrificing their positions on rescue boats."
   ]
  },
  {
   "cell_type": "markdown",
   "metadata": {},
   "source": [
    "1.5/2\n",
    "\n",
    "not answered mutually exclusive or not"
   ]
  },
  {
   "cell_type": "markdown",
   "metadata": {
    "colab_type": "text",
    "id": "5hhaaH8Xmhe7"
   },
   "source": [
    "----------------\n"
   ]
  },
  {
   "cell_type": "markdown",
   "metadata": {
    "colab_type": "text",
    "id": "wzAEg0ItmhfT"
   },
   "source": [
    "**Part B**: Use Pandas methods to create a clean data set by removing any rows from the DataFrame that are missing values corresponding to **Survived**, **Pclass**, **Age**, or **Sex**. Store the clean data in a DataFrame called dfTitanic. Be sure to show any exploratory work determining if/where there are rows with missing values."
   ]
  },
  {
   "cell_type": "code",
   "execution_count": 10,
   "metadata": {
    "colab": {},
    "colab_type": "code",
    "id": "vEs7diGlmhfU"
   },
   "outputs": [
    {
     "data": {
      "text/html": [
       "<div>\n",
       "<style scoped>\n",
       "    .dataframe tbody tr th:only-of-type {\n",
       "        vertical-align: middle;\n",
       "    }\n",
       "\n",
       "    .dataframe tbody tr th {\n",
       "        vertical-align: top;\n",
       "    }\n",
       "\n",
       "    .dataframe thead th {\n",
       "        text-align: right;\n",
       "    }\n",
       "</style>\n",
       "<table border=\"1\" class=\"dataframe\">\n",
       "  <thead>\n",
       "    <tr style=\"text-align: right;\">\n",
       "      <th></th>\n",
       "      <th>PassengerId</th>\n",
       "      <th>Survived</th>\n",
       "      <th>Pclass</th>\n",
       "      <th>Name</th>\n",
       "      <th>Sex</th>\n",
       "      <th>Age</th>\n",
       "      <th>SibSp</th>\n",
       "      <th>Parch</th>\n",
       "      <th>Ticket</th>\n",
       "      <th>Fare</th>\n",
       "      <th>Cabin</th>\n",
       "      <th>Embarked</th>\n",
       "    </tr>\n",
       "  </thead>\n",
       "  <tbody>\n",
       "    <tr>\n",
       "      <td>0</td>\n",
       "      <td>1</td>\n",
       "      <td>0</td>\n",
       "      <td>3</td>\n",
       "      <td>Braund, Mr. Owen Harris</td>\n",
       "      <td>male</td>\n",
       "      <td>36.0</td>\n",
       "      <td>1</td>\n",
       "      <td>0</td>\n",
       "      <td>A/5 21171</td>\n",
       "      <td>7.2500</td>\n",
       "      <td>NaN</td>\n",
       "      <td>S</td>\n",
       "    </tr>\n",
       "    <tr>\n",
       "      <td>1</td>\n",
       "      <td>2</td>\n",
       "      <td>1</td>\n",
       "      <td>1</td>\n",
       "      <td>Cumings, Mrs. John Bradley (Florence Briggs Th...</td>\n",
       "      <td>female</td>\n",
       "      <td>18.0</td>\n",
       "      <td>1</td>\n",
       "      <td>0</td>\n",
       "      <td>PC 17599</td>\n",
       "      <td>71.2833</td>\n",
       "      <td>C85</td>\n",
       "      <td>C</td>\n",
       "    </tr>\n",
       "    <tr>\n",
       "      <td>2</td>\n",
       "      <td>3</td>\n",
       "      <td>1</td>\n",
       "      <td>3</td>\n",
       "      <td>Heikkinen, Miss. Laina</td>\n",
       "      <td>female</td>\n",
       "      <td>14.0</td>\n",
       "      <td>0</td>\n",
       "      <td>0</td>\n",
       "      <td>STON/O2. 3101282</td>\n",
       "      <td>7.9250</td>\n",
       "      <td>NaN</td>\n",
       "      <td>S</td>\n",
       "    </tr>\n",
       "    <tr>\n",
       "      <td>3</td>\n",
       "      <td>4</td>\n",
       "      <td>1</td>\n",
       "      <td>1</td>\n",
       "      <td>Futrelle, Mrs. Jacques Heath (Lily May Peel)</td>\n",
       "      <td>female</td>\n",
       "      <td>27.0</td>\n",
       "      <td>1</td>\n",
       "      <td>0</td>\n",
       "      <td>113803</td>\n",
       "      <td>53.1000</td>\n",
       "      <td>C123</td>\n",
       "      <td>S</td>\n",
       "    </tr>\n",
       "    <tr>\n",
       "      <td>4</td>\n",
       "      <td>5</td>\n",
       "      <td>0</td>\n",
       "      <td>3</td>\n",
       "      <td>Allen, Mr. William Henry</td>\n",
       "      <td>male</td>\n",
       "      <td>63.0</td>\n",
       "      <td>0</td>\n",
       "      <td>0</td>\n",
       "      <td>373450</td>\n",
       "      <td>8.0500</td>\n",
       "      <td>NaN</td>\n",
       "      <td>S</td>\n",
       "    </tr>\n",
       "    <tr>\n",
       "      <td>5</td>\n",
       "      <td>6</td>\n",
       "      <td>0</td>\n",
       "      <td>3</td>\n",
       "      <td>Moran, Mr. James</td>\n",
       "      <td>male</td>\n",
       "      <td>14.0</td>\n",
       "      <td>0</td>\n",
       "      <td>0</td>\n",
       "      <td>330877</td>\n",
       "      <td>8.4583</td>\n",
       "      <td>NaN</td>\n",
       "      <td>Q</td>\n",
       "    </tr>\n",
       "    <tr>\n",
       "      <td>6</td>\n",
       "      <td>7</td>\n",
       "      <td>0</td>\n",
       "      <td>1</td>\n",
       "      <td>McCarthy, Mr. Timothy J</td>\n",
       "      <td>male</td>\n",
       "      <td>39.0</td>\n",
       "      <td>0</td>\n",
       "      <td>0</td>\n",
       "      <td>17463</td>\n",
       "      <td>51.8625</td>\n",
       "      <td>E46</td>\n",
       "      <td>S</td>\n",
       "    </tr>\n",
       "    <tr>\n",
       "      <td>10</td>\n",
       "      <td>11</td>\n",
       "      <td>1</td>\n",
       "      <td>3</td>\n",
       "      <td>Sandstrom, Miss. Marguerite Rut</td>\n",
       "      <td>female</td>\n",
       "      <td>42.0</td>\n",
       "      <td>1</td>\n",
       "      <td>1</td>\n",
       "      <td>PP 9549</td>\n",
       "      <td>16.7000</td>\n",
       "      <td>G6</td>\n",
       "      <td>S</td>\n",
       "    </tr>\n",
       "    <tr>\n",
       "      <td>11</td>\n",
       "      <td>12</td>\n",
       "      <td>0</td>\n",
       "      <td>1</td>\n",
       "      <td>Bonnell, Miss. Elizabeth</td>\n",
       "      <td>female</td>\n",
       "      <td>30.0</td>\n",
       "      <td>0</td>\n",
       "      <td>0</td>\n",
       "      <td>113783</td>\n",
       "      <td>26.5500</td>\n",
       "      <td>C103</td>\n",
       "      <td>S</td>\n",
       "    </tr>\n",
       "    <tr>\n",
       "      <td>13</td>\n",
       "      <td>14</td>\n",
       "      <td>0</td>\n",
       "      <td>3</td>\n",
       "      <td>Andersson, Mr. Anders Johan</td>\n",
       "      <td>male</td>\n",
       "      <td>43.0</td>\n",
       "      <td>1</td>\n",
       "      <td>5</td>\n",
       "      <td>347082</td>\n",
       "      <td>31.2750</td>\n",
       "      <td>NaN</td>\n",
       "      <td>S</td>\n",
       "    </tr>\n",
       "    <tr>\n",
       "      <td>15</td>\n",
       "      <td>16</td>\n",
       "      <td>1</td>\n",
       "      <td>2</td>\n",
       "      <td>Hewlett, Mrs. (Mary D Kingcome)</td>\n",
       "      <td>female</td>\n",
       "      <td>19.0</td>\n",
       "      <td>0</td>\n",
       "      <td>0</td>\n",
       "      <td>248706</td>\n",
       "      <td>16.0000</td>\n",
       "      <td>NaN</td>\n",
       "      <td>S</td>\n",
       "    </tr>\n",
       "    <tr>\n",
       "      <td>16</td>\n",
       "      <td>17</td>\n",
       "      <td>0</td>\n",
       "      <td>3</td>\n",
       "      <td>Rice, Master. Eugene</td>\n",
       "      <td>male</td>\n",
       "      <td>23.0</td>\n",
       "      <td>4</td>\n",
       "      <td>1</td>\n",
       "      <td>382652</td>\n",
       "      <td>29.1250</td>\n",
       "      <td>NaN</td>\n",
       "      <td>Q</td>\n",
       "    </tr>\n",
       "    <tr>\n",
       "      <td>17</td>\n",
       "      <td>18</td>\n",
       "      <td>1</td>\n",
       "      <td>2</td>\n",
       "      <td>Williams, Mr. Charles Eugene</td>\n",
       "      <td>male</td>\n",
       "      <td>45.0</td>\n",
       "      <td>0</td>\n",
       "      <td>0</td>\n",
       "      <td>244373</td>\n",
       "      <td>13.0000</td>\n",
       "      <td>NaN</td>\n",
       "      <td>S</td>\n",
       "    </tr>\n",
       "    <tr>\n",
       "      <td>18</td>\n",
       "      <td>19</td>\n",
       "      <td>0</td>\n",
       "      <td>3</td>\n",
       "      <td>Vander Planke, Mrs. Julius (Emelia Maria Vande...</td>\n",
       "      <td>female</td>\n",
       "      <td>16.0</td>\n",
       "      <td>1</td>\n",
       "      <td>0</td>\n",
       "      <td>345763</td>\n",
       "      <td>18.0000</td>\n",
       "      <td>NaN</td>\n",
       "      <td>S</td>\n",
       "    </tr>\n",
       "    <tr>\n",
       "      <td>19</td>\n",
       "      <td>20</td>\n",
       "      <td>1</td>\n",
       "      <td>3</td>\n",
       "      <td>Masselmani, Mrs. Fatima</td>\n",
       "      <td>female</td>\n",
       "      <td>29.0</td>\n",
       "      <td>0</td>\n",
       "      <td>0</td>\n",
       "      <td>2649</td>\n",
       "      <td>7.2250</td>\n",
       "      <td>NaN</td>\n",
       "      <td>C</td>\n",
       "    </tr>\n",
       "    <tr>\n",
       "      <td>20</td>\n",
       "      <td>21</td>\n",
       "      <td>0</td>\n",
       "      <td>2</td>\n",
       "      <td>Fynney, Mr. Joseph J</td>\n",
       "      <td>male</td>\n",
       "      <td>35.0</td>\n",
       "      <td>0</td>\n",
       "      <td>0</td>\n",
       "      <td>239865</td>\n",
       "      <td>26.0000</td>\n",
       "      <td>NaN</td>\n",
       "      <td>S</td>\n",
       "    </tr>\n",
       "    <tr>\n",
       "      <td>21</td>\n",
       "      <td>22</td>\n",
       "      <td>1</td>\n",
       "      <td>2</td>\n",
       "      <td>Beesley, Mr. Lawrence</td>\n",
       "      <td>male</td>\n",
       "      <td>28.0</td>\n",
       "      <td>0</td>\n",
       "      <td>0</td>\n",
       "      <td>248698</td>\n",
       "      <td>13.0000</td>\n",
       "      <td>D56</td>\n",
       "      <td>S</td>\n",
       "    </tr>\n",
       "    <tr>\n",
       "      <td>22</td>\n",
       "      <td>23</td>\n",
       "      <td>0</td>\n",
       "      <td>3</td>\n",
       "      <td>McGowan, Miss. Anna \"Annie\"</td>\n",
       "      <td>female</td>\n",
       "      <td>24.0</td>\n",
       "      <td>0</td>\n",
       "      <td>0</td>\n",
       "      <td>330923</td>\n",
       "      <td>8.0292</td>\n",
       "      <td>NaN</td>\n",
       "      <td>Q</td>\n",
       "    </tr>\n",
       "    <tr>\n",
       "      <td>23</td>\n",
       "      <td>24</td>\n",
       "      <td>1</td>\n",
       "      <td>1</td>\n",
       "      <td>Sloper, Mr. William Thompson</td>\n",
       "      <td>male</td>\n",
       "      <td>58.0</td>\n",
       "      <td>0</td>\n",
       "      <td>0</td>\n",
       "      <td>113788</td>\n",
       "      <td>35.5000</td>\n",
       "      <td>A6</td>\n",
       "      <td>S</td>\n",
       "    </tr>\n",
       "    <tr>\n",
       "      <td>26</td>\n",
       "      <td>27</td>\n",
       "      <td>0</td>\n",
       "      <td>3</td>\n",
       "      <td>Emir, Mr. Farred Chehab</td>\n",
       "      <td>male</td>\n",
       "      <td>22.0</td>\n",
       "      <td>0</td>\n",
       "      <td>0</td>\n",
       "      <td>2631</td>\n",
       "      <td>7.2250</td>\n",
       "      <td>NaN</td>\n",
       "      <td>C</td>\n",
       "    </tr>\n",
       "  </tbody>\n",
       "</table>\n",
       "</div>"
      ],
      "text/plain": [
       "    PassengerId  Survived  Pclass  \\\n",
       "0             1         0       3   \n",
       "1             2         1       1   \n",
       "2             3         1       3   \n",
       "3             4         1       1   \n",
       "4             5         0       3   \n",
       "5             6         0       3   \n",
       "6             7         0       1   \n",
       "10           11         1       3   \n",
       "11           12         0       1   \n",
       "13           14         0       3   \n",
       "15           16         1       2   \n",
       "16           17         0       3   \n",
       "17           18         1       2   \n",
       "18           19         0       3   \n",
       "19           20         1       3   \n",
       "20           21         0       2   \n",
       "21           22         1       2   \n",
       "22           23         0       3   \n",
       "23           24         1       1   \n",
       "26           27         0       3   \n",
       "\n",
       "                                                 Name     Sex   Age  SibSp  \\\n",
       "0                             Braund, Mr. Owen Harris    male  36.0      1   \n",
       "1   Cumings, Mrs. John Bradley (Florence Briggs Th...  female  18.0      1   \n",
       "2                              Heikkinen, Miss. Laina  female  14.0      0   \n",
       "3        Futrelle, Mrs. Jacques Heath (Lily May Peel)  female  27.0      1   \n",
       "4                            Allen, Mr. William Henry    male  63.0      0   \n",
       "5                                    Moran, Mr. James    male  14.0      0   \n",
       "6                             McCarthy, Mr. Timothy J    male  39.0      0   \n",
       "10                    Sandstrom, Miss. Marguerite Rut  female  42.0      1   \n",
       "11                           Bonnell, Miss. Elizabeth  female  30.0      0   \n",
       "13                        Andersson, Mr. Anders Johan    male  43.0      1   \n",
       "15                   Hewlett, Mrs. (Mary D Kingcome)   female  19.0      0   \n",
       "16                               Rice, Master. Eugene    male  23.0      4   \n",
       "17                       Williams, Mr. Charles Eugene    male  45.0      0   \n",
       "18  Vander Planke, Mrs. Julius (Emelia Maria Vande...  female  16.0      1   \n",
       "19                            Masselmani, Mrs. Fatima  female  29.0      0   \n",
       "20                               Fynney, Mr. Joseph J    male  35.0      0   \n",
       "21                              Beesley, Mr. Lawrence    male  28.0      0   \n",
       "22                        McGowan, Miss. Anna \"Annie\"  female  24.0      0   \n",
       "23                       Sloper, Mr. William Thompson    male  58.0      0   \n",
       "26                            Emir, Mr. Farred Chehab    male  22.0      0   \n",
       "\n",
       "    Parch            Ticket     Fare Cabin Embarked  \n",
       "0       0         A/5 21171   7.2500   NaN        S  \n",
       "1       0          PC 17599  71.2833   C85        C  \n",
       "2       0  STON/O2. 3101282   7.9250   NaN        S  \n",
       "3       0            113803  53.1000  C123        S  \n",
       "4       0            373450   8.0500   NaN        S  \n",
       "5       0            330877   8.4583   NaN        Q  \n",
       "6       0             17463  51.8625   E46        S  \n",
       "10      1           PP 9549  16.7000    G6        S  \n",
       "11      0            113783  26.5500  C103        S  \n",
       "13      5            347082  31.2750   NaN        S  \n",
       "15      0            248706  16.0000   NaN        S  \n",
       "16      1            382652  29.1250   NaN        Q  \n",
       "17      0            244373  13.0000   NaN        S  \n",
       "18      0            345763  18.0000   NaN        S  \n",
       "19      0              2649   7.2250   NaN        C  \n",
       "20      0            239865  26.0000   NaN        S  \n",
       "21      0            248698  13.0000   D56        S  \n",
       "22      0            330923   8.0292   NaN        Q  \n",
       "23      0            113788  35.5000    A6        S  \n",
       "26      0              2631   7.2250   NaN        C  "
      ]
     },
     "execution_count": 10,
     "metadata": {},
     "output_type": "execute_result"
    }
   ],
   "source": [
    "dfTitanic = df.dropna(subset=['Survived','Pclass','Age','Sex'])\n",
    "dfTitanic.head(20)\n",
    "# I found some pandas documentation on the drop functions. Source: https://pandas.pydata.org/pandas-docs/stable/reference/api/pandas.DataFrame.dropna.html#pandas.DataFrame.dropna\n",
    "# I used dropna to Pick the specicfic Columns."
   ]
  },
  {
   "cell_type": "markdown",
   "metadata": {},
   "source": [
    "2/2"
   ]
  },
  {
   "cell_type": "markdown",
   "metadata": {
    "colab_type": "text",
    "id": "z_7fYhBJmhfV"
   },
   "source": [
    "**Part C**: Compute the fraction of survivors according to class and gender. There are 3 passenger classes and 2 sexes in the data set, so you should report all 6 possible combinations.  Then, answer 3 questions:\n",
    "* **(i)** Within each passenger class, were men or women more/less/equally likely to survive?\n",
    "* **(ii)**  Looking at only the male or only the female passengers, how is passenger class related to the category's survival rate?\n",
    "* **(iii)**  Did men in first class or women in third class have a higher survival rate? "
   ]
  },
  {
   "cell_type": "code",
   "execution_count": 11,
   "metadata": {
    "colab": {},
    "colab_type": "code",
    "id": "_NwlgiiOmhfW"
   },
   "outputs": [
    {
     "name": "stdout",
     "output_type": "stream",
     "text": [
      "First class male survival ratio: 0.08700485777122556 %\n",
      "-\n",
      "First class female survival ratio: 0.20601447823972072 %\n",
      "-\n",
      "Second class male survival ratio: 0.0422710100129455 %\n",
      "-\n",
      "Second class female survival ratio: 0.15451085867979056 %\n",
      "-\n",
      "Third class male survival ratio: 0.030228808829912565 %\n",
      "-\n",
      "Third class female survival ratio: 0.17740135626198175 %\n"
     ]
    }
   ],
   "source": [
    "# Split the dataframe into subsets of class\n",
    "fc = dfTitanic.loc[dfTitanic['Pclass']==1]\n",
    "sc = dfTitanic.loc[dfTitanic['Pclass']==2]\n",
    "tc = dfTitanic.loc[dfTitanic['Pclass']==3]\n",
    "\n",
    "#Split each class into male and female\n",
    "fc_Male = fc.loc[fc['Sex']=='male']\n",
    "fc_Female = fc.loc[fc['Sex']=='female']\n",
    "\n",
    "sc_Male = sc.loc[sc['Sex']=='male']\n",
    "sc_Female = sc.loc[sc['Sex']=='female']\n",
    "\n",
    "tc_Male = tc.loc[tc['Sex']=='male']\n",
    "tc_Female = tc.loc[tc['Sex']=='female']\n",
    "\n",
    "# Calculated number of survivors vs total passengers in specific category\n",
    "fcm_surv = fc_Male['Survived'].sum()\n",
    "fcm_tot = fc_Male['PassengerId'].sum()\n",
    "ratio1 = (fcm_surv/fcm_tot) * 100\n",
    "print(\"First class male survival ratio:\",ratio1,\"%\")\n",
    "print(\"-\")\n",
    "\n",
    "fcf_surv = fc_Female['Survived'].sum()\n",
    "fcf_tot = fc_Female['PassengerId'].sum()\n",
    "ratio2 = (fcf_surv/fcf_tot)*100\n",
    "print(\"First class female survival ratio:\",ratio2,\"%\")\n",
    "print(\"-\")\n",
    "\n",
    "scm_surv = sc_Male['Survived'].sum()\n",
    "scm_tot = sc_Male['PassengerId'].sum()\n",
    "ratio3 = (scm_surv/scm_tot)*100\n",
    "print(\"Second class male survival ratio:\",ratio3,\"%\")\n",
    "print(\"-\")\n",
    "\n",
    "scf_surv = sc_Female['Survived'].sum()\n",
    "scf_tot = fc_Female['PassengerId'].sum()\n",
    "ratio4 = (scf_surv/scf_tot)*100\n",
    "print(\"Second class female survival ratio:\",ratio4,\"%\")\n",
    "print(\"-\")\n",
    "\n",
    "tcm_surv = tc_Male['Survived'].sum()\n",
    "tcm_tot = tc_Male['PassengerId'].sum()\n",
    "ratio5 = (tcm_surv/tcm_tot) * 100\n",
    "print(\"Third class male survival ratio:\",ratio5,\"%\")\n",
    "print(\"-\")\n",
    "\n",
    "tcf_surv = tc_Female['Survived'].sum()\n",
    "tcf_tot = fc_Female['PassengerId'].sum()\n",
    "ratio6 = (tcf_surv/tcf_tot)*100\n",
    "print(\"Third class female survival ratio:\",ratio6,\"%\")\n",
    "\n"
   ]
  },
  {
   "cell_type": "markdown",
   "metadata": {
    "colab_type": "text",
    "id": "30B7DPg9mhfT"
   },
   "source": [
    "<h2> <span style=\"color: Green\">Solution, Part C: </span> </h2>\n",
    "(i) Men were clearly less likely to survive than women in every class.\n",
    "  \n",
    "(ii) For males, higher class means higher survival rate, but for females; those in first class had the best survival rate, but third class had the second highest.\n",
    "\n",
    "(iii) The third class women survival rate is much higher than first class male survival rate. This is probably due to all the chivalry"
   ]
  },
  {
   "cell_type": "markdown",
   "metadata": {},
   "source": [
    "3/6\n",
    "\n",
    "survival ratio calculations not quite correct. Part (ii) answer not correct. 1st and 2nd class will have highest survival rate"
   ]
  },
  {
   "cell_type": "markdown",
   "metadata": {
    "colab_type": "text",
    "id": "5hhaaH8Xmhe7"
   },
   "source": [
    "----------------\n"
   ]
  },
  {
   "cell_type": "markdown",
   "metadata": {
    "colab_type": "text",
    "id": "hdHUBAQwmhfY"
   },
   "source": [
    "**Part D**: Plot a histogram of all of the passenger ages, using the bin edges $[0,5,10,\\ldots,70,75,80]$ defined by `my_bins` below. How would you characterize the distribution of **AGE**? (By _characterize_ we mean that you should indicate whether the data are unimodal, bimodal, multimodal, symmetric, negatively skewed, positively skewed, etc.)  Be sure to label your axes and use your figure to justify your conclusions."
   ]
  },
  {
   "cell_type": "code",
   "execution_count": 12,
   "metadata": {
    "colab": {},
    "colab_type": "code",
    "id": "vsQJVZbpmhfY"
   },
   "outputs": [],
   "source": [
    "my_bins = range(0,85,5)"
   ]
  },
  {
   "cell_type": "code",
   "execution_count": 13,
   "metadata": {
    "colab": {},
    "colab_type": "code",
    "id": "cuxjID9Amhfb"
   },
   "outputs": [
    {
     "data": {
      "image/png": "[encoded data removed]",
      "text/plain": [
       "<Figure size 864x576 with 1 Axes>"
      ]
     },
     "metadata": {
      "needs_background": "light"
     },
     "output_type": "display_data"
    }
   ],
   "source": [
    "fig, ax = plt.subplots(figsize=(12,8))\n",
    "dfTitanic.hist(column = \"Age\", ax=ax, bins=my_bins, edgecolor = \"white\")\n",
    "\n",
    "ax.set_title(\"Titanic Passenger Age\",fontsize=20)\n",
    "ax.set_xlabel(\"Age\",fontsize=16)\n",
    "ax.set_ylabel(\"Frequency\",fontsize=16)\n",
    "\n",
    "ax.grid(alpha=.2)\n",
    "ax.set_axisbelow(True)"
   ]
  },
  {
   "cell_type": "markdown",
   "metadata": {
    "colab_type": "text",
    "id": "30B7DPg9mhfT"
   },
   "source": [
    "<h2> <span style=\"color: Green\">Solution, Part D: </span> </h2>\n",
    "This histogram is Bimodal, and has a positive skew. This tells me that there were a lot of young children, but the majority of passengers were in there 20s. There were also a significant number of passengers in their 70s."
   ]
  },
  {
   "cell_type": "markdown",
   "metadata": {},
   "source": [
    "3.5\n",
    "\n",
    "it is unimodal"
   ]
  },
  {
   "cell_type": "markdown",
   "metadata": {
    "colab_type": "text",
    "id": "3ZikT9MImhfc"
   },
   "source": [
    "---"
   ]
  },
  {
   "cell_type": "markdown",
   "metadata": {
    "colab_type": "text",
    "id": "R_FwewNbmhfd"
   },
   "source": [
    "**Part E**: One might wonder how a passenger's age is related to the likelihood that they would survive the Titanic disaster. To answer this question graphically, plot two density histograms on the same set of axes, showing the distribution of the ages of passengers who survived, and the distribution of the ages of passengers who did not. \n",
    "* Use the bin edges $[0,5,10,\\ldots,70,75,80]$ for both histograms.\n",
    "* This problem is about a *ship* sinking in the *ocean*, so use **coral** and **seagreen** as the facecolors for your histogram boxes.\n",
    "* Plot both histograms on a single set of axes (there should be only one panel in the figure you create), but use Matplotlib/Pandas plotting functionality to make the faces of the histogram boxes somewhat transparent, so both histograms are visible.\n",
    "* Include a legend and label your axes.\n",
    "* Comment on the results. Does your figure suggest that some age ranges are more or less likely to have survived the disaster than other ages? Fully explain your reasoning and use your figure to justify your conclusions.\n",
    "* If you noticed some relationship between age and likelihood of survival, what is one possible explanation?"
   ]
  },
  {
   "cell_type": "code",
   "execution_count": 14,
   "metadata": {
    "colab": {},
    "colab_type": "code",
    "id": "FNJdX-yFmhfd"
   },
   "outputs": [
    {
     "data": {
      "image/png": "[encoded data removed]",
      "text/plain": [
       "<Figure size 864x576 with 1 Axes>"
      ]
     },
     "metadata": {
      "needs_background": "light"
     },
     "output_type": "display_data"
    }
   ],
   "source": [
    "fig, ax = plt.subplots(figsize=(12,8))\n",
    "\n",
    "survived = dfTitanic.loc[dfTitanic['Survived']==1]\n",
    "died = dfTitanic.loc[dfTitanic['Survived']==0]\n",
    "\n",
    "ageSurvived = survived['Age']\n",
    "ageDied = died['Age']\n",
    "\n",
    "\n",
    "plt.hist(ageSurvived, density = True, color = 'seagreen',alpha=0.3, bins = my_bins, label='Survived')\n",
    "plt.hist(ageDied, density = True, color = 'coral',alpha=0.3, bins = my_bins, label='Died')\n",
    "\n",
    "ax.set_title(\"Ages vs. Survived\",fontsize=20)\n",
    "ax.set_xlabel(\"Age\",fontsize=16)\n",
    "ax.set_ylabel(\"Density\",fontsize=16)\n",
    "\n",
    "legend = ax.legend(prop={'size' : 20})"
   ]
  },
  {
   "cell_type": "markdown",
   "metadata": {
    "colab_type": "text",
    "id": "30B7DPg9mhfT"
   },
   "source": [
    "<h2> <span style=\"color: Green\">Solution, Part E: </span> </h2>\n",
    "The results of this histogram are pretty interesting. On the above histogram you can see that people in their 20s had more survivals than deaths. Once you get into the 30s, more died than survived. I think this falls in line with the chivalry aspect of the survival rate because people in their 20s have a lot to lose, but the people in their 30s feel a greater sense of responsibility and are probably family men/women. Unfortunately children across the board were more likely to die. Probably because of their lack of understanding. "
   ]
  },
  {
   "cell_type": "markdown",
   "metadata": {},
   "source": [
    "8/8"
   ]
  },
  {
   "cell_type": "markdown",
   "metadata": {
    "colab_type": "text",
    "id": "3ZikT9MImhfc"
   },
   "source": [
    "---"
   ]
  },
  {
   "cell_type": "markdown",
   "metadata": {
    "colab_type": "text",
    "id": "hU3Y4WEqmhff"
   },
   "source": [
    "**Part F:** In Part E, we plotted two *density* histograms, showing the distributions of ages of passengers that survived or did not survive the Titanic disaster. Why would it be misleading for us to have plotted these as *frequency* histograms instead?"
   ]
  },
  {
   "cell_type": "markdown",
   "metadata": {
    "colab_type": "text",
    "id": "30B7DPg9mhfT"
   },
   "source": [
    "<h2> <span style=\"color: Green\">Solution, Part F: </span> </h2>\n",
    "If we used a frequency histogram to show this data, it would be confusing because it would not show the relative age to death ratio. It would only show the raw numbers which wouldn't give us a very good idea for comparisons. "
   ]
  },
  {
   "cell_type": "markdown",
   "metadata": {},
   "source": [
    "1/1"
   ]
  },
  {
   "cell_type": "markdown",
   "metadata": {
    "colab_type": "text",
    "id": "3ZikT9MImhfc"
   },
   "source": [
    "---"
   ]
  },
  {
   "cell_type": "markdown",
   "metadata": {
    "colab_type": "text",
    "id": "eO5fYjHfmhfg"
   },
   "source": [
    "**Part G**: Do the data suggest class warfare, male chivalry, or some combination of both characteristics in the final hours aboard the Titanic?  Justify your conclusion based on the computations done above, or do any other analysis that you like, but be sure to clearly justify your conclusion."
   ]
  },
  {
   "cell_type": "markdown",
   "metadata": {
    "colab_type": "text",
    "id": "30B7DPg9mhfT"
   },
   "source": [
    "<h2> <span style=\"color: Green\">Solution, Part G: </span> </h2>\n",
    "I mentioned in Part E that I think male chivalry played a pretty big role in the survival of the people in their 20s and the deaths of the people in thier 30s. The 30s is a prime age for self sacrifice because many of those men likely had families and had a great sense of responsibility for others. The rest of the data doesn't seem to have a clear pattern except for the children. "
   ]
  },
  {
   "cell_type": "markdown",
   "metadata": {},
   "source": [
    "1/2\n",
    "\n",
    "both male chivalry and class warfare"
   ]
  },
  {
   "cell_type": "markdown",
   "metadata": {
    "colab_type": "text",
    "id": "3ZikT9MImhfc"
   },
   "source": [
    "---"
   ]
  },
  {
   "cell_type": "markdown",
   "metadata": {
    "colab_type": "text",
    "id": "fZzo9MwEmhfh"
   },
   "source": [
    "[Back to top](#top)\n",
    "<a id='p4'></a>\n",
    "\n",
    "## (25 pts) Problem 4 (Snowfall in Boulder)\n",
    "***\n",
    "\n",
    "The NOAA Earth System Research Laboratory (ESRL) Physical Sciences Division (PSD) conducts scientific research to observe, understand, model, predict, and forecast weather, water, and climate extremes and their impacts. They have a website with publicly available data. One such data set contains monthly snowfall for Boulder dating back to 1889 (https://www.esrl.noaa.gov/psd/boulder/bouldersnow.html). Load ‘Boulder_Snowfall.csv’ from the Canvas page. \n",
    "\n",
    "**Part A:** To start, we need to “clean” our data set. When the amount of snow was nonzero, but too small to be recorded, this data set recorded ‘T’. Replace those instances with zeros. AFTER, you've done that, remove any rows (which correspond to years) with missing data. As a check, if you've cleaned the file correctly, there should be 121 rows remaining. "
   ]
  },
  {
   "cell_type": "code",
   "execution_count": 15,
   "metadata": {
    "colab": {},
    "colab_type": "code",
    "id": "cAM9M-vCmhfh"
   },
   "outputs": [
    {
     "data": {
      "text/html": [
       "<div>\n",
       "<style scoped>\n",
       "    .dataframe tbody tr th:only-of-type {\n",
       "        vertical-align: middle;\n",
       "    }\n",
       "\n",
       "    .dataframe tbody tr th {\n",
       "        vertical-align: top;\n",
       "    }\n",
       "\n",
       "    .dataframe thead th {\n",
       "        text-align: right;\n",
       "    }\n",
       "</style>\n",
       "<table border=\"1\" class=\"dataframe\">\n",
       "  <thead>\n",
       "    <tr style=\"text-align: right;\">\n",
       "      <th></th>\n",
       "      <th>Year</th>\n",
       "      <th>Jan</th>\n",
       "      <th>Feb</th>\n",
       "      <th>Mar</th>\n",
       "      <th>Apr</th>\n",
       "      <th>May</th>\n",
       "      <th>Jun</th>\n",
       "      <th>Jul</th>\n",
       "      <th>Aug</th>\n",
       "      <th>Sep</th>\n",
       "      <th>Oct</th>\n",
       "      <th>Nov</th>\n",
       "      <th>Dec</th>\n",
       "      <th>Total Sep-Jun</th>\n",
       "      <th>Total Jan-Dec</th>\n",
       "    </tr>\n",
       "  </thead>\n",
       "  <tbody>\n",
       "    <tr>\n",
       "      <td>6</td>\n",
       "      <td>1898</td>\n",
       "      <td>7</td>\n",
       "      <td>4.2</td>\n",
       "      <td>7.5</td>\n",
       "      <td>8.2</td>\n",
       "      <td>13</td>\n",
       "      <td>0</td>\n",
       "      <td>0</td>\n",
       "      <td>0</td>\n",
       "      <td>1</td>\n",
       "      <td>5</td>\n",
       "      <td>23.5</td>\n",
       "      <td>18</td>\n",
       "      <td>63.1</td>\n",
       "      <td>87.4</td>\n",
       "    </tr>\n",
       "    <tr>\n",
       "      <td>7</td>\n",
       "      <td>1899</td>\n",
       "      <td>13</td>\n",
       "      <td>15.2</td>\n",
       "      <td>31</td>\n",
       "      <td>8</td>\n",
       "      <td>0</td>\n",
       "      <td>0</td>\n",
       "      <td>0</td>\n",
       "      <td>0</td>\n",
       "      <td>0</td>\n",
       "      <td>2</td>\n",
       "      <td>0</td>\n",
       "      <td>12.8</td>\n",
       "      <td>114.7</td>\n",
       "      <td>82</td>\n",
       "    </tr>\n",
       "    <tr>\n",
       "      <td>8</td>\n",
       "      <td>1900</td>\n",
       "      <td>4.5</td>\n",
       "      <td>14.8</td>\n",
       "      <td>6.8</td>\n",
       "      <td>20</td>\n",
       "      <td>0</td>\n",
       "      <td>0</td>\n",
       "      <td>0</td>\n",
       "      <td>0</td>\n",
       "      <td>0</td>\n",
       "      <td>0</td>\n",
       "      <td>3.1</td>\n",
       "      <td>9.2</td>\n",
       "      <td>60.9</td>\n",
       "      <td>58.4</td>\n",
       "    </tr>\n",
       "    <tr>\n",
       "      <td>9</td>\n",
       "      <td>1901</td>\n",
       "      <td>7.5</td>\n",
       "      <td>6.2</td>\n",
       "      <td>18.5</td>\n",
       "      <td>26</td>\n",
       "      <td>0</td>\n",
       "      <td>0</td>\n",
       "      <td>0</td>\n",
       "      <td>0</td>\n",
       "      <td>0</td>\n",
       "      <td>4</td>\n",
       "      <td>0</td>\n",
       "      <td>15</td>\n",
       "      <td>70.5</td>\n",
       "      <td>77.2</td>\n",
       "    </tr>\n",
       "    <tr>\n",
       "      <td>10</td>\n",
       "      <td>1902</td>\n",
       "      <td>7.2</td>\n",
       "      <td>6.5</td>\n",
       "      <td>9.5</td>\n",
       "      <td>3</td>\n",
       "      <td>0</td>\n",
       "      <td>0</td>\n",
       "      <td>0</td>\n",
       "      <td>0</td>\n",
       "      <td>0</td>\n",
       "      <td>0.5</td>\n",
       "      <td>8</td>\n",
       "      <td>17</td>\n",
       "      <td>45.2</td>\n",
       "      <td>51.7</td>\n",
       "    </tr>\n",
       "    <tr>\n",
       "      <td>11</td>\n",
       "      <td>1903</td>\n",
       "      <td>2</td>\n",
       "      <td>19.5</td>\n",
       "      <td>13.5</td>\n",
       "      <td>18</td>\n",
       "      <td>0</td>\n",
       "      <td>0</td>\n",
       "      <td>0</td>\n",
       "      <td>0</td>\n",
       "      <td>1</td>\n",
       "      <td>10.5</td>\n",
       "      <td>2.2</td>\n",
       "      <td>2.5</td>\n",
       "      <td>78.5</td>\n",
       "      <td>69.2</td>\n",
       "    </tr>\n",
       "    <tr>\n",
       "      <td>12</td>\n",
       "      <td>1904</td>\n",
       "      <td>2</td>\n",
       "      <td>3</td>\n",
       "      <td>16</td>\n",
       "      <td>1</td>\n",
       "      <td>0</td>\n",
       "      <td>0</td>\n",
       "      <td>0</td>\n",
       "      <td>0</td>\n",
       "      <td>0</td>\n",
       "      <td>5</td>\n",
       "      <td>1</td>\n",
       "      <td>8.5</td>\n",
       "      <td>38.2</td>\n",
       "      <td>36.5</td>\n",
       "    </tr>\n",
       "    <tr>\n",
       "      <td>13</td>\n",
       "      <td>1905</td>\n",
       "      <td>13.5</td>\n",
       "      <td>8.5</td>\n",
       "      <td>7.5</td>\n",
       "      <td>21.5</td>\n",
       "      <td>3</td>\n",
       "      <td>0</td>\n",
       "      <td>0</td>\n",
       "      <td>0</td>\n",
       "      <td>0</td>\n",
       "      <td>13</td>\n",
       "      <td>0</td>\n",
       "      <td>0</td>\n",
       "      <td>68.5</td>\n",
       "      <td>67</td>\n",
       "    </tr>\n",
       "    <tr>\n",
       "      <td>14</td>\n",
       "      <td>1906</td>\n",
       "      <td>3.2</td>\n",
       "      <td>2.5</td>\n",
       "      <td>24</td>\n",
       "      <td>8</td>\n",
       "      <td>0</td>\n",
       "      <td>0</td>\n",
       "      <td>0</td>\n",
       "      <td>0</td>\n",
       "      <td>0</td>\n",
       "      <td>19</td>\n",
       "      <td>18</td>\n",
       "      <td>0</td>\n",
       "      <td>50.7</td>\n",
       "      <td>74.7</td>\n",
       "    </tr>\n",
       "    <tr>\n",
       "      <td>15</td>\n",
       "      <td>1907</td>\n",
       "      <td>6.2</td>\n",
       "      <td>7</td>\n",
       "      <td>2.5</td>\n",
       "      <td>28.5</td>\n",
       "      <td>15</td>\n",
       "      <td>0</td>\n",
       "      <td>0</td>\n",
       "      <td>0</td>\n",
       "      <td>1</td>\n",
       "      <td>0</td>\n",
       "      <td>6.2</td>\n",
       "      <td>2.1</td>\n",
       "      <td>96.2</td>\n",
       "      <td>68.5</td>\n",
       "    </tr>\n",
       "    <tr>\n",
       "      <td>16</td>\n",
       "      <td>1908</td>\n",
       "      <td>10</td>\n",
       "      <td>1.5</td>\n",
       "      <td>3.8</td>\n",
       "      <td>5.5</td>\n",
       "      <td>8</td>\n",
       "      <td>0</td>\n",
       "      <td>0</td>\n",
       "      <td>0</td>\n",
       "      <td>8</td>\n",
       "      <td>15.2</td>\n",
       "      <td>31</td>\n",
       "      <td>15</td>\n",
       "      <td>38.1</td>\n",
       "      <td>98</td>\n",
       "    </tr>\n",
       "    <tr>\n",
       "      <td>17</td>\n",
       "      <td>1909</td>\n",
       "      <td>0.5</td>\n",
       "      <td>19.2</td>\n",
       "      <td>26.5</td>\n",
       "      <td>27.5</td>\n",
       "      <td>0</td>\n",
       "      <td>0</td>\n",
       "      <td>0</td>\n",
       "      <td>0</td>\n",
       "      <td>0</td>\n",
       "      <td>1</td>\n",
       "      <td>16.5</td>\n",
       "      <td>31</td>\n",
       "      <td>142.9</td>\n",
       "      <td>122.2</td>\n",
       "    </tr>\n",
       "    <tr>\n",
       "      <td>18</td>\n",
       "      <td>1910</td>\n",
       "      <td>4</td>\n",
       "      <td>20.8</td>\n",
       "      <td>0</td>\n",
       "      <td>0.2</td>\n",
       "      <td>7</td>\n",
       "      <td>0</td>\n",
       "      <td>0</td>\n",
       "      <td>0</td>\n",
       "      <td>0</td>\n",
       "      <td>0</td>\n",
       "      <td>0.5</td>\n",
       "      <td>4.5</td>\n",
       "      <td>80.5</td>\n",
       "      <td>37</td>\n",
       "    </tr>\n",
       "    <tr>\n",
       "      <td>19</td>\n",
       "      <td>1911</td>\n",
       "      <td>11.5</td>\n",
       "      <td>27.1</td>\n",
       "      <td>0</td>\n",
       "      <td>12</td>\n",
       "      <td>0</td>\n",
       "      <td>0</td>\n",
       "      <td>0</td>\n",
       "      <td>0</td>\n",
       "      <td>0</td>\n",
       "      <td>8</td>\n",
       "      <td>10</td>\n",
       "      <td>5.9</td>\n",
       "      <td>55.6</td>\n",
       "      <td>74.5</td>\n",
       "    </tr>\n",
       "    <tr>\n",
       "      <td>20</td>\n",
       "      <td>1912</td>\n",
       "      <td>2.4</td>\n",
       "      <td>22.1</td>\n",
       "      <td>12.9</td>\n",
       "      <td>0</td>\n",
       "      <td>7</td>\n",
       "      <td>0</td>\n",
       "      <td>0</td>\n",
       "      <td>0</td>\n",
       "      <td>0</td>\n",
       "      <td>3</td>\n",
       "      <td>2</td>\n",
       "      <td>2.4</td>\n",
       "      <td>68.3</td>\n",
       "      <td>51.8</td>\n",
       "    </tr>\n",
       "    <tr>\n",
       "      <td>21</td>\n",
       "      <td>1913</td>\n",
       "      <td>6.2</td>\n",
       "      <td>12.8</td>\n",
       "      <td>21.1</td>\n",
       "      <td>15.4</td>\n",
       "      <td>0</td>\n",
       "      <td>0</td>\n",
       "      <td>0</td>\n",
       "      <td>0</td>\n",
       "      <td>0</td>\n",
       "      <td>9</td>\n",
       "      <td>0</td>\n",
       "      <td>52.5</td>\n",
       "      <td>62.9</td>\n",
       "      <td>117</td>\n",
       "    </tr>\n",
       "    <tr>\n",
       "      <td>22</td>\n",
       "      <td>1914</td>\n",
       "      <td>0</td>\n",
       "      <td>1.7</td>\n",
       "      <td>26.9</td>\n",
       "      <td>14.8</td>\n",
       "      <td>0</td>\n",
       "      <td>0</td>\n",
       "      <td>0</td>\n",
       "      <td>0</td>\n",
       "      <td>0</td>\n",
       "      <td>3</td>\n",
       "      <td>0.9</td>\n",
       "      <td>5.3</td>\n",
       "      <td>104.9</td>\n",
       "      <td>52.6</td>\n",
       "    </tr>\n",
       "    <tr>\n",
       "      <td>23</td>\n",
       "      <td>1915</td>\n",
       "      <td>8.6</td>\n",
       "      <td>18.5</td>\n",
       "      <td>13.4</td>\n",
       "      <td>0</td>\n",
       "      <td>14.5</td>\n",
       "      <td>0</td>\n",
       "      <td>0</td>\n",
       "      <td>0</td>\n",
       "      <td>0</td>\n",
       "      <td>0</td>\n",
       "      <td>3.9</td>\n",
       "      <td>19.4</td>\n",
       "      <td>64.2</td>\n",
       "      <td>78.3</td>\n",
       "    </tr>\n",
       "    <tr>\n",
       "      <td>24</td>\n",
       "      <td>1916</td>\n",
       "      <td>11.2</td>\n",
       "      <td>0.4</td>\n",
       "      <td>12.8</td>\n",
       "      <td>14</td>\n",
       "      <td>5</td>\n",
       "      <td>0</td>\n",
       "      <td>0</td>\n",
       "      <td>0</td>\n",
       "      <td>0</td>\n",
       "      <td>10.1</td>\n",
       "      <td>17.4</td>\n",
       "      <td>13.6</td>\n",
       "      <td>66.7</td>\n",
       "      <td>84.5</td>\n",
       "    </tr>\n",
       "    <tr>\n",
       "      <td>25</td>\n",
       "      <td>1917</td>\n",
       "      <td>5.9</td>\n",
       "      <td>6.3</td>\n",
       "      <td>22.2</td>\n",
       "      <td>13</td>\n",
       "      <td>14.8</td>\n",
       "      <td>0</td>\n",
       "      <td>0</td>\n",
       "      <td>0</td>\n",
       "      <td>0</td>\n",
       "      <td>7.5</td>\n",
       "      <td>0</td>\n",
       "      <td>5.3</td>\n",
       "      <td>103.3</td>\n",
       "      <td>75</td>\n",
       "    </tr>\n",
       "    <tr>\n",
       "      <td>26</td>\n",
       "      <td>1918</td>\n",
       "      <td>6.8</td>\n",
       "      <td>14.5</td>\n",
       "      <td>0</td>\n",
       "      <td>0</td>\n",
       "      <td>0</td>\n",
       "      <td>0</td>\n",
       "      <td>0</td>\n",
       "      <td>0</td>\n",
       "      <td>0</td>\n",
       "      <td>2</td>\n",
       "      <td>14</td>\n",
       "      <td>15.5</td>\n",
       "      <td>34.1</td>\n",
       "      <td>52.8</td>\n",
       "    </tr>\n",
       "    <tr>\n",
       "      <td>27</td>\n",
       "      <td>1919</td>\n",
       "      <td>0</td>\n",
       "      <td>6.9</td>\n",
       "      <td>10</td>\n",
       "      <td>4.5</td>\n",
       "      <td>0</td>\n",
       "      <td>0</td>\n",
       "      <td>0</td>\n",
       "      <td>0</td>\n",
       "      <td>0</td>\n",
       "      <td>0</td>\n",
       "      <td>12</td>\n",
       "      <td>5</td>\n",
       "      <td>52.9</td>\n",
       "      <td>38.4</td>\n",
       "    </tr>\n",
       "    <tr>\n",
       "      <td>28</td>\n",
       "      <td>1920</td>\n",
       "      <td>12.5</td>\n",
       "      <td>14.4</td>\n",
       "      <td>6.1</td>\n",
       "      <td>40.3</td>\n",
       "      <td>0</td>\n",
       "      <td>0</td>\n",
       "      <td>0</td>\n",
       "      <td>0</td>\n",
       "      <td>0</td>\n",
       "      <td>4.2</td>\n",
       "      <td>13.3</td>\n",
       "      <td>13.7</td>\n",
       "      <td>90.3</td>\n",
       "      <td>104.5</td>\n",
       "    </tr>\n",
       "    <tr>\n",
       "      <td>29</td>\n",
       "      <td>1921</td>\n",
       "      <td>4.4</td>\n",
       "      <td>4</td>\n",
       "      <td>8.8</td>\n",
       "      <td>13.6</td>\n",
       "      <td>0</td>\n",
       "      <td>0</td>\n",
       "      <td>0</td>\n",
       "      <td>0</td>\n",
       "      <td>0</td>\n",
       "      <td>0</td>\n",
       "      <td>6.3</td>\n",
       "      <td>14.9</td>\n",
       "      <td>62</td>\n",
       "      <td>52</td>\n",
       "    </tr>\n",
       "    <tr>\n",
       "      <td>30</td>\n",
       "      <td>1922</td>\n",
       "      <td>6</td>\n",
       "      <td>7.6</td>\n",
       "      <td>3.6</td>\n",
       "      <td>4.7</td>\n",
       "      <td>0</td>\n",
       "      <td>0</td>\n",
       "      <td>0</td>\n",
       "      <td>0</td>\n",
       "      <td>0</td>\n",
       "      <td>1.1</td>\n",
       "      <td>14</td>\n",
       "      <td>3.7</td>\n",
       "      <td>43.1</td>\n",
       "      <td>40.7</td>\n",
       "    </tr>\n",
       "    <tr>\n",
       "      <td>31</td>\n",
       "      <td>1923</td>\n",
       "      <td>0</td>\n",
       "      <td>24.4</td>\n",
       "      <td>24.8</td>\n",
       "      <td>2.5</td>\n",
       "      <td>0.2</td>\n",
       "      <td>0</td>\n",
       "      <td>0</td>\n",
       "      <td>0</td>\n",
       "      <td>0</td>\n",
       "      <td>12.3</td>\n",
       "      <td>3.9</td>\n",
       "      <td>7.4</td>\n",
       "      <td>70.7</td>\n",
       "      <td>75.5</td>\n",
       "    </tr>\n",
       "    <tr>\n",
       "      <td>32</td>\n",
       "      <td>1924</td>\n",
       "      <td>7.9</td>\n",
       "      <td>2.8</td>\n",
       "      <td>22.5</td>\n",
       "      <td>16.5</td>\n",
       "      <td>0</td>\n",
       "      <td>0</td>\n",
       "      <td>0</td>\n",
       "      <td>0</td>\n",
       "      <td>0</td>\n",
       "      <td>0</td>\n",
       "      <td>1</td>\n",
       "      <td>14.2</td>\n",
       "      <td>73.3</td>\n",
       "      <td>64.9</td>\n",
       "    </tr>\n",
       "    <tr>\n",
       "      <td>33</td>\n",
       "      <td>1925</td>\n",
       "      <td>2</td>\n",
       "      <td>0</td>\n",
       "      <td>4.3</td>\n",
       "      <td>0</td>\n",
       "      <td>0</td>\n",
       "      <td>0</td>\n",
       "      <td>0</td>\n",
       "      <td>0</td>\n",
       "      <td>0</td>\n",
       "      <td>13.5</td>\n",
       "      <td>8</td>\n",
       "      <td>15</td>\n",
       "      <td>21.5</td>\n",
       "      <td>42.8</td>\n",
       "    </tr>\n",
       "    <tr>\n",
       "      <td>34</td>\n",
       "      <td>1926</td>\n",
       "      <td>8.5</td>\n",
       "      <td>5.8</td>\n",
       "      <td>22</td>\n",
       "      <td>3</td>\n",
       "      <td>0</td>\n",
       "      <td>0</td>\n",
       "      <td>0</td>\n",
       "      <td>0</td>\n",
       "      <td>0</td>\n",
       "      <td>3</td>\n",
       "      <td>0</td>\n",
       "      <td>20.8</td>\n",
       "      <td>75.8</td>\n",
       "      <td>63.1</td>\n",
       "    </tr>\n",
       "    <tr>\n",
       "      <td>35</td>\n",
       "      <td>1927</td>\n",
       "      <td>3.9</td>\n",
       "      <td>3.9</td>\n",
       "      <td>10</td>\n",
       "      <td>8.4</td>\n",
       "      <td>0</td>\n",
       "      <td>0</td>\n",
       "      <td>0</td>\n",
       "      <td>0</td>\n",
       "      <td>0</td>\n",
       "      <td>0</td>\n",
       "      <td>8.6</td>\n",
       "      <td>8.2</td>\n",
       "      <td>50</td>\n",
       "      <td>43</td>\n",
       "    </tr>\n",
       "    <tr>\n",
       "      <td>36</td>\n",
       "      <td>1928</td>\n",
       "      <td>0.8</td>\n",
       "      <td>16.8</td>\n",
       "      <td>16.7</td>\n",
       "      <td>2.4</td>\n",
       "      <td>0</td>\n",
       "      <td>0</td>\n",
       "      <td>0</td>\n",
       "      <td>0</td>\n",
       "      <td>0</td>\n",
       "      <td>0</td>\n",
       "      <td>19.7</td>\n",
       "      <td>0.5</td>\n",
       "      <td>53.5</td>\n",
       "      <td>56.9</td>\n",
       "    </tr>\n",
       "    <tr>\n",
       "      <td>37</td>\n",
       "      <td>1929</td>\n",
       "      <td>4.7</td>\n",
       "      <td>12.1</td>\n",
       "      <td>26.2</td>\n",
       "      <td>2</td>\n",
       "      <td>0</td>\n",
       "      <td>0</td>\n",
       "      <td>0</td>\n",
       "      <td>0</td>\n",
       "      <td>0</td>\n",
       "      <td>14.9</td>\n",
       "      <td>25.9</td>\n",
       "      <td>9.1</td>\n",
       "      <td>65.2</td>\n",
       "      <td>94.9</td>\n",
       "    </tr>\n",
       "    <tr>\n",
       "      <td>38</td>\n",
       "      <td>1930</td>\n",
       "      <td>8.9</td>\n",
       "      <td>7.3</td>\n",
       "      <td>6.5</td>\n",
       "      <td>0</td>\n",
       "      <td>5.5</td>\n",
       "      <td>0</td>\n",
       "      <td>0</td>\n",
       "      <td>0</td>\n",
       "      <td>0</td>\n",
       "      <td>0</td>\n",
       "      <td>13.3</td>\n",
       "      <td>9.8</td>\n",
       "      <td>78.1</td>\n",
       "      <td>51.3</td>\n",
       "    </tr>\n",
       "    <tr>\n",
       "      <td>39</td>\n",
       "      <td>1931</td>\n",
       "      <td>0</td>\n",
       "      <td>16.9</td>\n",
       "      <td>21.6</td>\n",
       "      <td>10.6</td>\n",
       "      <td>26.7</td>\n",
       "      <td>0</td>\n",
       "      <td>0</td>\n",
       "      <td>0</td>\n",
       "      <td>0</td>\n",
       "      <td>0</td>\n",
       "      <td>13.4</td>\n",
       "      <td>0.4</td>\n",
       "      <td>98.9</td>\n",
       "      <td>89.6</td>\n",
       "    </tr>\n",
       "    <tr>\n",
       "      <td>40</td>\n",
       "      <td>1932</td>\n",
       "      <td>4.7</td>\n",
       "      <td>14.4</td>\n",
       "      <td>14.4</td>\n",
       "      <td>5.3</td>\n",
       "      <td>0</td>\n",
       "      <td>0</td>\n",
       "      <td>0</td>\n",
       "      <td>0</td>\n",
       "      <td>0</td>\n",
       "      <td>6.3</td>\n",
       "      <td>5.1</td>\n",
       "      <td>8.4</td>\n",
       "      <td>52.6</td>\n",
       "      <td>58.6</td>\n",
       "    </tr>\n",
       "    <tr>\n",
       "      <td>41</td>\n",
       "      <td>1933</td>\n",
       "      <td>0</td>\n",
       "      <td>5.6</td>\n",
       "      <td>9.1</td>\n",
       "      <td>37.7</td>\n",
       "      <td>3</td>\n",
       "      <td>0</td>\n",
       "      <td>0</td>\n",
       "      <td>0</td>\n",
       "      <td>0</td>\n",
       "      <td>0</td>\n",
       "      <td>1.2</td>\n",
       "      <td>8</td>\n",
       "      <td>75.2</td>\n",
       "      <td>64.6</td>\n",
       "    </tr>\n",
       "    <tr>\n",
       "      <td>42</td>\n",
       "      <td>1934</td>\n",
       "      <td>1</td>\n",
       "      <td>18.1</td>\n",
       "      <td>15.5</td>\n",
       "      <td>13.3</td>\n",
       "      <td>0</td>\n",
       "      <td>0</td>\n",
       "      <td>0</td>\n",
       "      <td>0</td>\n",
       "      <td>3</td>\n",
       "      <td>0</td>\n",
       "      <td>8.4</td>\n",
       "      <td>3</td>\n",
       "      <td>57.1</td>\n",
       "      <td>62.3</td>\n",
       "    </tr>\n",
       "    <tr>\n",
       "      <td>43</td>\n",
       "      <td>1935</td>\n",
       "      <td>1.7</td>\n",
       "      <td>8.1</td>\n",
       "      <td>1.6</td>\n",
       "      <td>16.1</td>\n",
       "      <td>1</td>\n",
       "      <td>0</td>\n",
       "      <td>0</td>\n",
       "      <td>0</td>\n",
       "      <td>3</td>\n",
       "      <td>2.3</td>\n",
       "      <td>7.7</td>\n",
       "      <td>0.2</td>\n",
       "      <td>42.9</td>\n",
       "      <td>41.7</td>\n",
       "    </tr>\n",
       "    <tr>\n",
       "      <td>44</td>\n",
       "      <td>1936</td>\n",
       "      <td>5.9</td>\n",
       "      <td>7.7</td>\n",
       "      <td>24.2</td>\n",
       "      <td>9.9</td>\n",
       "      <td>0</td>\n",
       "      <td>0</td>\n",
       "      <td>0</td>\n",
       "      <td>0</td>\n",
       "      <td>8</td>\n",
       "      <td>6</td>\n",
       "      <td>3.5</td>\n",
       "      <td>5.6</td>\n",
       "      <td>60.9</td>\n",
       "      <td>70.8</td>\n",
       "    </tr>\n",
       "    <tr>\n",
       "      <td>45</td>\n",
       "      <td>1937</td>\n",
       "      <td>7.9</td>\n",
       "      <td>5.8</td>\n",
       "      <td>8.3</td>\n",
       "      <td>19.8</td>\n",
       "      <td>0</td>\n",
       "      <td>0</td>\n",
       "      <td>0</td>\n",
       "      <td>0</td>\n",
       "      <td>0</td>\n",
       "      <td>2.5</td>\n",
       "      <td>7.7</td>\n",
       "      <td>15.7</td>\n",
       "      <td>64.9</td>\n",
       "      <td>67.7</td>\n",
       "    </tr>\n",
       "    <tr>\n",
       "      <td>46</td>\n",
       "      <td>1938</td>\n",
       "      <td>8.7</td>\n",
       "      <td>11.3</td>\n",
       "      <td>21.8</td>\n",
       "      <td>9</td>\n",
       "      <td>0</td>\n",
       "      <td>0</td>\n",
       "      <td>0</td>\n",
       "      <td>0</td>\n",
       "      <td>0</td>\n",
       "      <td>2.7</td>\n",
       "      <td>24.9</td>\n",
       "      <td>15.3</td>\n",
       "      <td>76.7</td>\n",
       "      <td>93.7</td>\n",
       "    </tr>\n",
       "    <tr>\n",
       "      <td>47</td>\n",
       "      <td>1939</td>\n",
       "      <td>8</td>\n",
       "      <td>13.3</td>\n",
       "      <td>9.4</td>\n",
       "      <td>14.1</td>\n",
       "      <td>0</td>\n",
       "      <td>0</td>\n",
       "      <td>0</td>\n",
       "      <td>0</td>\n",
       "      <td>0</td>\n",
       "      <td>6.5</td>\n",
       "      <td>0</td>\n",
       "      <td>4.3</td>\n",
       "      <td>87.7</td>\n",
       "      <td>55.6</td>\n",
       "    </tr>\n",
       "    <tr>\n",
       "      <td>48</td>\n",
       "      <td>1940</td>\n",
       "      <td>24.2</td>\n",
       "      <td>15.9</td>\n",
       "      <td>14.6</td>\n",
       "      <td>8</td>\n",
       "      <td>0</td>\n",
       "      <td>0</td>\n",
       "      <td>0</td>\n",
       "      <td>0</td>\n",
       "      <td>0</td>\n",
       "      <td>0</td>\n",
       "      <td>7</td>\n",
       "      <td>6.5</td>\n",
       "      <td>73.5</td>\n",
       "      <td>76.2</td>\n",
       "    </tr>\n",
       "    <tr>\n",
       "      <td>49</td>\n",
       "      <td>1941</td>\n",
       "      <td>11.5</td>\n",
       "      <td>3.3</td>\n",
       "      <td>29.2</td>\n",
       "      <td>15</td>\n",
       "      <td>0</td>\n",
       "      <td>0</td>\n",
       "      <td>0</td>\n",
       "      <td>0</td>\n",
       "      <td>0</td>\n",
       "      <td>0.3</td>\n",
       "      <td>6.1</td>\n",
       "      <td>12.7</td>\n",
       "      <td>72.5</td>\n",
       "      <td>78.1</td>\n",
       "    </tr>\n",
       "    <tr>\n",
       "      <td>50</td>\n",
       "      <td>1942</td>\n",
       "      <td>13.3</td>\n",
       "      <td>20.9</td>\n",
       "      <td>11.7</td>\n",
       "      <td>10</td>\n",
       "      <td>1.5</td>\n",
       "      <td>0</td>\n",
       "      <td>0</td>\n",
       "      <td>0</td>\n",
       "      <td>1</td>\n",
       "      <td>23</td>\n",
       "      <td>5.2</td>\n",
       "      <td>7.9</td>\n",
       "      <td>76.5</td>\n",
       "      <td>94.5</td>\n",
       "    </tr>\n",
       "    <tr>\n",
       "      <td>51</td>\n",
       "      <td>1943</td>\n",
       "      <td>2</td>\n",
       "      <td>3.5</td>\n",
       "      <td>17.9</td>\n",
       "      <td>0</td>\n",
       "      <td>9.5</td>\n",
       "      <td>0</td>\n",
       "      <td>0</td>\n",
       "      <td>0</td>\n",
       "      <td>0</td>\n",
       "      <td>0</td>\n",
       "      <td>9.5</td>\n",
       "      <td>6.6</td>\n",
       "      <td>70</td>\n",
       "      <td>49</td>\n",
       "    </tr>\n",
       "    <tr>\n",
       "      <td>52</td>\n",
       "      <td>1944</td>\n",
       "      <td>13</td>\n",
       "      <td>5.4</td>\n",
       "      <td>41.1</td>\n",
       "      <td>27.6</td>\n",
       "      <td>2.1</td>\n",
       "      <td>0</td>\n",
       "      <td>0</td>\n",
       "      <td>0</td>\n",
       "      <td>0</td>\n",
       "      <td>0</td>\n",
       "      <td>4.5</td>\n",
       "      <td>9.6</td>\n",
       "      <td>105.3</td>\n",
       "      <td>103.3</td>\n",
       "    </tr>\n",
       "    <tr>\n",
       "      <td>53</td>\n",
       "      <td>1945</td>\n",
       "      <td>20.3</td>\n",
       "      <td>9</td>\n",
       "      <td>10.9</td>\n",
       "      <td>32.5</td>\n",
       "      <td>0.5</td>\n",
       "      <td>0</td>\n",
       "      <td>0</td>\n",
       "      <td>0</td>\n",
       "      <td>2</td>\n",
       "      <td>5.1</td>\n",
       "      <td>6.5</td>\n",
       "      <td>4</td>\n",
       "      <td>87.3</td>\n",
       "      <td>90.8</td>\n",
       "    </tr>\n",
       "    <tr>\n",
       "      <td>54</td>\n",
       "      <td>1946</td>\n",
       "      <td>21.2</td>\n",
       "      <td>5.5</td>\n",
       "      <td>1</td>\n",
       "      <td>0</td>\n",
       "      <td>7.5</td>\n",
       "      <td>0</td>\n",
       "      <td>0</td>\n",
       "      <td>0</td>\n",
       "      <td>1</td>\n",
       "      <td>7.3</td>\n",
       "      <td>46.7</td>\n",
       "      <td>7</td>\n",
       "      <td>52.8</td>\n",
       "      <td>97.2</td>\n",
       "    </tr>\n",
       "    <tr>\n",
       "      <td>55</td>\n",
       "      <td>1947</td>\n",
       "      <td>17</td>\n",
       "      <td>19.3</td>\n",
       "      <td>23.7</td>\n",
       "      <td>9</td>\n",
       "      <td>5</td>\n",
       "      <td>1</td>\n",
       "      <td>0</td>\n",
       "      <td>0</td>\n",
       "      <td>0</td>\n",
       "      <td>8</td>\n",
       "      <td>14</td>\n",
       "      <td>13.4</td>\n",
       "      <td>137</td>\n",
       "      <td>110.4</td>\n",
       "    </tr>\n",
       "  </tbody>\n",
       "</table>\n",
       "</div>"
      ],
      "text/plain": [
       "    Year   Jan   Feb   Mar   Apr   May Jun Jul Aug Sep   Oct   Nov   Dec  \\\n",
       "6   1898     7   4.2   7.5   8.2    13   0   0   0   1     5  23.5    18   \n",
       "7   1899    13  15.2    31     8     0   0   0   0   0     2     0  12.8   \n",
       "8   1900   4.5  14.8   6.8    20     0   0   0   0   0     0   3.1   9.2   \n",
       "9   1901   7.5   6.2  18.5    26     0   0   0   0   0     4     0    15   \n",
       "10  1902   7.2   6.5   9.5     3     0   0   0   0   0   0.5     8    17   \n",
       "11  1903     2  19.5  13.5    18     0   0   0   0   1  10.5   2.2   2.5   \n",
       "12  1904     2     3    16     1     0   0   0   0   0     5     1   8.5   \n",
       "13  1905  13.5   8.5   7.5  21.5     3   0   0   0   0    13     0     0   \n",
       "14  1906   3.2   2.5    24     8     0   0   0   0   0    19    18     0   \n",
       "15  1907   6.2     7   2.5  28.5    15   0   0   0   1     0   6.2   2.1   \n",
       "16  1908    10   1.5   3.8   5.5     8   0   0   0   8  15.2    31    15   \n",
       "17  1909   0.5  19.2  26.5  27.5     0   0   0   0   0     1  16.5    31   \n",
       "18  1910     4  20.8     0   0.2     7   0   0   0   0     0   0.5   4.5   \n",
       "19  1911  11.5  27.1     0    12     0   0   0   0   0     8    10   5.9   \n",
       "20  1912   2.4  22.1  12.9     0     7   0   0   0   0     3     2   2.4   \n",
       "21  1913   6.2  12.8  21.1  15.4     0   0   0   0   0     9     0  52.5   \n",
       "22  1914     0   1.7  26.9  14.8     0   0   0   0   0     3   0.9   5.3   \n",
       "23  1915   8.6  18.5  13.4     0  14.5   0   0   0   0     0   3.9  19.4   \n",
       "24  1916  11.2   0.4  12.8    14     5   0   0   0   0  10.1  17.4  13.6   \n",
       "25  1917   5.9   6.3  22.2    13  14.8   0   0   0   0   7.5     0   5.3   \n",
       "26  1918   6.8  14.5     0     0     0   0   0   0   0     2    14  15.5   \n",
       "27  1919     0   6.9    10   4.5     0   0   0   0   0     0    12     5   \n",
       "28  1920  12.5  14.4   6.1  40.3     0   0   0   0   0   4.2  13.3  13.7   \n",
       "29  1921   4.4     4   8.8  13.6     0   0   0   0   0     0   6.3  14.9   \n",
       "30  1922     6   7.6   3.6   4.7     0   0   0   0   0   1.1    14   3.7   \n",
       "31  1923     0  24.4  24.8   2.5   0.2   0   0   0   0  12.3   3.9   7.4   \n",
       "32  1924   7.9   2.8  22.5  16.5     0   0   0   0   0     0     1  14.2   \n",
       "33  1925     2     0   4.3     0     0   0   0   0   0  13.5     8    15   \n",
       "34  1926   8.5   5.8    22     3     0   0   0   0   0     3     0  20.8   \n",
       "35  1927   3.9   3.9    10   8.4     0   0   0   0   0     0   8.6   8.2   \n",
       "36  1928   0.8  16.8  16.7   2.4     0   0   0   0   0     0  19.7   0.5   \n",
       "37  1929   4.7  12.1  26.2     2     0   0   0   0   0  14.9  25.9   9.1   \n",
       "38  1930   8.9   7.3   6.5     0   5.5   0   0   0   0     0  13.3   9.8   \n",
       "39  1931     0  16.9  21.6  10.6  26.7   0   0   0   0     0  13.4   0.4   \n",
       "40  1932   4.7  14.4  14.4   5.3     0   0   0   0   0   6.3   5.1   8.4   \n",
       "41  1933     0   5.6   9.1  37.7     3   0   0   0   0     0   1.2     8   \n",
       "42  1934     1  18.1  15.5  13.3     0   0   0   0   3     0   8.4     3   \n",
       "43  1935   1.7   8.1   1.6  16.1     1   0   0   0   3   2.3   7.7   0.2   \n",
       "44  1936   5.9   7.7  24.2   9.9     0   0   0   0   8     6   3.5   5.6   \n",
       "45  1937   7.9   5.8   8.3  19.8     0   0   0   0   0   2.5   7.7  15.7   \n",
       "46  1938   8.7  11.3  21.8     9     0   0   0   0   0   2.7  24.9  15.3   \n",
       "47  1939     8  13.3   9.4  14.1     0   0   0   0   0   6.5     0   4.3   \n",
       "48  1940  24.2  15.9  14.6     8     0   0   0   0   0     0     7   6.5   \n",
       "49  1941  11.5   3.3  29.2    15     0   0   0   0   0   0.3   6.1  12.7   \n",
       "50  1942  13.3  20.9  11.7    10   1.5   0   0   0   1    23   5.2   7.9   \n",
       "51  1943     2   3.5  17.9     0   9.5   0   0   0   0     0   9.5   6.6   \n",
       "52  1944    13   5.4  41.1  27.6   2.1   0   0   0   0     0   4.5   9.6   \n",
       "53  1945  20.3     9  10.9  32.5   0.5   0   0   0   2   5.1   6.5     4   \n",
       "54  1946  21.2   5.5     1     0   7.5   0   0   0   1   7.3  46.7     7   \n",
       "55  1947    17  19.3  23.7     9     5   1   0   0   0     8    14  13.4   \n",
       "\n",
       "   Total Sep-Jun Total Jan-Dec  \n",
       "6           63.1          87.4  \n",
       "7          114.7            82  \n",
       "8           60.9          58.4  \n",
       "9           70.5          77.2  \n",
       "10          45.2          51.7  \n",
       "11          78.5          69.2  \n",
       "12          38.2          36.5  \n",
       "13          68.5            67  \n",
       "14          50.7          74.7  \n",
       "15          96.2          68.5  \n",
       "16          38.1            98  \n",
       "17         142.9         122.2  \n",
       "18          80.5            37  \n",
       "19          55.6          74.5  \n",
       "20          68.3          51.8  \n",
       "21          62.9           117  \n",
       "22         104.9          52.6  \n",
       "23          64.2          78.3  \n",
       "24          66.7          84.5  \n",
       "25         103.3            75  \n",
       "26          34.1          52.8  \n",
       "27          52.9          38.4  \n",
       "28          90.3         104.5  \n",
       "29            62            52  \n",
       "30          43.1          40.7  \n",
       "31          70.7          75.5  \n",
       "32          73.3          64.9  \n",
       "33          21.5          42.8  \n",
       "34          75.8          63.1  \n",
       "35            50            43  \n",
       "36          53.5          56.9  \n",
       "37          65.2          94.9  \n",
       "38          78.1          51.3  \n",
       "39          98.9          89.6  \n",
       "40          52.6          58.6  \n",
       "41          75.2          64.6  \n",
       "42          57.1          62.3  \n",
       "43          42.9          41.7  \n",
       "44          60.9          70.8  \n",
       "45          64.9          67.7  \n",
       "46          76.7          93.7  \n",
       "47          87.7          55.6  \n",
       "48          73.5          76.2  \n",
       "49          72.5          78.1  \n",
       "50          76.5          94.5  \n",
       "51            70            49  \n",
       "52         105.3         103.3  \n",
       "53          87.3          90.8  \n",
       "54          52.8          97.2  \n",
       "55           137         110.4  "
      ]
     },
     "execution_count": 15,
     "metadata": {},
     "output_type": "execute_result"
    }
   ],
   "source": [
    "#load file\n",
    "path = 'Data/Boulder_Snowfall.csv'\n",
    "dfSnow = pd.read_csv(path)\n",
    "dfSnow.head()\n",
    "\n",
    "# Used this list to find the right format for the '.' characters in the df\n",
    "a = list(set(dfSnow['Jul']))\n",
    "\n",
    "# Replace Ts and '.'s\n",
    "dfSnow.replace( to_replace= 'T', value = 0, limit = None, inplace=True, regex=True)\n",
    "dfSnow.replace(to_replace = '.\\xa0', value = np.nan, inplace = True)\n",
    "     \n",
    "# clean\n",
    "dfCleanSnow = dfSnow.dropna()\n",
    "dfCleanSnow.head(50)"
   ]
  },
  {
   "cell_type": "markdown",
   "metadata": {},
   "source": [
    "6/6"
   ]
  },
  {
   "cell_type": "markdown",
   "metadata": {
    "colab_type": "text",
    "id": "yKsf4Bx3mhfj"
   },
   "source": [
    "**Part B:** Plot the last column of data, “Total Jan-Dec”, from the cleaned data set. Label your axes. Do you observe any trends? Discuss.\n",
    "\n",
    "[Note: Make sure that your x-axis tick labels are in years and are readable. You may have to play around with formatting the ticklabels. plt.MaxNLocator might be helpful depending on how you plotted your data.] "
   ]
  },
  {
   "cell_type": "code",
   "execution_count": 16,
   "metadata": {
    "colab": {},
    "colab_type": "code",
    "id": "X5qa--ihmhfj"
   },
   "outputs": [
    {
     "data": {
      "text/plain": [
       "(array([13., 12., 12., 12., 12., 12., 12., 12., 11., 13.]),\n",
       " array([1898. , 1910.1, 1922.2, 1934.3, 1946.4, 1958.5, 1970.6, 1982.7,\n",
       "        1994.8, 2006.9, 2019. ]),\n",
       " <a list of 10 Patch objects>)"
      ]
     },
     "execution_count": 16,
     "metadata": {},
     "output_type": "execute_result"
    },
    {
     "data": {
      "image/png": "[encoded data removed]",
      "text/plain": [
       "<Figure size 864x576 with 1 Axes>"
      ]
     },
     "metadata": {
      "needs_background": "light"
     },
     "output_type": "display_data"
    }
   ],
   "source": [
    "fig, ax2 = plt.subplots(figsize=(12,8))\n",
    "tot = dfCleanSnow['Total Jan-Dec']\n",
    "yr = dfCleanSnow['Year']\n",
    "\n",
    "plt.hist(yr)\n",
    "\n",
    "#I worked on this for 3 plus hours, The graph below is not right, but the closest\n",
    "# I got was a groph where Total Jan-Dec was mapped on the bottom\n",
    "# Could not fix\n",
    "\n"
   ]
  },
  {
   "cell_type": "markdown",
   "metadata": {},
   "source": [
    "1/4\n",
    "\n",
    "graph not quite correct"
   ]
  },
  {
   "cell_type": "markdown",
   "metadata": {
    "colab_type": "text",
    "id": "YRxROvLdmhfl"
   },
   "source": [
    "**Part C:** Using your cleaned data set, create a histogram of the yearly snowfall. Bin your data with a bin-width of 5 inches, starting at 35 inches. Make the edgecolor of your graph white. What is the most common amount of snow to get in a year? How does this compare with how much snow we got in 2019? "
   ]
  },
  {
   "cell_type": "code",
   "execution_count": 17,
   "metadata": {
    "colab": {},
    "colab_type": "code",
    "id": "wVdtiUCxmhfl"
   },
   "outputs": [
    {
     "name": "stderr",
     "output_type": "stream",
     "text": [
      "/opt/conda/lib/python3.7/site-packages/ipykernel_launcher.py:5: SettingWithCopyWarning: \n",
      "A value is trying to be set on a copy of a slice from a DataFrame.\n",
      "Try using .loc[row_indexer,col_indexer] = value instead\n",
      "\n",
      "See the caveats in the documentation: http://pandas.pydata.org/pandas-docs/stable/user_guide/indexing.html#returning-a-view-versus-a-copy\n",
      "  \"\"\"\n"
     ]
    },
    {
     "data": {
      "text/plain": [
       "dtype('O')"
      ]
     },
     "execution_count": 17,
     "metadata": {},
     "output_type": "execute_result"
    }
   ],
   "source": [
    "bins1 = range(35,100,5)\n",
    "\n",
    "cols = ['Total Sep-Jun', 'Total Jan-Dec']\n",
    "\n",
    "dfCleanSnow[\"Sum\"] = dfCleanSnow['Total Sep-Jun'] + dfCleanSnow['Total Jan-Dec']\n",
    "# I don't know why, but the above line returns these two cols smushed together.\n",
    "# It seems like the data is in a different format or something because nothing is working.\n",
    "dfCleanSnow['Jan'].dtypes"
   ]
  },
  {
   "cell_type": "markdown",
   "metadata": {
    "colab_type": "text",
    "id": "QhG84xfTmhfo"
   },
   "source": [
    "0/4\n",
    "\n",
    "incomplete"
   ]
  },
  {
   "cell_type": "markdown",
   "metadata": {
    "colab_type": "text",
    "id": "af9s27tnmhfo"
   },
   "source": [
    "**Part D:** Generate a series of 12 box plots to represent each decade starting in 1900, using your cleaned data set. Orient the box plots so that the decades (‘1900-1909’, ‘1910-1919’, … , ‘2010-2019’) appear along the x-axis, and the y-axis shows the amount of snowfall. Have all 12 boxplots as part of one graph. Include appropriate labels to your axes and a title, so that if someone not in our class were to look at your plots, they would understand what they were looking at. \n",
    "\n",
    "[Note: Data from the year 2004 was dropped during the initial cleaning of the data set (or should have been). Keep this in mind when plotting data from the 2000-2009 decade.]"
   ]
  },
  {
   "cell_type": "code",
   "execution_count": 18,
   "metadata": {
    "colab": {},
    "colab_type": "code",
    "id": "Lc8DmooJmhfo"
   },
   "outputs": [],
   "source": [
    "# Your code here."
   ]
  },
  {
   "cell_type": "markdown",
   "metadata": {
    "colab_type": "text",
    "id": "MWpfTTHomhfr"
   },
   "source": []
  },
  {
   "cell_type": "markdown",
   "metadata": {
    "colab_type": "text",
    "id": "TX3NK_Atmhfr"
   },
   "source": [
    "\n",
    "**Part E:** Let’s study snowfall in Boulder, in February. Compute the mean February snowfall using your cleaned data set. Next calculate the Tukey 5-number summary for the February snowfall data. Lastly, generate a boxplot for the February snowfall. "
   ]
  },
  {
   "cell_type": "code",
   "execution_count": 19,
   "metadata": {
    "colab": {},
    "colab_type": "code",
    "id": "qfLkBohZmhfr"
   },
   "outputs": [
    {
     "ename": "NotImplementedError",
     "evalue": "Series.sum does not implement numeric_only.",
     "output_type": "error",
     "traceback": [
      "\u001b[0;31m---------------------------------------------------------------------------\u001b[0m",
      "\u001b[0;31mNotImplementedError\u001b[0m                       Traceback (most recent call last)",
      "\u001b[0;32m<ipython-input-19-eff7c0c00ec7>\u001b[0m in \u001b[0;36m<module>\u001b[0;34m()\u001b[0m\n\u001b[1;32m      1\u001b[0m \u001b[0;31m# Your code here.\u001b[0m\u001b[0;34m\u001b[0m\u001b[0;34m\u001b[0m\u001b[0;34m\u001b[0m\u001b[0m\n\u001b[0;32m----> 2\u001b[0;31m \u001b[0mssum\u001b[0m \u001b[0;34m=\u001b[0m \u001b[0mdfCleanSnow\u001b[0m\u001b[0;34m[\u001b[0m\u001b[0;34m'Feb'\u001b[0m\u001b[0;34m]\u001b[0m\u001b[0;34m.\u001b[0m\u001b[0msum\u001b[0m\u001b[0;34m(\u001b[0m\u001b[0mnumeric_only\u001b[0m \u001b[0;34m=\u001b[0m \u001b[0;32mTrue\u001b[0m\u001b[0;34m)\u001b[0m\u001b[0;34m\u001b[0m\u001b[0;34m\u001b[0m\u001b[0m\n\u001b[0m\u001b[1;32m      3\u001b[0m \u001b[0mprint\u001b[0m\u001b[0;34m(\u001b[0m\u001b[0mssum\u001b[0m\u001b[0;34m)\u001b[0m\u001b[0;34m\u001b[0m\u001b[0;34m\u001b[0m\u001b[0m\n\u001b[1;32m      4\u001b[0m \u001b[0;34m\u001b[0m\u001b[0m\n\u001b[1;32m      5\u001b[0m \u001b[0;31m# Once again sum is just smushing data together. I don't understand.\u001b[0m\u001b[0;34m\u001b[0m\u001b[0;34m\u001b[0m\u001b[0;34m\u001b[0m\u001b[0m\n",
      "\u001b[0;32m/opt/conda/lib/python3.7/site-packages/pandas/core/generic.py\u001b[0m in \u001b[0;36mstat_func\u001b[0;34m(self, axis, skipna, level, numeric_only, min_count, **kwargs)\u001b[0m\n\u001b[1;32m  11583\u001b[0m             \u001b[0mskipna\u001b[0m\u001b[0;34m=\u001b[0m\u001b[0mskipna\u001b[0m\u001b[0;34m,\u001b[0m\u001b[0;34m\u001b[0m\u001b[0;34m\u001b[0m\u001b[0m\n\u001b[1;32m  11584\u001b[0m             \u001b[0mnumeric_only\u001b[0m\u001b[0;34m=\u001b[0m\u001b[0mnumeric_only\u001b[0m\u001b[0;34m,\u001b[0m\u001b[0;34m\u001b[0m\u001b[0;34m\u001b[0m\u001b[0m\n\u001b[0;32m> 11585\u001b[0;31m             \u001b[0mmin_count\u001b[0m\u001b[0;34m=\u001b[0m\u001b[0mmin_count\u001b[0m\u001b[0;34m,\u001b[0m\u001b[0;34m\u001b[0m\u001b[0;34m\u001b[0m\u001b[0m\n\u001b[0m\u001b[1;32m  11586\u001b[0m         )\n\u001b[1;32m  11587\u001b[0m \u001b[0;34m\u001b[0m\u001b[0m\n",
      "\u001b[0;32m/opt/conda/lib/python3.7/site-packages/pandas/core/series.py\u001b[0m in \u001b[0;36m_reduce\u001b[0;34m(self, op, name, axis, skipna, numeric_only, filter_type, **kwds)\u001b[0m\n\u001b[1;32m   4082\u001b[0m             \u001b[0;32mif\u001b[0m \u001b[0mnumeric_only\u001b[0m\u001b[0;34m:\u001b[0m\u001b[0;34m\u001b[0m\u001b[0;34m\u001b[0m\u001b[0m\n\u001b[1;32m   4083\u001b[0m                 raise NotImplementedError(\n\u001b[0;32m-> 4084\u001b[0;31m                     \u001b[0;34m\"Series.{0} does not implement \"\u001b[0m \u001b[0;34m\"numeric_only.\"\u001b[0m\u001b[0;34m.\u001b[0m\u001b[0mformat\u001b[0m\u001b[0;34m(\u001b[0m\u001b[0mname\u001b[0m\u001b[0;34m)\u001b[0m\u001b[0;34m\u001b[0m\u001b[0;34m\u001b[0m\u001b[0m\n\u001b[0m\u001b[1;32m   4085\u001b[0m                 )\n\u001b[1;32m   4086\u001b[0m             \u001b[0;32mwith\u001b[0m \u001b[0mnp\u001b[0m\u001b[0;34m.\u001b[0m\u001b[0merrstate\u001b[0m\u001b[0;34m(\u001b[0m\u001b[0mall\u001b[0m\u001b[0;34m=\u001b[0m\u001b[0;34m\"ignore\"\u001b[0m\u001b[0;34m)\u001b[0m\u001b[0;34m:\u001b[0m\u001b[0;34m\u001b[0m\u001b[0;34m\u001b[0m\u001b[0m\n",
      "\u001b[0;31mNotImplementedError\u001b[0m: Series.sum does not implement numeric_only."
     ]
    }
   ],
   "source": [
    "# Your code here. \n",
    "ssum = dfCleanSnow['Feb'].sum(numeric_only = True)\n",
    "print(ssum)\n",
    "\n",
    "# Once again sum is just smushing data together. I don't understand.\n",
    "# Error says series.sum does not implement numeric_only, \n",
    "# I'm reading the documentation which says otherwise."
   ]
  },
  {
   "cell_type": "markdown",
   "metadata": {
    "colab_type": "text",
    "id": "JcGxvoPwmhft"
   },
   "source": []
  },
  {
   "cell_type": "markdown",
   "metadata": {
    "colab_type": "text",
    "id": "ifqaNpXCmhfu"
   },
   "source": [
    "**Part F:** Plot all of the February snowfall with a line plot, using your cleaned data set. How many inches of snow do you predict we will get this February in Boulder? \n",
    "\n",
    "_No credit, but only for fun_ : Now that February is over, compare the predicted value with the original!"
   ]
  },
  {
   "cell_type": "code",
   "execution_count": null,
   "metadata": {
    "colab": {},
    "colab_type": "code",
    "id": "bQwdmPFomhfu"
   },
   "outputs": [],
   "source": [
    "# Can't get anything to work with plotting graphs\n"
   ]
  },
  {
   "cell_type": "markdown",
   "metadata": {
    "colab_type": "text",
    "id": "TttrPelnmhfw"
   },
   "source": []
  },
  {
   "cell_type": "markdown",
   "metadata": {
    "colab_type": "text",
    "id": "BGogXtUgmhfw"
   },
   "source": [
    "[Back to top](#top)\n",
    "<a id='p5'></a>\n",
    "\n",
    "## (15 pts) Problem 5\n",
    "***\n",
    "Consider the following 3 data sets:\n",
    "\n",
    "`A=[8, 6, 7, 5, 3, 0, 9]`\n",
    "\n",
    "`B=[2, 29, 84, 2, 10, 69, 3, 31, 18]`\n",
    "\n",
    "`C` is the random data set generated by using `np.random.randint(0,1000, size=100)`\n",
    "\n",
    "For each data set, perform the following computations:\n",
    "\n",
    "**Part A:** Compute and print the mean and standard deviation of the data set. You may use built-in python functions."
   ]
  },
  {
   "cell_type": "code",
   "execution_count": 20,
   "metadata": {
    "colab": {},
    "colab_type": "code",
    "id": "Y5mBVN_2mhfx"
   },
   "outputs": [
    {
     "name": "stdout",
     "output_type": "stream",
     "text": [
      "Mean A:  5.428571428571429\n",
      "Mean B:  27.555555555555557\n",
      "Mean C:  484.21\n",
      "---\n",
      "SD A:  2.8713930346059686\n",
      "SD B:  28.335729746151124\n",
      "SD C:  280.73023688231376\n"
     ]
    }
   ],
   "source": [
    "A=[8, 6, 7, 5, 3, 0, 9]\n",
    "B=[2, 29, 84, 2, 10, 69, 3, 31, 18]\n",
    "C = np.random.randint(0,1000, size=100)\n",
    "\n",
    "print(\"Mean A: \", np.mean(A))\n",
    "print(\"Mean B: \",np.mean(B))\n",
    "print(\"Mean C: \",np.mean(C))\n",
    "print(\"---\")\n",
    "print(\"SD A: \",np.std(A))\n",
    "print(\"SD B: \",np.std(B))\n",
    "print(\"SD C: \",np.std(C))"
   ]
  },
  {
   "cell_type": "markdown",
   "metadata": {},
   "source": [
    "2/4\n",
    "\n",
    "use ddof=1 for std dev"
   ]
  },
  {
   "cell_type": "markdown",
   "metadata": {
    "colab_type": "text",
    "id": "MRRagOuomhfz"
   },
   "source": [
    "**Part B:** Compute and print  the mean and standard deviation of the new data set formed by subtracting the original mean from each observation."
   ]
  },
  {
   "cell_type": "code",
   "execution_count": 21,
   "metadata": {
    "colab": {},
    "colab_type": "code",
    "id": "hxqs-Ttzmhfz"
   },
   "outputs": [
    {
     "name": "stdout",
     "output_type": "stream",
     "text": [
      "Mean A:  -2.5376526277146434e-16\n",
      "Mean B:  -1.578983857244667e-15\n",
      "Mean C:  1.3073986337985844e-14\n",
      "---\n",
      "SD A:  2.8713930346059686\n",
      "SD B:  28.335729746151124\n",
      "SD C:  280.73023688231376\n"
     ]
    }
   ],
   "source": [
    "m = np.mean(A)\n",
    "m1 = np.mean(B)\n",
    "m2 = np.mean(C)\n",
    "\n",
    "A1 = []\n",
    "B1 = []\n",
    "C1 = []\n",
    "\n",
    "for i in A:\n",
    "    A1.append(i - m) \n",
    "\n",
    "for i in B:\n",
    "    B1.append(i - m1)\n",
    "    \n",
    "for i in C:\n",
    "    C1.append(i - m2)\n",
    "    \n",
    "print(\"Mean A: \", np.mean(A1))\n",
    "print(\"Mean B: \",np.mean(B1))\n",
    "print(\"Mean C: \",np.mean(C1))\n",
    "print(\"---\")\n",
    "print(\"SD A: \",np.std(A1))\n",
    "print(\"SD B: \",np.std(B1))\n",
    "print(\"SD C: \",np.std(C1))\n"
   ]
  },
  {
   "cell_type": "markdown",
   "metadata": {},
   "source": [
    "2/4\n",
    "\n",
    "use ddof=1 for std dev"
   ]
  },
  {
   "cell_type": "markdown",
   "metadata": {
    "colab_type": "text",
    "id": "krdmc5gPmhf1"
   },
   "source": [
    "**Part C:** Compute and print  the mean and standard deviation of the new data set formed by subtracting the original mean from each observation and then dividing by the original standard deviation."
   ]
  },
  {
   "cell_type": "code",
   "execution_count": 22,
   "metadata": {
    "colab": {},
    "colab_type": "code",
    "id": "CWELZi5Zmhf1"
   },
   "outputs": [
    {
     "name": "stdout",
     "output_type": "stream",
     "text": [
      "Mean A:  -6.344131569286608e-17\n",
      "Mean B:  0.780886334151661\n",
      "Mean C:  1.7054857855306151\n",
      "---\n",
      "SD A:  1.0\n",
      "SD B:  1.0\n",
      "SD C:  1.0\n"
     ]
    }
   ],
   "source": [
    "sa = np.std(A)\n",
    "saB = np.std(B)\n",
    "saC = np.std(C)\n",
    "\n",
    "A2 = []\n",
    "B2 = []\n",
    "C2 = []\n",
    "\n",
    "for i in A:\n",
    "    A2.append((i - m)/sa) \n",
    "\n",
    "for i in B:\n",
    "    B2.append((i - m)/saB)\n",
    "    \n",
    "for i in C:\n",
    "    C2.append((i - m)/saC)\n",
    "    \n",
    "print(\"Mean A: \", np.mean(A2))\n",
    "print(\"Mean B: \",np.mean(B2))\n",
    "print(\"Mean C: \",np.mean(C2))\n",
    "print(\"---\")\n",
    "print(\"SD A: \",np.std(A2))\n",
    "print(\"SD B: \",np.std(B2))\n",
    "print(\"SD C: \",np.std(C2))"
   ]
  },
  {
   "cell_type": "markdown",
   "metadata": {},
   "source": [
    "2/4\n",
    "\n",
    "mean calculations not quite correct"
   ]
  },
  {
   "cell_type": "markdown",
   "metadata": {
    "colab_type": "text",
    "id": "VpDKUkjtmhf3"
   },
   "source": [
    "**Part D:** Why might this result matter?"
   ]
  },
  {
   "cell_type": "markdown",
   "metadata": {
    "colab_type": "text",
    "id": "hcdZLscWmhf4"
   },
   "source": [
    "I don't Know why it matters, but It's interesting that all the SDs became one"
   ]
  },
  {
   "cell_type": "markdown",
   "metadata": {},
   "source": [
    "0/3\n",
    "\n",
    "data is normalized/standardized. it becomes easier for comparison"
   ]
  }
 ],
 "metadata": {
  "colab": {
   "name": "HW1_Lastname_Firstname.ipynb",
   "provenance": [],
   "toc_visible": true
  },
  "kernelspec": {
   "display_name": "Python 3",
   "language": "python",
   "name": "python3"
  },
  "language_info": {
   "codemirror_mode": {
    "name": "ipython",
    "version": 2
   },
   "file_extension": ".py",
   "mimetype": "text/x-python",
   "name": "python",
   "nbconvert_exporter": "python",
   "pygments_lexer": "ipython2",
   "version": "2.7.17"
  }
 },
 "nbformat": 4,
 "nbformat_minor": 4
}
