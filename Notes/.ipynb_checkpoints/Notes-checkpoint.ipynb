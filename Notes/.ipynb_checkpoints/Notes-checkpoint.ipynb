{
 "cells": [
  {
   "cell_type": "code",
   "execution_count": null,
   "metadata": {
    "colab": {},
    "colab_type": "code",
    "collapsed": true,
    "id": "W6uwmKUBmheu",
    "jupyter": {
     "outputs_hidden": true
    }
   },
   "outputs": [],
   "source": [
    "import pandas as pd\n",
    "import numpy as np\n",
    "import matplotlib.pylab as plt\n",
    "%matplotlib inline"
   ]
  },
  {
   "cell_type": "markdown",
   "metadata": {},
   "source": [
    " <h1> <span style=\"color: CadetBlue\">Data, Sets, Probability</span> </h1>"
   ]
  },
  {
   "cell_type": "markdown",
   "metadata": {
    "colab": {},
    "colab_type": "code",
    "id": "W6uwmKUBmheu"
   },
   "source": [
    "<h2> <span style=\"color: Cyan\">Data</span> </h2>"
   ]
  },
  {
   "cell_type": "markdown",
   "metadata": {},
   "source": [
    " ----"
   ]
  },
  {
   "cell_type": "markdown",
   "metadata": {},
   "source": [
    "<h3> <span style=\"color: Orchid\">Variance</span> </h3>"
   ]
  },
  {
   "cell_type": "markdown",
   "metadata": {},
   "source": [
    "<h3> <span style=\"color: Orchid\">Range</span> </h3>"
   ]
  },
  {
   "cell_type": "markdown",
   "metadata": {},
   "source": [
    "IQR $= Q_3-Q_1$\n",
    "Range: "
   ]
  },
  {
   "cell_type": "markdown",
   "metadata": {},
   "source": [
    "  "
   ]
  },
  {
   "cell_type": "markdown",
   "metadata": {},
   "source": [
    "  "
   ]
  },
  {
   "cell_type": "markdown",
   "metadata": {},
   "source": [
    "  "
   ]
  },
  {
   "cell_type": "markdown",
   "metadata": {},
   "source": [
    "  "
   ]
  },
  {
   "cell_type": "markdown",
   "metadata": {},
   "source": [
    "  "
   ]
  },
  {
   "cell_type": "markdown",
   "metadata": {},
   "source": [
    "<h2> <span style=\"color: Cyan\">Probability</span> </h2>"
   ]
  },
  {
   "cell_type": "markdown",
   "metadata": {},
   "source": [
    " ----"
   ]
  },
  {
   "cell_type": "markdown",
   "metadata": {},
   "source": [
    "<h3> <span style=\"color: Orchid\">Coin Flip</span> </h3>"
   ]
  },
  {
   "cell_type": "markdown",
   "metadata": {},
   "source": [
    "When flipping 3 fair coins, each coin has 2 possibilites so,\n",
    "$2*2*2$ total possibilities"
   ]
  },
  {
   "cell_type": "markdown",
   "metadata": {},
   "source": [
    "<h3> <span style=\"color: Orchid\">Non-Disjoint Events</span> </h3>"
   ]
  },
  {
   "cell_type": "markdown",
   "metadata": {},
   "source": [
    " * $P(A \\cup B) = P(A) + P(B) - P(A \\cap B)$"
   ]
  },
  {
   "cell_type": "markdown",
   "metadata": {},
   "source": [
    "<h3> <span style=\"color: Orchid\">Disjoint Events</span> </h3>"
   ]
  },
  {
   "cell_type": "markdown",
   "metadata": {},
   "source": [
    " * $P(A^c) = 1-P(A)$"
   ]
  },
  {
   "cell_type": "markdown",
   "metadata": {},
   "source": [
    "<h3> <span style=\"color: Orchid\">Conditional Probability</span> </h3>"
   ]
  },
  {
   "cell_type": "markdown",
   "metadata": {},
   "source": [
    "- ### $P(A | C) =\\frac{P(A \\cap C)}{P(C)}$"
   ]
  },
  {
   "cell_type": "markdown",
   "metadata": {},
   "source": [
    " "
   ]
  },
  {
   "cell_type": "markdown",
   "metadata": {},
   "source": [
    "<h3> <span style=\"color: Orchid\">Multiplication Rule</span> </h3>"
   ]
  },
  {
   "cell_type": "markdown",
   "metadata": {},
   "source": [
    "- ### $P(A \\cap B) = P(A)P(B|A) = P(B)P(A|B)$"
   ]
  },
  {
   "cell_type": "markdown",
   "metadata": {},
   "source": [
    " "
   ]
  },
  {
   "cell_type": "markdown",
   "metadata": {},
   "source": [
    "<h3> <span style=\"color: Orchid\">Independence</span> </h3>"
   ]
  },
  {
   "cell_type": "markdown",
   "metadata": {},
   "source": [
    "  * $A$ is independent of $B$ if $P(A|B) = P(A)$\n",
    "  * ### Rules:\n",
    "1. $P(A|B) = P(A)$\n",
    "2. $P(B|A) = P(B)$\n",
    "3. $P(A\\cap B) = P(A)P(B)$"
   ]
  },
  {
   "cell_type": "markdown",
   "metadata": {},
   "source": [
    "* Suppose you are a detective and you have to solve a murder, there are 3 suspects\n",
    "    * Evidence first: You see some evidence in the crime scene, and then you try to figure out the cause\n",
    "    * Another Direction: You have a prior belief, then new evidence changes your beliefs accordingly. "
   ]
  },
  {
   "cell_type": "markdown",
   "metadata": {},
   "source": [
    " "
   ]
  },
  {
   "cell_type": "markdown",
   "metadata": {},
   "source": [
    " "
   ]
  },
  {
   "cell_type": "markdown",
   "metadata": {},
   "source": [
    " # Notebook ___ notes"
   ]
  },
  {
   "cell_type": "markdown",
   "metadata": {},
   "source": [
    "## Simulating random events"
   ]
  },
  {
   "cell_type": "code",
   "execution_count": 10,
   "metadata": {
    "collapsed": true,
    "jupyter": {
     "outputs_hidden": true
    }
   },
   "outputs": [
    {
     "name": "stdout",
     "output_type": "stream",
     "text": [
      "H\n",
      "H\n",
      "T\n",
      "T\n",
      "T\n",
      "[False False  True  True False False False False False  True  True False\n",
      "  True False False  True  True False  True  True  True False  True  True\n",
      " False  True  True  True False  True  True  True False False False False\n",
      " False  True  True  True False False False False False False  True False\n",
      " False  True]\n"
     ]
    },
    {
     "data": {
      "text/plain": [
       "array([0, 1, 2, 3, 4, 5, 6, 7, 8, 9])"
      ]
     },
     "execution_count": 10,
     "metadata": {},
     "output_type": "execute_result"
    }
   ],
   "source": [
    "# Coin flip\n",
    "coin = np.array([\"H\",\"T\"])\n",
    "np.random.choice(coin) \n",
    "\n",
    "# Die \n",
    "die = np.array([1,2,3,4,5,6])\n",
    "np.random.choice(die)\n",
    "\n",
    "# For loop for flipping multiple times\n",
    "for i in range(5):\n",
    "    print(np.random.choice(coin))\n",
    "# OR\n",
    "flips = np.random.choice(coin, size = 10) # flip coin 10 times outputs np array\n",
    "\n",
    "# Random Seed\n",
    "np.random.seed(12345) # can be any value \n",
    "\n",
    "# Seed ex\n",
    "np.random.choice([1,2,3,4,5,7]) # random\n",
    "np.random.seed(1) # Will give a random value one time, and then do the same thing after that.\n",
    "# Kind of like a one-time-use random value that can be retested.\n",
    "\n",
    "# Computing mean\n",
    "flips = np.random.choice(coin, size = 50) # Higher number of flips for higher mean accuracy\n",
    "print(flips==\"H\") # Gives lists of boolean values, if flip is h, output is true.\n",
    "approx_prob_heads = np.sum(flips == \"H\") / len(flips) # This gives you the mean of the flips.\n",
    "\n",
    "\n",
    "p = np.zeros(len(flips))\n",
    "# Give a running mean of flips. You can use this to GRAPH the coin flips.\n",
    "for ii in range(len(p)):\n",
    "    p[ii] = np.sum(flips[:ii+1] == \"H\") / len(flips) #flips[:ii+1] slices the array. \n",
    "\n",
    "# Divides each value in first array by 10.\n",
    "np.array([1,2,3]) / np.array([10,10,10])\n",
    "\n",
    "\n",
    "x = np.array([1,2,3])\n",
    "np.cumsum(x) # retruns list of sums ie [1,3,5]\n",
    "np.arange(0,10) # cumulative sum with range\n",
    "\n"
   ]
  },
  {
   "cell_type": "markdown",
   "metadata": {},
   "source": [
    "## Coin Flip, Biased Coin"
   ]
  },
  {
   "cell_type": "code",
   "execution_count": null,
   "metadata": {
    "collapsed": true,
    "jupyter": {
     "outputs_hidden": true
    }
   },
   "outputs": [],
   "source": [
    "# You can give coin a bias. \n",
    "flips = np.random.choice(coin, p=[0.75,0.25], size = 50) # Gives probability distribution where p is used to bias the coin. \n",
    "# Then use p as the range in for loop."
   ]
  },
  {
   "cell_type": "markdown",
   "metadata": {},
   "source": [
    "## Double heads"
   ]
  },
  {
   "cell_type": "code",
   "execution_count": null,
   "metadata": {
    "collapsed": true,
    "jupyter": {
     "outputs_hidden": true
    }
   },
   "outputs": [],
   "source": [
    "np.zeros(#size of array you want) # Declares an array of zeros\n",
    "np.ones() # makes an array of ones."
   ]
  },
  {
   "cell_type": "markdown",
   "metadata": {},
   "source": [
    "## List Comprehensions (USEFULL)"
   ]
  },
  {
   "cell_type": "code",
   "execution_count": null,
   "metadata": {
    "collapsed": true,
    "jupyter": {
     "outputs_hidden": true
    }
   },
   "outputs": [],
   "source": [
    "# You can create lists quickly with list comprehensions ex:\n",
    "h_letters = [letter for letter in 'human']\n",
    "print(h_letters)\n",
    "\n",
    "fair_coin = [get_head_count(0.5) for _  in range(1000)] # If you arent using i, you can put placeholder '_' in place of i and python understands.\n",
    "fair_cumulative = [np.mean(fair[:idx +1]) for idx in range(len(fair))]"
   ]
  },
  {
   "cell_type": "markdown",
   "metadata": {},
   "source": [
    "[expression for item in list] = [letter for letter in 'human]"
   ]
  },
  {
   "cell_type": "markdown",
   "metadata": {},
   "source": [
    "## Monte Carlo"
   ]
  },
  {
   "cell_type": "markdown",
   "metadata": {},
   "source": [
    "Q: What is the average number of heads we expect to get if we flip a coin 10 times\n",
    "\n",
    "A: $n*p$ \n",
    "\n",
    "-See number of successes in notebook"
   ]
  }
 ],
 "metadata": {
  "kernelspec": {
   "display_name": "Python 3",
   "language": "python",
   "name": "python3"
  },
  "language_info": {
   "codemirror_mode": {
    "name": "ipython",
    "version": 3
   },
   "file_extension": ".py",
   "mimetype": "text/x-python",
   "name": "python",
   "nbconvert_exporter": "python",
   "pygments_lexer": "ipython3",
   "version": "3.7.3"
  }
 },
 "nbformat": 4,
 "nbformat_minor": 4
}
